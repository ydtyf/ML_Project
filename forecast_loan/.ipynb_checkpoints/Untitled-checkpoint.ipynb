{
 "cells": [
  {
   "cell_type": "markdown",
   "id": "d22ffc1b",
   "metadata": {},
   "source": [
    "Analyze the loan datas from Lending Club"
   ]
  },
  {
   "cell_type": "markdown",
   "id": "37d9c901",
   "metadata": {},
   "source": [
    "In this project, I will use  to estimate whether a borrower will fully pay his/her loan based on the application infomation.\n",
    "Download the data from the website"
   ]
  },
  {
   "cell_type": "markdown",
   "id": "33513ee2",
   "metadata": {},
   "source": [
    "Packages used: pandas,"
   ]
  },
  {
   "cell_type": "code",
   "execution_count": 55,
   "id": "459dbe9f",
   "metadata": {},
   "outputs": [],
   "source": [
    "import pandas as pd\n"
   ]
  },
  {
   "cell_type": "markdown",
   "id": "71766fd2",
   "metadata": {},
   "source": [
    "Part A: Removing useless columns"
   ]
  },
  {
   "cell_type": "markdown",
   "id": "9760e6f4",
   "metadata": {},
   "source": [
    "First of all, import the data and remove duplicate."
   ]
  },
  {
   "cell_type": "code",
   "execution_count": 56,
   "id": "3abd9639",
   "metadata": {
    "scrolled": true
   },
   "outputs": [
    {
     "name": "stderr",
     "output_type": "stream",
     "text": [
      "/Users/zaiyingqi/opt/anaconda3/lib/python3.8/site-packages/IPython/core/interactiveshell.py:3165: DtypeWarning: Columns (0) have mixed types.Specify dtype option on import or set low_memory=False.\n",
      "  has_raised = await self.run_ast_nodes(code_ast.body, cell_name,\n"
     ]
    },
    {
     "name": "stdout",
     "output_type": "stream",
     "text": [
      "<class 'pandas.core.frame.DataFrame'>\n",
      "RangeIndex: 42538 entries, 0 to 42537\n",
      "Data columns (total 52 columns):\n",
      " #   Column                      Non-Null Count  Dtype  \n",
      "---  ------                      --------------  -----  \n",
      " 0   id                          42538 non-null  object \n",
      " 1   member_id                   42535 non-null  float64\n",
      " 2   loan_amnt                   42535 non-null  float64\n",
      " 3   funded_amnt                 42535 non-null  float64\n",
      " 4   funded_amnt_inv             42535 non-null  float64\n",
      " 5   term                        42535 non-null  object \n",
      " 6   int_rate                    42535 non-null  object \n",
      " 7   installment                 42535 non-null  float64\n",
      " 8   grade                       42535 non-null  object \n",
      " 9   sub_grade                   42535 non-null  object \n",
      " 10  emp_title                   39909 non-null  object \n",
      " 11  emp_length                  41423 non-null  object \n",
      " 12  home_ownership              42535 non-null  object \n",
      " 13  annual_inc                  42531 non-null  float64\n",
      " 14  verification_status         42535 non-null  object \n",
      " 15  issue_d                     42535 non-null  object \n",
      " 16  loan_status                 42535 non-null  object \n",
      " 17  pymnt_plan                  42535 non-null  object \n",
      " 18  purpose                     42535 non-null  object \n",
      " 19  title                       42522 non-null  object \n",
      " 20  zip_code                    42535 non-null  object \n",
      " 21  addr_state                  42535 non-null  object \n",
      " 22  dti                         42535 non-null  float64\n",
      " 23  delinq_2yrs                 42506 non-null  float64\n",
      " 24  earliest_cr_line            42506 non-null  object \n",
      " 25  inq_last_6mths              42506 non-null  float64\n",
      " 26  open_acc                    42506 non-null  float64\n",
      " 27  pub_rec                     42506 non-null  float64\n",
      " 28  revol_bal                   42535 non-null  float64\n",
      " 29  revol_util                  42445 non-null  object \n",
      " 30  total_acc                   42506 non-null  float64\n",
      " 31  initial_list_status         42535 non-null  object \n",
      " 32  out_prncp                   42535 non-null  float64\n",
      " 33  out_prncp_inv               42535 non-null  float64\n",
      " 34  total_pymnt                 42535 non-null  float64\n",
      " 35  total_pymnt_inv             42535 non-null  float64\n",
      " 36  total_rec_prncp             42535 non-null  float64\n",
      " 37  total_rec_int               42535 non-null  float64\n",
      " 38  total_rec_late_fee          42535 non-null  float64\n",
      " 39  recoveries                  42535 non-null  float64\n",
      " 40  collection_recovery_fee     42535 non-null  float64\n",
      " 41  last_pymnt_d                42452 non-null  object \n",
      " 42  last_pymnt_amnt             42535 non-null  float64\n",
      " 43  last_credit_pull_d          42531 non-null  object \n",
      " 44  collections_12_mths_ex_med  42390 non-null  float64\n",
      " 45  policy_code                 42535 non-null  float64\n",
      " 46  application_type            42535 non-null  object \n",
      " 47  acc_now_delinq              42506 non-null  float64\n",
      " 48  chargeoff_within_12_mths    42390 non-null  float64\n",
      " 49  delinq_amnt                 42506 non-null  float64\n",
      " 50  pub_rec_bankruptcies        41170 non-null  float64\n",
      " 51  tax_liens                   42430 non-null  float64\n",
      "dtypes: float64(30), object(22)\n",
      "memory usage: 16.9+ MB\n",
      "        id  member_id  loan_amnt  funded_amnt  funded_amnt_inv        term  \\\n",
      "0  1077501  1296599.0     5000.0       5000.0           4975.0   36 months   \n",
      "1  1077430  1314167.0     2500.0       2500.0           2500.0   60 months   \n",
      "2  1077175  1313524.0     2400.0       2400.0           2400.0   36 months   \n",
      "3  1076863  1277178.0    10000.0      10000.0          10000.0   36 months   \n",
      "4  1075358  1311748.0     3000.0       3000.0           3000.0   60 months   \n",
      "\n",
      "  int_rate  installment grade sub_grade  ... last_pymnt_amnt  \\\n",
      "0   10.65%       162.87     B        B2  ...          171.62   \n",
      "1   15.27%        59.83     C        C4  ...          119.66   \n",
      "2   15.96%        84.33     C        C5  ...          649.91   \n",
      "3   13.49%       339.31     C        C1  ...          357.48   \n",
      "4   12.69%        67.79     B        B5  ...           67.79   \n",
      "\n",
      "  last_credit_pull_d collections_12_mths_ex_med  policy_code application_type  \\\n",
      "0           Jun-2016                        0.0          1.0       INDIVIDUAL   \n",
      "1           Sep-2013                        0.0          1.0       INDIVIDUAL   \n",
      "2           Jun-2016                        0.0          1.0       INDIVIDUAL   \n",
      "3           Apr-2016                        0.0          1.0       INDIVIDUAL   \n",
      "4           Jun-2016                        0.0          1.0       INDIVIDUAL   \n",
      "\n",
      "  acc_now_delinq chargeoff_within_12_mths delinq_amnt pub_rec_bankruptcies  \\\n",
      "0            0.0                      0.0         0.0                  0.0   \n",
      "1            0.0                      0.0         0.0                  0.0   \n",
      "2            0.0                      0.0         0.0                  0.0   \n",
      "3            0.0                      0.0         0.0                  0.0   \n",
      "4            0.0                      0.0         0.0                  0.0   \n",
      "\n",
      "  tax_liens  \n",
      "0       0.0  \n",
      "1       0.0  \n",
      "2       0.0  \n",
      "3       0.0  \n",
      "4       0.0  \n",
      "\n",
      "[5 rows x 52 columns]\n"
     ]
    }
   ],
   "source": [
    "loans_2007 = pd.read_csv('loans_2007.csv')\n",
    "loans_2007.drop_duplicates()\n",
    "loans_2007.info()\n",
    "print(loans_2007.head())"
   ]
  },
  {
   "cell_type": "code",
   "execution_count": 64,
   "id": "26e083c3",
   "metadata": {},
   "outputs": [
    {
     "data": {
      "text/html": [
       "<div>\n",
       "<style scoped>\n",
       "    .dataframe tbody tr th:only-of-type {\n",
       "        vertical-align: middle;\n",
       "    }\n",
       "\n",
       "    .dataframe tbody tr th {\n",
       "        vertical-align: top;\n",
       "    }\n",
       "\n",
       "    .dataframe thead th {\n",
       "        text-align: right;\n",
       "    }\n",
       "</style>\n",
       "<table border=\"1\" class=\"dataframe\">\n",
       "  <thead>\n",
       "    <tr style=\"text-align: right;\">\n",
       "      <th></th>\n",
       "      <th>loan_amnt</th>\n",
       "      <th>term</th>\n",
       "      <th>int_rate</th>\n",
       "      <th>installment</th>\n",
       "      <th>emp_length</th>\n",
       "      <th>home_ownership</th>\n",
       "      <th>annual_inc</th>\n",
       "      <th>verification_status</th>\n",
       "      <th>loan_status</th>\n",
       "      <th>pymnt_plan</th>\n",
       "      <th>...</th>\n",
       "      <th>open_acc</th>\n",
       "      <th>pub_rec</th>\n",
       "      <th>revol_bal</th>\n",
       "      <th>revol_util</th>\n",
       "      <th>total_acc</th>\n",
       "      <th>last_credit_pull_d</th>\n",
       "      <th>acc_now_delinq</th>\n",
       "      <th>delinq_amnt</th>\n",
       "      <th>pub_rec_bankruptcies</th>\n",
       "      <th>tax_liens</th>\n",
       "    </tr>\n",
       "  </thead>\n",
       "  <tbody>\n",
       "    <tr>\n",
       "      <th>42477</th>\n",
       "      <td>2000.0</td>\n",
       "      <td>36 months</td>\n",
       "      <td>13.43%</td>\n",
       "      <td>67.81</td>\n",
       "      <td>7 years</td>\n",
       "      <td>RENT</td>\n",
       "      <td>45000.0</td>\n",
       "      <td>Not Verified</td>\n",
       "      <td>Does not meet the credit policy. Status:Fully ...</td>\n",
       "      <td>n</td>\n",
       "      <td>...</td>\n",
       "      <td>7.0</td>\n",
       "      <td>1.0</td>\n",
       "      <td>1615.0</td>\n",
       "      <td>54.1%</td>\n",
       "      <td>7.0</td>\n",
       "      <td>Apr-2016</td>\n",
       "      <td>0.0</td>\n",
       "      <td>0.0</td>\n",
       "      <td>NaN</td>\n",
       "      <td>1.0</td>\n",
       "    </tr>\n",
       "  </tbody>\n",
       "</table>\n",
       "<p>1 rows × 27 columns</p>\n",
       "</div>"
      ],
      "text/plain": [
       "       loan_amnt        term int_rate  installment emp_length home_ownership  \\\n",
       "42477     2000.0   36 months   13.43%        67.81    7 years           RENT   \n",
       "\n",
       "       annual_inc verification_status  \\\n",
       "42477     45000.0        Not Verified   \n",
       "\n",
       "                                             loan_status pymnt_plan  ...  \\\n",
       "42477  Does not meet the credit policy. Status:Fully ...          n  ...   \n",
       "\n",
       "      open_acc pub_rec revol_bal  revol_util  total_acc last_credit_pull_d  \\\n",
       "42477      7.0     1.0    1615.0       54.1%        7.0           Apr-2016   \n",
       "\n",
       "       acc_now_delinq  delinq_amnt  pub_rec_bankruptcies  tax_liens  \n",
       "42477             0.0          0.0                   NaN        1.0  \n",
       "\n",
       "[1 rows x 27 columns]"
      ]
     },
     "execution_count": 64,
     "metadata": {},
     "output_type": "execute_result"
    }
   ],
   "source": [
    "loans_2007.loc[loans_2007['tax_liens']==1.0]"
   ]
  },
  {
   "cell_type": "markdown",
   "id": "51da299b",
   "metadata": {},
   "source": [
    "Now begin to reduce the columns of the data.\n",
    "From the discription, we can remove some features. They are listed below:\n",
    "Identity-based data: id, member_id\n",
    "Overlap data: grade, sub_grade: They are same as the int_rate; zip_code: It is same as the addrs_ate as it only reveal 3 digits.\n",
    "Lender related: funded_amnt, funded_amnt_inv, issue_d, out_prncp, out_prncp_inv, total_pymnt, total_pymnt_inv, total_rec_prncp, total_rec_int, total_rec_late_fee, recoveries, collection_recovery_fee, last_pymnt_d. They are data related to current lander, which we don't have as a potential lander."
   ]
  },
  {
   "cell_type": "code",
   "execution_count": 57,
   "id": "f82fcdd7",
   "metadata": {},
   "outputs": [],
   "source": [
    "loans_2007 = loans_2007.drop([\"id\", \"member_id\", \"funded_amnt\", \"funded_amnt_inv\", \"grade\", \"sub_grade\", \"issue_d\"], axis=1)\n",
    "loans_2007 = loans_2007.drop([\"zip_code\", \"out_prncp\", \"out_prncp_inv\", \"total_pymnt\", \"total_pymnt_inv\", \"total_rec_prncp\"], axis=1)\n",
    "loans_2007 = loans_2007.drop([\"total_rec_int\", \"total_rec_late_fee\", \"recoveries\", \"collection_recovery_fee\", \"last_pymnt_d\", \"last_pymnt_amnt\"], axis=1)"
   ]
  },
  {
   "cell_type": "markdown",
   "id": "e733ee13",
   "metadata": {},
   "source": [
    "There are some special that are hard to replace na. For example, more than 30659 different title are filled in emp_title. Thus we have to remove it. Also, too many unique values make it useless here."
   ]
  },
  {
   "cell_type": "code",
   "execution_count": 58,
   "id": "1c4a8616",
   "metadata": {},
   "outputs": [
    {
     "name": "stdout",
     "output_type": "stream",
     "text": [
      "2629\n",
      "30659\n"
     ]
    }
   ],
   "source": [
    "print(sum(loans_2007['emp_title'].isna()))\n",
    "print(len(loans_2007['emp_title'].unique()))\n",
    "loans_2007 = loans_2007.drop(['emp_title'], axis = 1)\n"
   ]
  },
  {
   "cell_type": "markdown",
   "id": "ed1c1997",
   "metadata": {},
   "source": [
    "Finally, if a column only contains one single value(na is not account), it contributes nothing to our model. They are pymnt_plan, initial_list_status, collections_12_mths_ex_med, policy_code, application_type, acc_now_delinq, chargeoff_within_12_mths, delinq_amnt, tax_liens."
   ]
  },
  {
   "cell_type": "code",
   "execution_count": 59,
   "id": "464ed028",
   "metadata": {},
   "outputs": [
    {
     "name": "stdout",
     "output_type": "stream",
     "text": [
      "loan_amnt                       898\n",
      "term                              2\n",
      "int_rate                        394\n",
      "installment                   16459\n",
      "emp_length                       11\n",
      "home_ownership                    5\n",
      "annual_inc                     5597\n",
      "verification_status               3\n",
      "loan_status                       9\n",
      "pymnt_plan                        2\n",
      "purpose                          14\n",
      "title                         21264\n",
      "addr_state                       50\n",
      "dti                            2894\n",
      "delinq_2yrs                      12\n",
      "earliest_cr_line                530\n",
      "inq_last_6mths                   28\n",
      "open_acc                         44\n",
      "pub_rec                           6\n",
      "revol_bal                     22709\n",
      "revol_util                     1119\n",
      "total_acc                        83\n",
      "initial_list_status               1\n",
      "last_credit_pull_d              108\n",
      "collections_12_mths_ex_med        1\n",
      "policy_code                       1\n",
      "application_type                  1\n",
      "acc_now_delinq                    2\n",
      "chargeoff_within_12_mths          1\n",
      "delinq_amnt                       3\n",
      "pub_rec_bankruptcies              3\n",
      "tax_liens                         2\n",
      "dtype: int64\n",
      "['initial_list_status', 'collections_12_mths_ex_med', 'policy_code', 'application_type', 'chargeoff_within_12_mths']\n"
     ]
    }
   ],
   "source": [
    "cur_col_for_one = loans_2007.nunique()\n",
    "print(cur_col_for_one)\n",
    "remove_one = []\n",
    "for idx, value in cur_col_for_one.items():\n",
    "    if value == 1:\n",
    "        remove_one.append(idx)\n",
    "print(remove_one)\n",
    "loans_2007 = loans_2007.drop(remove_one, axis=1)\n"
   ]
  },
  {
   "cell_type": "code",
   "execution_count": 60,
   "id": "758f8415",
   "metadata": {},
   "outputs": [
    {
     "name": "stdout",
     "output_type": "stream",
     "text": [
      "<class 'pandas.core.frame.DataFrame'>\n",
      "RangeIndex: 42538 entries, 0 to 42537\n",
      "Data columns (total 27 columns):\n",
      " #   Column                Non-Null Count  Dtype  \n",
      "---  ------                --------------  -----  \n",
      " 0   loan_amnt             42535 non-null  float64\n",
      " 1   term                  42535 non-null  object \n",
      " 2   int_rate              42535 non-null  object \n",
      " 3   installment           42535 non-null  float64\n",
      " 4   emp_length            41423 non-null  object \n",
      " 5   home_ownership        42535 non-null  object \n",
      " 6   annual_inc            42531 non-null  float64\n",
      " 7   verification_status   42535 non-null  object \n",
      " 8   loan_status           42535 non-null  object \n",
      " 9   pymnt_plan            42535 non-null  object \n",
      " 10  purpose               42535 non-null  object \n",
      " 11  title                 42522 non-null  object \n",
      " 12  addr_state            42535 non-null  object \n",
      " 13  dti                   42535 non-null  float64\n",
      " 14  delinq_2yrs           42506 non-null  float64\n",
      " 15  earliest_cr_line      42506 non-null  object \n",
      " 16  inq_last_6mths        42506 non-null  float64\n",
      " 17  open_acc              42506 non-null  float64\n",
      " 18  pub_rec               42506 non-null  float64\n",
      " 19  revol_bal             42535 non-null  float64\n",
      " 20  revol_util            42445 non-null  object \n",
      " 21  total_acc             42506 non-null  float64\n",
      " 22  last_credit_pull_d    42531 non-null  object \n",
      " 23  acc_now_delinq        42506 non-null  float64\n",
      " 24  delinq_amnt           42506 non-null  float64\n",
      " 25  pub_rec_bankruptcies  41170 non-null  float64\n",
      " 26  tax_liens             42430 non-null  float64\n",
      "dtypes: float64(14), object(13)\n",
      "memory usage: 8.8+ MB\n",
      "   loan_amnt        term int_rate  installment emp_length home_ownership  \\\n",
      "0     5000.0   36 months   10.65%       162.87  10+ years           RENT   \n",
      "1     2500.0   60 months   15.27%        59.83   < 1 year           RENT   \n",
      "2     2400.0   36 months   15.96%        84.33  10+ years           RENT   \n",
      "3    10000.0   36 months   13.49%       339.31  10+ years           RENT   \n",
      "4     3000.0   60 months   12.69%        67.79     1 year           RENT   \n",
      "\n",
      "   annual_inc verification_status  loan_status pymnt_plan  ... open_acc  \\\n",
      "0     24000.0            Verified   Fully Paid          n  ...      3.0   \n",
      "1     30000.0     Source Verified  Charged Off          n  ...      3.0   \n",
      "2     12252.0        Not Verified   Fully Paid          n  ...      2.0   \n",
      "3     49200.0     Source Verified   Fully Paid          n  ...     10.0   \n",
      "4     80000.0     Source Verified      Current          n  ...     15.0   \n",
      "\n",
      "  pub_rec revol_bal  revol_util  total_acc last_credit_pull_d  acc_now_delinq  \\\n",
      "0     0.0   13648.0       83.7%        9.0           Jun-2016             0.0   \n",
      "1     0.0    1687.0        9.4%        4.0           Sep-2013             0.0   \n",
      "2     0.0    2956.0       98.5%       10.0           Jun-2016             0.0   \n",
      "3     0.0    5598.0         21%       37.0           Apr-2016             0.0   \n",
      "4     0.0   27783.0       53.9%       38.0           Jun-2016             0.0   \n",
      "\n",
      "   delinq_amnt  pub_rec_bankruptcies  tax_liens  \n",
      "0          0.0                   0.0        0.0  \n",
      "1          0.0                   0.0        0.0  \n",
      "2          0.0                   0.0        0.0  \n",
      "3          0.0                   0.0        0.0  \n",
      "4          0.0                   0.0        0.0  \n",
      "\n",
      "[5 rows x 27 columns]\n"
     ]
    }
   ],
   "source": [
    "loans_2007.info()\n",
    "print(loans_2007.head())"
   ]
  },
  {
   "cell_type": "markdown",
   "id": "c28ca48e",
   "metadata": {},
   "source": [
    "Now, let's deal with the main output: loan_status. First let's see how many status it has."
   ]
  },
  {
   "cell_type": "code",
   "execution_count": 61,
   "id": "37c88a1a",
   "metadata": {},
   "outputs": [
    {
     "name": "stdout",
     "output_type": "stream",
     "text": [
      "Fully Paid                                             33136\n",
      "Charged Off                                             5634\n",
      "Does not meet the credit policy. Status:Fully Paid      1988\n",
      "Current                                                  961\n",
      "Does not meet the credit policy. Status:Charged Off      761\n",
      "Late (31-120 days)                                        24\n",
      "In Grace Period                                           20\n",
      "Late (16-30 days)                                          8\n",
      "Default                                                    3\n",
      "Name: loan_status, dtype: int64\n"
     ]
    }
   ],
   "source": [
    "print(loans_2007['loan_status'].value_counts())"
   ]
  },
  {
   "cell_type": "markdown",
   "id": "c27322a1",
   "metadata": {},
   "source": [
    "According to the definition, here we only care about 'Fully Paid' or 'Charged Off'. As a lander, we welcome the first case and try to avoid the second case. We will use the binary number to replace it."
   ]
  },
  {
   "cell_type": "code",
   "execution_count": 26,
   "id": "1d106f61",
   "metadata": {},
   "outputs": [],
   "source": [
    "loans_2007 = loans_2007[(loans_2007['loan_status'] == 'Fully Paid') | (loans_2007['loan_status'] == 'Charged Off')]\n",
    "\n",
    "status_replace = {\n",
    "    \"loan_status\" : {\n",
    "        \"Fully Paid\": 1,\n",
    "        \"Charged Off\": 0,\n",
    "    }\n",
    "}\n",
    "loans_2007 = loans_2007.replace(status_replace)"
   ]
  },
  {
   "cell_type": "code",
   "execution_count": 29,
   "id": "956ee4be",
   "metadata": {},
   "outputs": [
    {
     "name": "stdout",
     "output_type": "stream",
     "text": [
      "<class 'pandas.core.frame.DataFrame'>\n",
      "Int64Index: 38770 entries, 0 to 39785\n",
      "Data columns (total 37 columns):\n",
      " #   Column                      Non-Null Count  Dtype  \n",
      "---  ------                      --------------  -----  \n",
      " 0   loan_amnt                   38770 non-null  float64\n",
      " 1   term                        38770 non-null  object \n",
      " 2   int_rate                    38770 non-null  object \n",
      " 3   installment                 38770 non-null  float64\n",
      " 4   emp_length                  37734 non-null  object \n",
      " 5   home_ownership              38770 non-null  object \n",
      " 6   annual_inc                  38770 non-null  float64\n",
      " 7   verification_status         38770 non-null  object \n",
      " 8   loan_status                 38770 non-null  int64  \n",
      " 9   pymnt_plan                  38770 non-null  object \n",
      " 10  purpose                     38770 non-null  object \n",
      " 11  title                       38759 non-null  object \n",
      " 12  addr_state                  38770 non-null  object \n",
      " 13  dti                         38770 non-null  float64\n",
      " 14  delinq_2yrs                 38770 non-null  float64\n",
      " 15  earliest_cr_line            38770 non-null  object \n",
      " 16  inq_last_6mths              38770 non-null  float64\n",
      " 17  open_acc                    38770 non-null  float64\n",
      " 18  pub_rec                     38770 non-null  float64\n",
      " 19  revol_bal                   38770 non-null  float64\n",
      " 20  revol_util                  38720 non-null  object \n",
      " 21  total_acc                   38770 non-null  float64\n",
      " 22  initial_list_status         38770 non-null  object \n",
      " 23  out_prncp                   38770 non-null  float64\n",
      " 24  out_prncp_inv               38770 non-null  float64\n",
      " 25  total_pymnt                 38770 non-null  float64\n",
      " 26  total_pymnt_inv             38770 non-null  float64\n",
      " 27  total_rec_prncp             38770 non-null  float64\n",
      " 28  last_credit_pull_d          38768 non-null  object \n",
      " 29  collections_12_mths_ex_med  38714 non-null  float64\n",
      " 30  policy_code                 38770 non-null  float64\n",
      " 31  application_type            38770 non-null  object \n",
      " 32  acc_now_delinq              38770 non-null  float64\n",
      " 33  chargeoff_within_12_mths    38714 non-null  float64\n",
      " 34  delinq_amnt                 38770 non-null  float64\n",
      " 35  pub_rec_bankruptcies        38073 non-null  float64\n",
      " 36  tax_liens                   38731 non-null  float64\n",
      "dtypes: float64(22), int64(1), object(14)\n",
      "memory usage: 11.2+ MB\n",
      "0        1\n",
      "1        0\n",
      "2        1\n",
      "3        1\n",
      "5        1\n",
      "        ..\n",
      "39781    1\n",
      "39782    1\n",
      "39783    1\n",
      "39784    1\n",
      "39785    1\n",
      "Name: loan_status, Length: 38770, dtype: int64\n"
     ]
    }
   ],
   "source": [
    "loans_2007.info()\n",
    "print(loans_2007['loan_status'])"
   ]
  },
  {
   "cell_type": "markdown",
   "id": "6d8810c6",
   "metadata": {},
   "source": [
    "We have dropped all unwanted columns and reduced the rows based on the output, now it's time to clean the rest input data."
   ]
  },
  {
   "cell_type": "markdown",
   "id": "b0612a6c",
   "metadata": {},
   "source": [
    "Part B: Preparing data"
   ]
  },
  {
   "cell_type": "markdown",
   "id": "b32548a5",
   "metadata": {},
   "source": [
    "First of all, solve the missing values."
   ]
  },
  {
   "cell_type": "code",
   "execution_count": 37,
   "id": "42b623e0",
   "metadata": {},
   "outputs": [
    {
     "name": "stdout",
     "output_type": "stream",
     "text": [
      "emp_length              1036\n",
      "title                     11\n",
      "revol_util                50\n",
      "last_credit_pull_d         2\n",
      "pub_rec_bankruptcies     697\n",
      "dtype: int64\n"
     ]
    }
   ],
   "source": [
    "null_counts = loans_2007.isnull().sum()\n",
    "print(null_counts[null_counts>0])"
   ]
  },
  {
   "cell_type": "markdown",
   "id": "8a879fed",
   "metadata": {},
   "source": [
    "If the missing values is small compared to the dataset, just drop it. That is, title, revol_util, last_credit_pull_d."
   ]
  },
  {
   "cell_type": "code",
   "execution_count": 44,
   "id": "2f6ca6e7",
   "metadata": {},
   "outputs": [],
   "source": [
    "loans_2007 = loans_2007.dropna(subset=['title', 'revol_util', 'last_credit_pull_d'])"
   ]
  },
  {
   "cell_type": "markdown",
   "id": "00f291d3",
   "metadata": {},
   "source": [
    "Now let's deal with emp_length and pub_rec_bankruptcies."
   ]
  },
  {
   "cell_type": "code",
   "execution_count": 46,
   "id": "c12116a8",
   "metadata": {},
   "outputs": [
    {
     "name": "stdout",
     "output_type": "stream",
     "text": [
      "10+ years    0.220761\n",
      "< 1 year     0.116594\n",
      "2 years      0.111169\n",
      "3 years      0.103909\n",
      "4 years      0.086625\n",
      "5 years      0.082724\n",
      "1 year       0.082052\n",
      "6 years      0.056243\n",
      "7 years      0.044281\n",
      "8 years      0.037254\n",
      "9 years      0.031726\n",
      "NaN          0.026662\n",
      "Name: emp_length, dtype: float64\n",
      "0.0    0.939391\n",
      "1.0    0.042499\n",
      "NaN    0.017981\n",
      "2.0    0.000129\n",
      "Name: pub_rec_bankruptcies, dtype: float64\n"
     ]
    }
   ],
   "source": [
    "for idx, value in null_counts[null_counts>0].items():\n",
    "    print(loans_2007[idx].value_counts(normalize=True, dropna=False))"
   ]
  },
  {
   "cell_type": "markdown",
   "id": "cfcd7301",
   "metadata": {},
   "source": [
    "Typically there are several ways to fill it. If we have enough side information, we could deduce the most possible answer. Or we could use mean or mode to replace it. Here, since the percent of na in pub_rec_bankruptcies is small, we could replace na with the mode, namely 0.0. For emp_length, it's a hard issue, since adding it to any part will increase its portion significantly. Thus we drop the na of it."
   ]
  },
  {
   "cell_type": "code",
   "execution_count": 47,
   "id": "4c42ec30",
   "metadata": {},
   "outputs": [],
   "source": [
    "loans_2007['pub_rec_bankruptcies'] = loans_2007['pub_rec_bankruptcies'].fillna(0.0)\n",
    "loans_2007 = loans_2007.dropna()"
   ]
  },
  {
   "cell_type": "markdown",
   "id": "95c37289",
   "metadata": {},
   "source": [
    "Now we have solved the missing values. Let's transform the categorical columns into numbers."
   ]
  },
  {
   "cell_type": "code",
   "execution_count": 49,
   "id": "0fa6de92",
   "metadata": {},
   "outputs": [
    {
     "name": "stdout",
     "output_type": "stream",
     "text": [
      "<class 'pandas.core.frame.DataFrame'>\n",
      "Int64Index: 37675 entries, 0 to 39785\n",
      "Data columns (total 26 columns):\n",
      " #   Column                Non-Null Count  Dtype  \n",
      "---  ------                --------------  -----  \n",
      " 0   loan_amnt             37675 non-null  float64\n",
      " 1   term                  37675 non-null  object \n",
      " 2   int_rate              37675 non-null  object \n",
      " 3   installment           37675 non-null  float64\n",
      " 4   emp_length            37675 non-null  object \n",
      " 5   home_ownership        37675 non-null  object \n",
      " 6   annual_inc            37675 non-null  float64\n",
      " 7   verification_status   37675 non-null  object \n",
      " 8   loan_status           37675 non-null  int64  \n",
      " 9   purpose               37675 non-null  object \n",
      " 10  title                 37675 non-null  object \n",
      " 11  addr_state            37675 non-null  object \n",
      " 12  dti                   37675 non-null  float64\n",
      " 13  delinq_2yrs           37675 non-null  float64\n",
      " 14  earliest_cr_line      37675 non-null  object \n",
      " 15  inq_last_6mths        37675 non-null  float64\n",
      " 16  open_acc              37675 non-null  float64\n",
      " 17  pub_rec               37675 non-null  float64\n",
      " 18  revol_bal             37675 non-null  float64\n",
      " 19  revol_util            37675 non-null  object \n",
      " 20  total_acc             37675 non-null  float64\n",
      " 21  total_pymnt           37675 non-null  float64\n",
      " 22  total_pymnt_inv       37675 non-null  float64\n",
      " 23  total_rec_prncp       37675 non-null  float64\n",
      " 24  last_credit_pull_d    37675 non-null  object \n",
      " 25  pub_rec_bankruptcies  37675 non-null  float64\n",
      "dtypes: float64(14), int64(1), object(11)\n",
      "memory usage: 7.8+ MB\n"
     ]
    }
   ],
   "source": [
    "loans_2007.info()"
   ]
  },
  {
   "cell_type": "code",
   "execution_count": 54,
   "id": "e12887dd",
   "metadata": {},
   "outputs": [
    {
     "name": "stdout",
     "output_type": "stream",
     "text": [
      "['term', 'int_rate', 'emp_length', 'home_ownership', 'verification_status', 'purpose', 'title', 'addr_state', 'earliest_cr_line', 'revol_util', 'last_credit_pull_d']\n"
     ]
    }
   ],
   "source": [
    "object_col = []\n",
    "for col, dty in loans_2007.dtypes.to_dict().items():\n",
    "    if dty == 'object':\n",
    "        object_col.append(col)\n",
    "print(object_col)\n"
   ]
  },
  {
   "cell_type": "code",
   "execution_count": null,
   "id": "f828c72d",
   "metadata": {},
   "outputs": [],
   "source": []
  },
  {
   "cell_type": "code",
   "execution_count": null,
   "id": "2bcc6622",
   "metadata": {},
   "outputs": [],
   "source": []
  },
  {
   "cell_type": "code",
   "execution_count": null,
   "id": "a093e3e6",
   "metadata": {},
   "outputs": [],
   "source": []
  },
  {
   "cell_type": "code",
   "execution_count": null,
   "id": "b5636dba",
   "metadata": {},
   "outputs": [],
   "source": []
  },
  {
   "cell_type": "code",
   "execution_count": null,
   "id": "0cc37869",
   "metadata": {},
   "outputs": [],
   "source": []
  },
  {
   "cell_type": "code",
   "execution_count": null,
   "id": "8c58cb57",
   "metadata": {},
   "outputs": [],
   "source": []
  }
 ],
 "metadata": {
  "kernelspec": {
   "display_name": "Python 3",
   "language": "python",
   "name": "python3"
  },
  "language_info": {
   "codemirror_mode": {
    "name": "ipython",
    "version": 3
   },
   "file_extension": ".py",
   "mimetype": "text/x-python",
   "name": "python",
   "nbconvert_exporter": "python",
   "pygments_lexer": "ipython3",
   "version": "3.8.8"
  }
 },
 "nbformat": 4,
 "nbformat_minor": 5
}
