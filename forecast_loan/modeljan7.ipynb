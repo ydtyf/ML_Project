{
 "cells": [
  {
   "cell_type": "markdown",
   "metadata": {
    "datalore": {
     "hide_input_from_viewers": false,
     "hide_output_from_viewers": false,
     "node_id": "2CxFrtmVoatIYr0bsAbqQC",
     "report_properties": {},
     "type": "MD"
    }
   },
   "source": [
    "Analyze the loan datas from Lending Club"
   ]
  },
  {
   "cell_type": "markdown",
   "metadata": {
    "datalore": {
     "hide_input_from_viewers": false,
     "hide_output_from_viewers": false,
     "node_id": "58VdsjOOtwuIr6hNWervXG",
     "report_properties": {},
     "type": "MD"
    }
   },
   "source": [
    "In this project, I will use  to estimate whether a borrower will fully pay his/her loan based on the application infomation.\n",
    "Download the data from the website"
   ]
  },
  {
   "cell_type": "markdown",
   "metadata": {
    "datalore": {
     "hide_input_from_viewers": false,
     "hide_output_from_viewers": false,
     "node_id": "fpJ5bM5Jidd9BxAlnFlw90",
     "report_properties": {},
     "type": "MD"
    }
   },
   "source": [
    "Packages used: pandas,"
   ]
  },
  {
   "cell_type": "code",
   "execution_count": 1,
   "metadata": {
    "datalore": {
     "hide_input_from_viewers": true,
     "hide_output_from_viewers": true,
     "node_id": "BgKrqshKyXNoxJUSFrIUF2",
     "type": "CODE"
    }
   },
   "outputs": [
    {
     "name": "stdout",
     "output_type": "stream",
     "text": [
      "Collecting tensorflow_decision_forests\n",
      "  Downloading tensorflow_decision_forests-1.1.0-cp38-cp38-macosx_10_14_x86_64.whl (11.9 MB)\n",
      "\u001b[K     |████████████████████████████████| 11.9 MB 5.9 MB/s eta 0:00:01\n",
      "\u001b[?25hRequirement already satisfied: tensorflow~=2.11.0 in /Users/zaiyingqi/opt/anaconda3/lib/python3.8/site-packages (from tensorflow_decision_forests) (2.11.0)\n",
      "Requirement already satisfied: numpy in /Users/zaiyingqi/opt/anaconda3/lib/python3.8/site-packages (from tensorflow_decision_forests) (1.20.1)\n",
      "Requirement already satisfied: wurlitzer in /Users/zaiyingqi/opt/anaconda3/lib/python3.8/site-packages (from tensorflow_decision_forests) (2.1.0)\n",
      "Requirement already satisfied: wheel in /Users/zaiyingqi/opt/anaconda3/lib/python3.8/site-packages (from tensorflow_decision_forests) (0.36.2)\n",
      "Requirement already satisfied: absl-py in /Users/zaiyingqi/opt/anaconda3/lib/python3.8/site-packages (from tensorflow_decision_forests) (1.3.0)\n",
      "Requirement already satisfied: pandas in /Users/zaiyingqi/opt/anaconda3/lib/python3.8/site-packages (from tensorflow_decision_forests) (1.2.4)\n",
      "Requirement already satisfied: six in /Users/zaiyingqi/opt/anaconda3/lib/python3.8/site-packages (from tensorflow_decision_forests) (1.15.0)\n",
      "Requirement already satisfied: wrapt>=1.11.0 in /Users/zaiyingqi/opt/anaconda3/lib/python3.8/site-packages (from tensorflow~=2.11.0->tensorflow_decision_forests) (1.12.1)\n",
      "Requirement already satisfied: protobuf<3.20,>=3.9.2 in /Users/zaiyingqi/opt/anaconda3/lib/python3.8/site-packages (from tensorflow~=2.11.0->tensorflow_decision_forests) (3.19.6)\n",
      "Requirement already satisfied: google-pasta>=0.1.1 in /Users/zaiyingqi/opt/anaconda3/lib/python3.8/site-packages (from tensorflow~=2.11.0->tensorflow_decision_forests) (0.2.0)\n",
      "Requirement already satisfied: tensorflow-io-gcs-filesystem>=0.23.1 in /Users/zaiyingqi/opt/anaconda3/lib/python3.8/site-packages (from tensorflow~=2.11.0->tensorflow_decision_forests) (0.28.0)\n",
      "Requirement already satisfied: h5py>=2.9.0 in /Users/zaiyingqi/opt/anaconda3/lib/python3.8/site-packages (from tensorflow~=2.11.0->tensorflow_decision_forests) (2.10.0)\n",
      "Requirement already satisfied: tensorboard<2.12,>=2.11 in /Users/zaiyingqi/opt/anaconda3/lib/python3.8/site-packages (from tensorflow~=2.11.0->tensorflow_decision_forests) (2.11.0)\n",
      "Requirement already satisfied: typing-extensions>=3.6.6 in /Users/zaiyingqi/opt/anaconda3/lib/python3.8/site-packages (from tensorflow~=2.11.0->tensorflow_decision_forests) (3.7.4.3)\n",
      "Requirement already satisfied: keras<2.12,>=2.11.0 in /Users/zaiyingqi/opt/anaconda3/lib/python3.8/site-packages (from tensorflow~=2.11.0->tensorflow_decision_forests) (2.11.0)\n",
      "Requirement already satisfied: packaging in /Users/zaiyingqi/opt/anaconda3/lib/python3.8/site-packages (from tensorflow~=2.11.0->tensorflow_decision_forests) (20.9)\n",
      "Requirement already satisfied: tensorflow-estimator<2.12,>=2.11.0 in /Users/zaiyingqi/opt/anaconda3/lib/python3.8/site-packages (from tensorflow~=2.11.0->tensorflow_decision_forests) (2.11.0)\n",
      "Requirement already satisfied: setuptools in /Users/zaiyingqi/opt/anaconda3/lib/python3.8/site-packages (from tensorflow~=2.11.0->tensorflow_decision_forests) (52.0.0.post20210125)\n",
      "Requirement already satisfied: astunparse>=1.6.0 in /Users/zaiyingqi/opt/anaconda3/lib/python3.8/site-packages (from tensorflow~=2.11.0->tensorflow_decision_forests) (1.6.3)\n",
      "Requirement already satisfied: gast<=0.4.0,>=0.2.1 in /Users/zaiyingqi/opt/anaconda3/lib/python3.8/site-packages (from tensorflow~=2.11.0->tensorflow_decision_forests) (0.4.0)\n",
      "Requirement already satisfied: flatbuffers>=2.0 in /Users/zaiyingqi/opt/anaconda3/lib/python3.8/site-packages (from tensorflow~=2.11.0->tensorflow_decision_forests) (22.10.26)\n",
      "Requirement already satisfied: grpcio<2.0,>=1.24.3 in /Users/zaiyingqi/opt/anaconda3/lib/python3.8/site-packages (from tensorflow~=2.11.0->tensorflow_decision_forests) (1.51.0)\n",
      "Requirement already satisfied: libclang>=13.0.0 in /Users/zaiyingqi/opt/anaconda3/lib/python3.8/site-packages (from tensorflow~=2.11.0->tensorflow_decision_forests) (14.0.6)\n",
      "Requirement already satisfied: opt-einsum>=2.3.2 in /Users/zaiyingqi/opt/anaconda3/lib/python3.8/site-packages (from tensorflow~=2.11.0->tensorflow_decision_forests) (3.3.0)\n",
      "Requirement already satisfied: termcolor>=1.1.0 in /Users/zaiyingqi/opt/anaconda3/lib/python3.8/site-packages (from tensorflow~=2.11.0->tensorflow_decision_forests) (2.1.1)\n",
      "Requirement already satisfied: werkzeug>=1.0.1 in /Users/zaiyingqi/opt/anaconda3/lib/python3.8/site-packages (from tensorboard<2.12,>=2.11->tensorflow~=2.11.0->tensorflow_decision_forests) (1.0.1)\n",
      "Requirement already satisfied: markdown>=2.6.8 in /Users/zaiyingqi/opt/anaconda3/lib/python3.8/site-packages (from tensorboard<2.12,>=2.11->tensorflow~=2.11.0->tensorflow_decision_forests) (3.4.1)\n",
      "Requirement already satisfied: tensorboard-data-server<0.7.0,>=0.6.0 in /Users/zaiyingqi/opt/anaconda3/lib/python3.8/site-packages (from tensorboard<2.12,>=2.11->tensorflow~=2.11.0->tensorflow_decision_forests) (0.6.1)\n",
      "Requirement already satisfied: google-auth-oauthlib<0.5,>=0.4.1 in /Users/zaiyingqi/opt/anaconda3/lib/python3.8/site-packages (from tensorboard<2.12,>=2.11->tensorflow~=2.11.0->tensorflow_decision_forests) (0.4.6)\n",
      "Requirement already satisfied: google-auth<3,>=1.6.3 in /Users/zaiyingqi/opt/anaconda3/lib/python3.8/site-packages (from tensorboard<2.12,>=2.11->tensorflow~=2.11.0->tensorflow_decision_forests) (2.14.1)\n",
      "Requirement already satisfied: requests<3,>=2.21.0 in /Users/zaiyingqi/opt/anaconda3/lib/python3.8/site-packages (from tensorboard<2.12,>=2.11->tensorflow~=2.11.0->tensorflow_decision_forests) (2.25.1)\n",
      "Requirement already satisfied: tensorboard-plugin-wit>=1.6.0 in /Users/zaiyingqi/opt/anaconda3/lib/python3.8/site-packages (from tensorboard<2.12,>=2.11->tensorflow~=2.11.0->tensorflow_decision_forests) (1.8.1)\n",
      "Requirement already satisfied: rsa<5,>=3.1.4 in /Users/zaiyingqi/opt/anaconda3/lib/python3.8/site-packages (from google-auth<3,>=1.6.3->tensorboard<2.12,>=2.11->tensorflow~=2.11.0->tensorflow_decision_forests) (4.9)\n",
      "Requirement already satisfied: cachetools<6.0,>=2.0.0 in /Users/zaiyingqi/opt/anaconda3/lib/python3.8/site-packages (from google-auth<3,>=1.6.3->tensorboard<2.12,>=2.11->tensorflow~=2.11.0->tensorflow_decision_forests) (5.2.0)\n",
      "Requirement already satisfied: pyasn1-modules>=0.2.1 in /Users/zaiyingqi/opt/anaconda3/lib/python3.8/site-packages (from google-auth<3,>=1.6.3->tensorboard<2.12,>=2.11->tensorflow~=2.11.0->tensorflow_decision_forests) (0.2.8)\n",
      "Requirement already satisfied: requests-oauthlib>=0.7.0 in /Users/zaiyingqi/opt/anaconda3/lib/python3.8/site-packages (from google-auth-oauthlib<0.5,>=0.4.1->tensorboard<2.12,>=2.11->tensorflow~=2.11.0->tensorflow_decision_forests) (1.3.1)\n",
      "Requirement already satisfied: importlib-metadata>=4.4 in /Users/zaiyingqi/opt/anaconda3/lib/python3.8/site-packages (from markdown>=2.6.8->tensorboard<2.12,>=2.11->tensorflow~=2.11.0->tensorflow_decision_forests) (5.0.0)\n",
      "Requirement already satisfied: zipp>=0.5 in /Users/zaiyingqi/opt/anaconda3/lib/python3.8/site-packages (from importlib-metadata>=4.4->markdown>=2.6.8->tensorboard<2.12,>=2.11->tensorflow~=2.11.0->tensorflow_decision_forests) (3.4.1)\n",
      "Requirement already satisfied: pyasn1<0.5.0,>=0.4.6 in /Users/zaiyingqi/opt/anaconda3/lib/python3.8/site-packages (from pyasn1-modules>=0.2.1->google-auth<3,>=1.6.3->tensorboard<2.12,>=2.11->tensorflow~=2.11.0->tensorflow_decision_forests) (0.4.8)\n",
      "Requirement already satisfied: chardet<5,>=3.0.2 in /Users/zaiyingqi/opt/anaconda3/lib/python3.8/site-packages (from requests<3,>=2.21.0->tensorboard<2.12,>=2.11->tensorflow~=2.11.0->tensorflow_decision_forests) (4.0.0)\n",
      "Requirement already satisfied: certifi>=2017.4.17 in /Users/zaiyingqi/opt/anaconda3/lib/python3.8/site-packages (from requests<3,>=2.21.0->tensorboard<2.12,>=2.11->tensorflow~=2.11.0->tensorflow_decision_forests) (2020.12.5)\n",
      "Requirement already satisfied: idna<3,>=2.5 in /Users/zaiyingqi/opt/anaconda3/lib/python3.8/site-packages (from requests<3,>=2.21.0->tensorboard<2.12,>=2.11->tensorflow~=2.11.0->tensorflow_decision_forests) (2.10)\n",
      "Requirement already satisfied: urllib3<1.27,>=1.21.1 in /Users/zaiyingqi/opt/anaconda3/lib/python3.8/site-packages (from requests<3,>=2.21.0->tensorboard<2.12,>=2.11->tensorflow~=2.11.0->tensorflow_decision_forests) (1.26.4)\n",
      "Requirement already satisfied: oauthlib>=3.0.0 in /Users/zaiyingqi/opt/anaconda3/lib/python3.8/site-packages (from requests-oauthlib>=0.7.0->google-auth-oauthlib<0.5,>=0.4.1->tensorboard<2.12,>=2.11->tensorflow~=2.11.0->tensorflow_decision_forests) (3.2.2)\n"
     ]
    },
    {
     "name": "stdout",
     "output_type": "stream",
     "text": [
      "Requirement already satisfied: pyparsing>=2.0.2 in /Users/zaiyingqi/opt/anaconda3/lib/python3.8/site-packages (from packaging->tensorflow~=2.11.0->tensorflow_decision_forests) (2.4.7)\n",
      "Requirement already satisfied: python-dateutil>=2.7.3 in /Users/zaiyingqi/opt/anaconda3/lib/python3.8/site-packages (from pandas->tensorflow_decision_forests) (2.8.1)\n",
      "Requirement already satisfied: pytz>=2017.3 in /Users/zaiyingqi/opt/anaconda3/lib/python3.8/site-packages (from pandas->tensorflow_decision_forests) (2021.1)\n",
      "Installing collected packages: tensorflow-decision-forests\n",
      "Successfully installed tensorflow-decision-forests-1.1.0\n"
     ]
    }
   ],
   "source": [
    "!pip install tensorflow_decision_forests"
   ]
  },
  {
   "cell_type": "code",
   "execution_count": 3,
   "metadata": {
    "datalore": {
     "hide_input_from_viewers": false,
     "hide_output_from_viewers": false,
     "node_id": "2Qel6O0Rk1LfQBXB586cmY",
     "report_properties": {},
     "type": "CODE"
    }
   },
   "outputs": [],
   "source": [
    "import pandas as pd\n",
    "import tensorflow as tf\n",
    "import numpy as np\n",
    "from sklearn.linear_model import LogisticRegression\n",
    "from sklearn.preprocessing import MinMaxScaler\n",
    "from sklearn.model_selection import train_test_split\n",
    "from sklearn.model_selection import cross_val_predict\n",
    "from sklearn.metrics import confusion_matrix\n",
    "import tensorflow_decision_forests as tfdf\n",
    "import matplotlib.pyplot as plt\n",
    "from sklearn.metrics import precision_score, recall_score, f1_score, accuracy_score, fbeta_score\n",
    "from sklearn.preprocessing import MaxAbsScaler"
   ]
  },
  {
   "cell_type": "markdown",
   "metadata": {
    "datalore": {
     "hide_input_from_viewers": false,
     "hide_output_from_viewers": false,
     "node_id": "tTUbogwNhB6XtiO2QEmMHX",
     "report_properties": {},
     "type": "MD"
    }
   },
   "source": [
    "Part A: Removing useless columns"
   ]
  },
  {
   "cell_type": "markdown",
   "metadata": {
    "datalore": {
     "hide_input_from_viewers": false,
     "hide_output_from_viewers": false,
     "node_id": "eMvkus6PkbmUa8FtNstk48",
     "report_properties": {},
     "type": "MD"
    }
   },
   "source": [
    "First of all, import the data and remove duplicate."
   ]
  },
  {
   "cell_type": "code",
   "execution_count": 5,
   "metadata": {
    "datalore": {
     "hide_input_from_viewers": false,
     "hide_output_from_viewers": false,
     "node_id": "Q1oLhPuH4nIITekPdBRMd6",
     "report_properties": {},
     "type": "CODE"
    }
   },
   "outputs": [
    {
     "name": "stderr",
     "output_type": "stream",
     "text": [
      "/Users/zaiyingqi/opt/anaconda3/lib/python3.8/site-packages/IPython/core/interactiveshell.py:3165: DtypeWarning: Columns (0) have mixed types.Specify dtype option on import or set low_memory=False.\n",
      "  has_raised = await self.run_ast_nodes(code_ast.body, cell_name,\n"
     ]
    },
    {
     "name": "stdout",
     "output_type": "stream",
     "text": [
      "<class 'pandas.core.frame.DataFrame'>\n",
      "RangeIndex: 42538 entries, 0 to 42537\n",
      "Data columns (total 52 columns):\n",
      " #   Column                      Non-Null Count  Dtype  \n",
      "---  ------                      --------------  -----  \n",
      " 0   id                          42538 non-null  object \n",
      " 1   member_id                   42535 non-null  float64\n",
      " 2   loan_amnt                   42535 non-null  float64\n",
      " 3   funded_amnt                 42535 non-null  float64\n",
      " 4   funded_amnt_inv             42535 non-null  float64\n",
      " 5   term                        42535 non-null  object \n",
      " 6   int_rate                    42535 non-null  object \n",
      " 7   installment                 42535 non-null  float64\n",
      " 8   grade                       42535 non-null  object \n",
      " 9   sub_grade                   42535 non-null  object \n",
      " 10  emp_title                   39909 non-null  object \n",
      " 11  emp_length                  41423 non-null  object \n",
      " 12  home_ownership              42535 non-null  object \n",
      " 13  annual_inc                  42531 non-null  float64\n",
      " 14  verification_status         42535 non-null  object \n",
      " 15  issue_d                     42535 non-null  object \n",
      " 16  loan_status                 42535 non-null  object \n",
      " 17  pymnt_plan                  42535 non-null  object \n",
      " 18  purpose                     42535 non-null  object \n",
      " 19  title                       42522 non-null  object \n",
      " 20  zip_code                    42535 non-null  object \n",
      " 21  addr_state                  42535 non-null  object \n",
      " 22  dti                         42535 non-null  float64\n",
      " 23  delinq_2yrs                 42506 non-null  float64\n",
      " 24  earliest_cr_line            42506 non-null  object \n",
      " 25  inq_last_6mths              42506 non-null  float64\n",
      " 26  open_acc                    42506 non-null  float64\n",
      " 27  pub_rec                     42506 non-null  float64\n",
      " 28  revol_bal                   42535 non-null  float64\n",
      " 29  revol_util                  42445 non-null  object \n",
      " 30  total_acc                   42506 non-null  float64\n",
      " 31  initial_list_status         42535 non-null  object \n",
      " 32  out_prncp                   42535 non-null  float64\n",
      " 33  out_prncp_inv               42535 non-null  float64\n",
      " 34  total_pymnt                 42535 non-null  float64\n",
      " 35  total_pymnt_inv             42535 non-null  float64\n",
      " 36  total_rec_prncp             42535 non-null  float64\n",
      " 37  total_rec_int               42535 non-null  float64\n",
      " 38  total_rec_late_fee          42535 non-null  float64\n",
      " 39  recoveries                  42535 non-null  float64\n",
      " 40  collection_recovery_fee     42535 non-null  float64\n",
      " 41  last_pymnt_d                42452 non-null  object \n",
      " 42  last_pymnt_amnt             42535 non-null  float64\n",
      " 43  last_credit_pull_d          42531 non-null  object \n",
      " 44  collections_12_mths_ex_med  42390 non-null  float64\n",
      " 45  policy_code                 42535 non-null  float64\n",
      " 46  application_type            42535 non-null  object \n",
      " 47  acc_now_delinq              42506 non-null  float64\n",
      " 48  chargeoff_within_12_mths    42390 non-null  float64\n",
      " 49  delinq_amnt                 42506 non-null  float64\n",
      " 50  pub_rec_bankruptcies        41170 non-null  float64\n",
      " 51  tax_liens                   42430 non-null  float64\n",
      "dtypes: float64(30), object(22)\n",
      "memory usage: 16.9+ MB\n",
      "        id  member_id  loan_amnt  funded_amnt  funded_amnt_inv        term  \\\n",
      "0  1077501  1296599.0     5000.0       5000.0           4975.0   36 months   \n",
      "1  1077430  1314167.0     2500.0       2500.0           2500.0   60 months   \n",
      "2  1077175  1313524.0     2400.0       2400.0           2400.0   36 months   \n",
      "3  1076863  1277178.0    10000.0      10000.0          10000.0   36 months   \n",
      "4  1075358  1311748.0     3000.0       3000.0           3000.0   60 months   \n",
      "\n",
      "  int_rate  installment grade sub_grade  ... last_pymnt_amnt  \\\n",
      "0   10.65%       162.87     B        B2  ...          171.62   \n",
      "1   15.27%        59.83     C        C4  ...          119.66   \n",
      "2   15.96%        84.33     C        C5  ...          649.91   \n",
      "3   13.49%       339.31     C        C1  ...          357.48   \n",
      "4   12.69%        67.79     B        B5  ...           67.79   \n",
      "\n",
      "  last_credit_pull_d collections_12_mths_ex_med  policy_code application_type  \\\n",
      "0           Jun-2016                        0.0          1.0       INDIVIDUAL   \n",
      "1           Sep-2013                        0.0          1.0       INDIVIDUAL   \n",
      "2           Jun-2016                        0.0          1.0       INDIVIDUAL   \n",
      "3           Apr-2016                        0.0          1.0       INDIVIDUAL   \n",
      "4           Jun-2016                        0.0          1.0       INDIVIDUAL   \n",
      "\n",
      "  acc_now_delinq chargeoff_within_12_mths delinq_amnt pub_rec_bankruptcies  \\\n",
      "0            0.0                      0.0         0.0                  0.0   \n",
      "1            0.0                      0.0         0.0                  0.0   \n",
      "2            0.0                      0.0         0.0                  0.0   \n",
      "3            0.0                      0.0         0.0                  0.0   \n",
      "4            0.0                      0.0         0.0                  0.0   \n",
      "\n",
      "  tax_liens  \n",
      "0       0.0  \n",
      "1       0.0  \n",
      "2       0.0  \n",
      "3       0.0  \n",
      "4       0.0  \n",
      "\n",
      "[5 rows x 52 columns]\n"
     ]
    }
   ],
   "source": [
    "loans_2007 = pd.read_csv('loans_2007.csv')\n",
    "loans_2007.drop_duplicates()\n",
    "loans_2007.info()\n",
    "print(loans_2007.head())"
   ]
  },
  {
   "cell_type": "markdown",
   "metadata": {
    "datalore": {
     "hide_input_from_viewers": false,
     "hide_output_from_viewers": false,
     "node_id": "nnn9jmHZGfzlobRhxloTtz",
     "report_properties": {},
     "type": "MD"
    }
   },
   "source": [
    "Now begin to reduce the columns of the data.\n",
    "\n",
    "From the description, we can remove some features. They are listed below:\n",
    "\n",
    "Identity-based data: 'id', 'member_id'. We should take out these data(morally and technically).\n",
    "\n",
    "Same effect data: 'grade', 'sub_grade'. They are as same as the int_rate; zip_code. It is as same as the 'addrs_ate' as it only reveals 3 digits; 'title': it has a similar effect as 'purpose'.\n",
    "\n",
    "Lender related: 'funded_amnt', 'funded_amnt_inv', 'issue_d', 'out_prncp', 'out_prncp_inv', 'total_pymnt', 'total_pymnt_inv', 'total_rec_prncp', 'total_rec_int', 'total_rec_late_fee', 'recoveries', 'collection_recovery_fee', 'last_pymnt_d'. \n",
    "They are features related to the current lander, which we don't have when being a potential lander.\n",
    "\n",
    "Other: 'last_credit_pull_d', 'earliest_cr_line'"
   ]
  },
  {
   "cell_type": "code",
   "execution_count": 6,
   "metadata": {
    "datalore": {
     "hide_input_from_viewers": false,
     "hide_output_from_viewers": false,
     "node_id": "D16FZR33csWBVcuWtNYv1h",
     "report_properties": {},
     "type": "CODE"
    }
   },
   "outputs": [],
   "source": [
    "loans_2007 = loans_2007.drop([\"id\", \"member_id\", \"funded_amnt\", \"funded_amnt_inv\", \"grade\", \"sub_grade\", \"issue_d\"], axis=1)\n",
    "loans_2007 = loans_2007.drop([\"zip_code\", \"out_prncp\", \"out_prncp_inv\", \"total_pymnt\", \"total_pymnt_inv\", \"total_rec_prncp\"], axis=1)\n",
    "loans_2007 = loans_2007.drop([\"total_rec_int\", \"total_rec_late_fee\", \"recoveries\", \"collection_recovery_fee\", \"last_pymnt_d\", \"last_pymnt_amnt\"], axis=1)\n",
    "loans_2007 = loans_2007.drop([\"last_credit_pull_d\", \"earliest_cr_line\", 'title'], axis=1)"
   ]
  },
  {
   "cell_type": "markdown",
   "metadata": {
    "datalore": {
     "hide_input_from_viewers": false,
     "hide_output_from_viewers": false,
     "node_id": "0VlTaz9rJqqmX04JaAv34S",
     "report_properties": {},
     "type": "MD"
    }
   },
   "source": [
    "There are some special that are hard to replace na. For example, more than 30659 different title are filled in emp_title. Thus we have to remove it. Also, too many unique values make it useless here."
   ]
  },
  {
   "cell_type": "code",
   "execution_count": 7,
   "metadata": {
    "datalore": {
     "hide_input_from_viewers": false,
     "hide_output_from_viewers": false,
     "node_id": "2eyE9uxgMGoXsnZp5iIKxh",
     "report_properties": {},
     "type": "CODE"
    }
   },
   "outputs": [
    {
     "name": "stdout",
     "output_type": "stream",
     "text": [
      "2629\n",
      "30659\n"
     ]
    }
   ],
   "source": [
    "print(sum(loans_2007[\"emp_title\"].isna()))\n",
    "print(len(loans_2007['emp_title'].unique()))\n",
    "loans_2007 = loans_2007.drop(['emp_title'], axis = 1)"
   ]
  },
  {
   "cell_type": "markdown",
   "metadata": {
    "datalore": {
     "hide_input_from_viewers": false,
     "hide_output_from_viewers": false,
     "node_id": "JWdMbmdTEOiNfiqnkVxHmt",
     "report_properties": {},
     "type": "MD"
    }
   },
   "source": [
    "Finally, if a column only contains one single value(except na), it contributes nothing to our model. "
   ]
  },
  {
   "cell_type": "code",
   "execution_count": 8,
   "metadata": {
    "datalore": {
     "hide_input_from_viewers": false,
     "hide_output_from_viewers": false,
     "node_id": "C2VK9C9b5mD4XWzvDE4U0p",
     "report_properties": {},
     "type": "CODE"
    }
   },
   "outputs": [
    {
     "name": "stdout",
     "output_type": "stream",
     "text": [
      "loan_amnt                       898\n",
      "term                              2\n",
      "int_rate                        394\n",
      "installment                   16459\n",
      "emp_length                       11\n",
      "home_ownership                    5\n",
      "annual_inc                     5597\n",
      "verification_status               3\n",
      "loan_status                       9\n",
      "pymnt_plan                        2\n",
      "purpose                          14\n",
      "addr_state                       50\n",
      "dti                            2894\n",
      "delinq_2yrs                      12\n",
      "inq_last_6mths                   28\n",
      "open_acc                         44\n",
      "pub_rec                           6\n",
      "revol_bal                     22709\n",
      "revol_util                     1119\n",
      "total_acc                        83\n",
      "initial_list_status               1\n",
      "collections_12_mths_ex_med        1\n",
      "policy_code                       1\n",
      "application_type                  1\n",
      "acc_now_delinq                    2\n",
      "chargeoff_within_12_mths          1\n",
      "delinq_amnt                       3\n",
      "pub_rec_bankruptcies              3\n",
      "tax_liens                         2\n",
      "dtype: int64\n",
      "['initial_list_status', 'collections_12_mths_ex_med', 'policy_code', 'application_type', 'chargeoff_within_12_mths']\n"
     ]
    }
   ],
   "source": [
    "cur_col_for_one = loans_2007.nunique()\n",
    "print(cur_col_for_one)\n",
    "remove_one = []\n",
    "for idx, value in cur_col_for_one.items():\n",
    "    if value == 1:\n",
    "        remove_one.append(idx)\n",
    "print(remove_one)\n",
    "loans_2007 = loans_2007.drop(remove_one, axis=1)\n",
    "# pymnt_plan, initial_list_status, collections_12_mths_ex_med, policy_code\n",
    "# application_type, acc_now_delinq, chargeoff_within_12_mths, delinq_amnt"
   ]
  },
  {
   "cell_type": "code",
   "execution_count": 9,
   "metadata": {
    "datalore": {
     "hide_input_from_viewers": false,
     "hide_output_from_viewers": false,
     "node_id": "cJYqhCTQ2Kna98vnHMHEkz",
     "report_properties": {},
     "type": "CODE"
    }
   },
   "outputs": [
    {
     "name": "stdout",
     "output_type": "stream",
     "text": [
      "<class 'pandas.core.frame.DataFrame'>\n",
      "RangeIndex: 42538 entries, 0 to 42537\n",
      "Data columns (total 24 columns):\n",
      " #   Column                Non-Null Count  Dtype  \n",
      "---  ------                --------------  -----  \n",
      " 0   loan_amnt             42535 non-null  float64\n",
      " 1   term                  42535 non-null  object \n",
      " 2   int_rate              42535 non-null  object \n",
      " 3   installment           42535 non-null  float64\n",
      " 4   emp_length            41423 non-null  object \n",
      " 5   home_ownership        42535 non-null  object \n",
      " 6   annual_inc            42531 non-null  float64\n",
      " 7   verification_status   42535 non-null  object \n",
      " 8   loan_status           42535 non-null  object \n",
      " 9   pymnt_plan            42535 non-null  object \n",
      " 10  purpose               42535 non-null  object \n",
      " 11  addr_state            42535 non-null  object \n",
      " 12  dti                   42535 non-null  float64\n",
      " 13  delinq_2yrs           42506 non-null  float64\n",
      " 14  inq_last_6mths        42506 non-null  float64\n",
      " 15  open_acc              42506 non-null  float64\n",
      " 16  pub_rec               42506 non-null  float64\n",
      " 17  revol_bal             42535 non-null  float64\n",
      " 18  revol_util            42445 non-null  object \n",
      " 19  total_acc             42506 non-null  float64\n",
      " 20  acc_now_delinq        42506 non-null  float64\n",
      " 21  delinq_amnt           42506 non-null  float64\n",
      " 22  pub_rec_bankruptcies  41170 non-null  float64\n",
      " 23  tax_liens             42430 non-null  float64\n",
      "dtypes: float64(14), object(10)\n",
      "memory usage: 7.8+ MB\n",
      "   loan_amnt        term int_rate  installment emp_length home_ownership  \\\n",
      "0     5000.0   36 months   10.65%       162.87  10+ years           RENT   \n",
      "1     2500.0   60 months   15.27%        59.83   < 1 year           RENT   \n",
      "2     2400.0   36 months   15.96%        84.33  10+ years           RENT   \n",
      "3    10000.0   36 months   13.49%       339.31  10+ years           RENT   \n",
      "4     3000.0   60 months   12.69%        67.79     1 year           RENT   \n",
      "\n",
      "   annual_inc verification_status  loan_status pymnt_plan  ... inq_last_6mths  \\\n",
      "0     24000.0            Verified   Fully Paid          n  ...            1.0   \n",
      "1     30000.0     Source Verified  Charged Off          n  ...            5.0   \n",
      "2     12252.0        Not Verified   Fully Paid          n  ...            2.0   \n",
      "3     49200.0     Source Verified   Fully Paid          n  ...            1.0   \n",
      "4     80000.0     Source Verified      Current          n  ...            0.0   \n",
      "\n",
      "  open_acc  pub_rec  revol_bal  revol_util  total_acc  acc_now_delinq  \\\n",
      "0      3.0      0.0    13648.0       83.7%        9.0             0.0   \n",
      "1      3.0      0.0     1687.0        9.4%        4.0             0.0   \n",
      "2      2.0      0.0     2956.0       98.5%       10.0             0.0   \n",
      "3     10.0      0.0     5598.0         21%       37.0             0.0   \n",
      "4     15.0      0.0    27783.0       53.9%       38.0             0.0   \n",
      "\n",
      "   delinq_amnt pub_rec_bankruptcies  tax_liens  \n",
      "0          0.0                  0.0        0.0  \n",
      "1          0.0                  0.0        0.0  \n",
      "2          0.0                  0.0        0.0  \n",
      "3          0.0                  0.0        0.0  \n",
      "4          0.0                  0.0        0.0  \n",
      "\n",
      "[5 rows x 24 columns]\n"
     ]
    }
   ],
   "source": [
    "loans_2007.info()\n",
    "print(loans_2007.head())"
   ]
  },
  {
   "cell_type": "markdown",
   "metadata": {
    "datalore": {
     "hide_input_from_viewers": false,
     "hide_output_from_viewers": false,
     "node_id": "KLhjbwL4VFIq5okMTlLYTm",
     "report_properties": {},
     "type": "MD"
    }
   },
   "source": [
    "Now, let's deal with the main output: 'loan_status'. Firstly, let's see how many cases it has."
   ]
  },
  {
   "cell_type": "code",
   "execution_count": 10,
   "metadata": {
    "datalore": {
     "hide_input_from_viewers": false,
     "hide_output_from_viewers": false,
     "node_id": "5rDlk0FnfIhPtN0n8CabIs",
     "report_properties": {},
     "type": "CODE"
    }
   },
   "outputs": [
    {
     "name": "stdout",
     "output_type": "stream",
     "text": [
      "Fully Paid                                             33136\n",
      "Charged Off                                             5634\n",
      "Does not meet the credit policy. Status:Fully Paid      1988\n",
      "Current                                                  961\n",
      "Does not meet the credit policy. Status:Charged Off      761\n",
      "Late (31-120 days)                                        24\n",
      "In Grace Period                                           20\n",
      "Late (16-30 days)                                          8\n",
      "Default                                                    3\n",
      "Name: loan_status, dtype: int64\n"
     ]
    }
   ],
   "source": [
    "print(loans_2007['loan_status'].value_counts())"
   ]
  },
  {
   "cell_type": "markdown",
   "metadata": {
    "datalore": {
     "hide_input_from_viewers": false,
     "hide_output_from_viewers": false,
     "node_id": "QuDE9fFVQBu0bDjk9kvd6Q",
     "report_properties": {},
     "type": "MD"
    }
   },
   "source": [
    "According to the definition, here we only care about 'Fully Paid' or 'Charged Off'. As a lander, we welcome the first case and try to avoid the second case. We will use the binary number to replace it."
   ]
  },
  {
   "cell_type": "code",
   "execution_count": 11,
   "metadata": {
    "datalore": {
     "hide_input_from_viewers": false,
     "hide_output_from_viewers": false,
     "node_id": "1tDkD6q7csBsUF3W94bOfI",
     "report_properties": {},
     "type": "CODE"
    }
   },
   "outputs": [],
   "source": [
    "loans_2007 = loans_2007[(loans_2007['loan_status'] == 'Fully Paid') | (loans_2007['loan_status'] == 'Charged Off')]\n",
    "\n",
    "status_replace = {\n",
    "    \"loan_status\" : {\n",
    "        \"Fully Paid\": 1,\n",
    "        \"Charged Off\": 0,\n",
    "    }\n",
    "}\n",
    "loans_2007 = loans_2007.replace(status_replace)"
   ]
  },
  {
   "cell_type": "markdown",
   "metadata": {
    "datalore": {
     "hide_input_from_viewers": true,
     "hide_output_from_viewers": true,
     "node_id": "aiTSOOMzn6r3pxEfgGhlOO",
     "type": "MD"
    }
   },
   "source": [
    "After dropping many rows, there are more single-value columns. Thus we have to redo the drop process."
   ]
  },
  {
   "cell_type": "code",
   "execution_count": 12,
   "metadata": {
    "datalore": {
     "hide_input_from_viewers": false,
     "hide_output_from_viewers": false,
     "node_id": "wZtoKGcuCMArhV4ekCiMGb",
     "report_properties": {},
     "type": "CODE"
    }
   },
   "outputs": [
    {
     "name": "stdout",
     "output_type": "stream",
     "text": [
      "<class 'pandas.core.frame.DataFrame'>\n",
      "Int64Index: 38770 entries, 0 to 39785\n",
      "Data columns (total 24 columns):\n",
      " #   Column                Non-Null Count  Dtype  \n",
      "---  ------                --------------  -----  \n",
      " 0   loan_amnt             38770 non-null  float64\n",
      " 1   term                  38770 non-null  object \n",
      " 2   int_rate              38770 non-null  object \n",
      " 3   installment           38770 non-null  float64\n",
      " 4   emp_length            37734 non-null  object \n",
      " 5   home_ownership        38770 non-null  object \n",
      " 6   annual_inc            38770 non-null  float64\n",
      " 7   verification_status   38770 non-null  object \n",
      " 8   loan_status           38770 non-null  int64  \n",
      " 9   pymnt_plan            38770 non-null  object \n",
      " 10  purpose               38770 non-null  object \n",
      " 11  addr_state            38770 non-null  object \n",
      " 12  dti                   38770 non-null  float64\n",
      " 13  delinq_2yrs           38770 non-null  float64\n",
      " 14  inq_last_6mths        38770 non-null  float64\n",
      " 15  open_acc              38770 non-null  float64\n",
      " 16  pub_rec               38770 non-null  float64\n",
      " 17  revol_bal             38770 non-null  float64\n",
      " 18  revol_util            38720 non-null  object \n",
      " 19  total_acc             38770 non-null  float64\n",
      " 20  acc_now_delinq        38770 non-null  float64\n",
      " 21  delinq_amnt           38770 non-null  float64\n",
      " 22  pub_rec_bankruptcies  38073 non-null  float64\n",
      " 23  tax_liens             38731 non-null  float64\n",
      "dtypes: float64(14), int64(1), object(9)\n",
      "memory usage: 7.4+ MB\n",
      "0        1\n",
      "1        0\n",
      "2        1\n",
      "3        1\n",
      "5        1\n",
      "        ..\n",
      "39781    1\n",
      "39782    1\n",
      "39783    1\n",
      "39784    1\n",
      "39785    1\n",
      "Name: loan_status, Length: 38770, dtype: int64\n",
      "loan_amnt                 870\n",
      "term                        2\n",
      "int_rate                  371\n",
      "installment             15091\n",
      "emp_length                 11\n",
      "home_ownership              5\n",
      "annual_inc               5234\n",
      "verification_status         3\n",
      "loan_status                 2\n",
      "pymnt_plan                  1\n",
      "purpose                    14\n",
      "addr_state                 50\n",
      "dti                      2856\n",
      "delinq_2yrs                11\n",
      "inq_last_6mths              9\n",
      "open_acc                   40\n",
      "pub_rec                     5\n",
      "revol_bal               21348\n",
      "revol_util               1088\n",
      "total_acc                  82\n",
      "acc_now_delinq              1\n",
      "delinq_amnt                 1\n",
      "pub_rec_bankruptcies        3\n",
      "tax_liens                   1\n",
      "dtype: int64\n",
      "['pymnt_plan', 'acc_now_delinq', 'delinq_amnt', 'tax_liens']\n"
     ]
    }
   ],
   "source": [
    "loans_2007.info()\n",
    "print(loans_2007['loan_status'])\n",
    "cur_col_for_one = loans_2007.nunique()\n",
    "print(cur_col_for_one)\n",
    "remove_one = []\n",
    "for idx, value in cur_col_for_one.items():\n",
    "    if value == 1:\n",
    "        remove_one.append(idx)\n",
    "print(remove_one)\n",
    "loans_2007 = loans_2007.drop(remove_one, axis=1)"
   ]
  },
  {
   "cell_type": "markdown",
   "metadata": {
    "datalore": {
     "hide_input_from_viewers": false,
     "hide_output_from_viewers": false,
     "node_id": "2978Gpwlb6ETC1g5lSq7Ob",
     "report_properties": {},
     "type": "MD"
    }
   },
   "source": [
    "We have dropped all unwanted columns and reduced the rows based on the output, now it's time to clean the rest input data."
   ]
  },
  {
   "cell_type": "markdown",
   "metadata": {
    "datalore": {
     "hide_input_from_viewers": false,
     "hide_output_from_viewers": false,
     "node_id": "g4cr7dRZE2hLl6xNBsmshk",
     "report_properties": {},
     "type": "MD"
    }
   },
   "source": [
    "Part B: Preparing data"
   ]
  },
  {
   "cell_type": "code",
   "execution_count": 13,
   "metadata": {
    "datalore": {
     "hide_input_from_viewers": true,
     "hide_output_from_viewers": true,
     "node_id": "yjFhQPJhR3AbCN5FADbjnJ",
     "type": "CODE"
    }
   },
   "outputs": [
    {
     "name": "stdout",
     "output_type": "stream",
     "text": [
      "<class 'pandas.core.frame.DataFrame'>\n",
      "Int64Index: 38770 entries, 0 to 39785\n",
      "Data columns (total 20 columns):\n",
      " #   Column                Non-Null Count  Dtype  \n",
      "---  ------                --------------  -----  \n",
      " 0   loan_amnt             38770 non-null  float64\n",
      " 1   term                  38770 non-null  object \n",
      " 2   int_rate              38770 non-null  object \n",
      " 3   installment           38770 non-null  float64\n",
      " 4   emp_length            37734 non-null  object \n",
      " 5   home_ownership        38770 non-null  object \n",
      " 6   annual_inc            38770 non-null  float64\n",
      " 7   verification_status   38770 non-null  object \n",
      " 8   loan_status           38770 non-null  int64  \n",
      " 9   purpose               38770 non-null  object \n",
      " 10  addr_state            38770 non-null  object \n",
      " 11  dti                   38770 non-null  float64\n",
      " 12  delinq_2yrs           38770 non-null  float64\n",
      " 13  inq_last_6mths        38770 non-null  float64\n",
      " 14  open_acc              38770 non-null  float64\n",
      " 15  pub_rec               38770 non-null  float64\n",
      " 16  revol_bal             38770 non-null  float64\n",
      " 17  revol_util            38720 non-null  object \n",
      " 18  total_acc             38770 non-null  float64\n",
      " 19  pub_rec_bankruptcies  38073 non-null  float64\n",
      "dtypes: float64(11), int64(1), object(8)\n",
      "memory usage: 6.2+ MB\n",
      "None\n",
      "loan_amnt                 870\n",
      "term                        2\n",
      "int_rate                  371\n",
      "installment             15091\n",
      "emp_length                 11\n",
      "home_ownership              5\n",
      "annual_inc               5234\n",
      "verification_status         3\n",
      "loan_status                 2\n",
      "purpose                    14\n",
      "addr_state                 50\n",
      "dti                      2856\n",
      "delinq_2yrs                11\n",
      "inq_last_6mths              9\n",
      "open_acc                   40\n",
      "pub_rec                     5\n",
      "revol_bal               21348\n",
      "revol_util               1088\n",
      "total_acc                  82\n",
      "pub_rec_bankruptcies        3\n",
      "dtype: int64\n"
     ]
    }
   ],
   "source": [
    "print(loans_2007.info())\n",
    "print(loans_2007.nunique())"
   ]
  },
  {
   "cell_type": "markdown",
   "metadata": {
    "datalore": {
     "hide_input_from_viewers": false,
     "hide_output_from_viewers": false,
     "node_id": "F8kctMPupgmdmMknpKTBsw",
     "report_properties": {},
     "type": "MD"
    }
   },
   "source": [
    "First of all, solve the missing values."
   ]
  },
  {
   "cell_type": "code",
   "execution_count": 14,
   "metadata": {
    "datalore": {
     "hide_input_from_viewers": false,
     "hide_output_from_viewers": false,
     "node_id": "EtoqkiaWJK7D97tPsrkiOy",
     "report_properties": {},
     "type": "CODE"
    }
   },
   "outputs": [
    {
     "name": "stdout",
     "output_type": "stream",
     "text": [
      "emp_length              1036\n",
      "revol_util                50\n",
      "pub_rec_bankruptcies     697\n",
      "dtype: int64\n"
     ]
    }
   ],
   "source": [
    "null_counts = loans_2007.isnull().sum()\n",
    "print(null_counts[null_counts>0])"
   ]
  },
  {
   "cell_type": "markdown",
   "metadata": {
    "datalore": {
     "hide_input_from_viewers": false,
     "hide_output_from_viewers": false,
     "node_id": "veoVIcgqqrC33WeVWlpVbD",
     "report_properties": {},
     "type": "MD"
    }
   },
   "source": [
    "If the missing values is small compared to the dataset, just drop it. That is, title, revol_util, last_credit_pull_d."
   ]
  },
  {
   "cell_type": "code",
   "execution_count": 15,
   "metadata": {
    "datalore": {
     "hide_input_from_viewers": false,
     "hide_output_from_viewers": false,
     "node_id": "2cKhJZHjTJwvhpdnwpxnHZ",
     "report_properties": {},
     "type": "CODE"
    }
   },
   "outputs": [],
   "source": [
    "loans_2007 = loans_2007.dropna(subset=['revol_util'])"
   ]
  },
  {
   "cell_type": "markdown",
   "metadata": {
    "datalore": {
     "hide_input_from_viewers": false,
     "hide_output_from_viewers": false,
     "node_id": "0V4ona1LxMD0fRL9naHfyG",
     "report_properties": {},
     "type": "MD"
    }
   },
   "source": [
    "Now let's deal with emp_length and pub_rec_bankruptcies."
   ]
  },
  {
   "cell_type": "code",
   "execution_count": 16,
   "metadata": {
    "datalore": {
     "hide_input_from_viewers": false,
     "hide_output_from_viewers": false,
     "node_id": "kdiowi4ihm82cJkTQLH1C9",
     "report_properties": {},
     "type": "CODE"
    }
   },
   "outputs": [
    {
     "name": "stdout",
     "output_type": "stream",
     "text": [
      "10+ years    0.220713\n",
      "< 1 year     0.116606\n",
      "2 years      0.111131\n",
      "3 years      0.103874\n",
      "4 years      0.086648\n",
      "5 years      0.082774\n",
      "1 year       0.082051\n",
      "6 years      0.056250\n",
      "7 years      0.044292\n",
      "8 years      0.037242\n",
      "9 years      0.031741\n",
      "NaN          0.026679\n",
      "Name: emp_length, dtype: float64\n",
      "0%        0.024793\n",
      "0.2%      0.001627\n",
      "63%       0.001601\n",
      "40.7%     0.001498\n",
      "66.7%     0.001472\n",
      "            ...   \n",
      "0.16%     0.000026\n",
      "38.77%    0.000026\n",
      "21.59%    0.000026\n",
      "58.77%    0.000026\n",
      "21.72%    0.000026\n",
      "Name: revol_util, Length: 1088, dtype: float64\n",
      "0.0    0.939385\n",
      "1.0    0.042485\n",
      "NaN    0.018001\n",
      "2.0    0.000129\n",
      "Name: pub_rec_bankruptcies, dtype: float64\n"
     ]
    }
   ],
   "source": [
    "for idx, value in null_counts[null_counts>0].items():\n",
    "    print(loans_2007[idx].value_counts(normalize=True, dropna=False))"
   ]
  },
  {
   "cell_type": "markdown",
   "metadata": {
    "datalore": {
     "hide_input_from_viewers": false,
     "hide_output_from_viewers": false,
     "node_id": "OIltwvsMrq7qR6sHDAKhkh",
     "report_properties": {},
     "type": "MD"
    }
   },
   "source": [
    "Typically, there are several ways to fill it. \n",
    "\n",
    "If we have enough side information, we could deduce the most possible answer. \n",
    "\n",
    "Or we could use mean or mode to replace it. Here, since the percentage of na in pub_rec_bankruptcies is small, we could replace na with the mode, namely 0.0. \n",
    "\n",
    "For emp_length, it's a hard issue, since adding it to any part will increase its portion significantly. Thus we drop the na of it."
   ]
  },
  {
   "cell_type": "code",
   "execution_count": 17,
   "metadata": {
    "datalore": {
     "hide_input_from_viewers": false,
     "hide_output_from_viewers": false,
     "node_id": "h4U9TzOLOt6fiOBNAN4oux",
     "report_properties": {},
     "type": "CODE"
    }
   },
   "outputs": [],
   "source": [
    "loans_2007['pub_rec_bankruptcies'] = loans_2007['pub_rec_bankruptcies'].fillna(0.0)\n",
    "loans_2007 = loans_2007.dropna()"
   ]
  },
  {
   "cell_type": "markdown",
   "metadata": {
    "datalore": {
     "hide_input_from_viewers": false,
     "hide_output_from_viewers": false,
     "node_id": "nmTTx5Q5uLyxRV7yIdfKaf",
     "report_properties": {},
     "type": "MD"
    }
   },
   "source": [
    "Now we have solved the missing values. Let's transform the categorical columns into numbers."
   ]
  },
  {
   "cell_type": "code",
   "execution_count": 18,
   "metadata": {
    "datalore": {
     "hide_input_from_viewers": false,
     "hide_output_from_viewers": false,
     "node_id": "21YxHi3OV8T9jYA4YXRO8Q",
     "report_properties": {},
     "type": "CODE"
    }
   },
   "outputs": [
    {
     "name": "stdout",
     "output_type": "stream",
     "text": [
      "<class 'pandas.core.frame.DataFrame'>\n",
      "Int64Index: 37687 entries, 0 to 39785\n",
      "Data columns (total 20 columns):\n",
      " #   Column                Non-Null Count  Dtype  \n",
      "---  ------                --------------  -----  \n",
      " 0   loan_amnt             37687 non-null  float64\n",
      " 1   term                  37687 non-null  object \n",
      " 2   int_rate              37687 non-null  object \n",
      " 3   installment           37687 non-null  float64\n",
      " 4   emp_length            37687 non-null  object \n",
      " 5   home_ownership        37687 non-null  object \n",
      " 6   annual_inc            37687 non-null  float64\n",
      " 7   verification_status   37687 non-null  object \n",
      " 8   loan_status           37687 non-null  int64  \n",
      " 9   purpose               37687 non-null  object \n",
      " 10  addr_state            37687 non-null  object \n",
      " 11  dti                   37687 non-null  float64\n",
      " 12  delinq_2yrs           37687 non-null  float64\n",
      " 13  inq_last_6mths        37687 non-null  float64\n",
      " 14  open_acc              37687 non-null  float64\n",
      " 15  pub_rec               37687 non-null  float64\n",
      " 16  revol_bal             37687 non-null  float64\n",
      " 17  revol_util            37687 non-null  object \n",
      " 18  total_acc             37687 non-null  float64\n",
      " 19  pub_rec_bankruptcies  37687 non-null  float64\n",
      "dtypes: float64(11), int64(1), object(8)\n",
      "memory usage: 6.0+ MB\n",
      "['term', 'int_rate', 'emp_length', 'home_ownership', 'verification_status', 'purpose', 'addr_state', 'revol_util']\n"
     ]
    }
   ],
   "source": [
    "loans_2007.info()\n",
    "object_col = []\n",
    "for col, dty in loans_2007.dtypes.to_dict().items():\n",
    "    if dty == 'object':\n",
    "        object_col.append(col)\n",
    "print(object_col)"
   ]
  },
  {
   "cell_type": "markdown",
   "metadata": {
    "datalore": {
     "hide_input_from_viewers": true,
     "hide_output_from_viewers": true,
     "node_id": "Z5kfT1b0Fx6u47KL0Foza5",
     "type": "MD"
    }
   },
   "source": [
    "We will transform work years into 0-10. This will impact the model as we limit the highest time to 10.\n",
    "\n",
    "We then divide states based on regions."
   ]
  },
  {
   "cell_type": "code",
   "execution_count": 19,
   "metadata": {
    "datalore": {
     "hide_input_from_viewers": false,
     "hide_output_from_viewers": false,
     "node_id": "RqdYhFcD1LtnokttItCB81",
     "report_properties": {},
     "type": "CODE"
    }
   },
   "outputs": [],
   "source": [
    "emp_len_map = {\n",
    "    \"emp_length\": {\n",
    "        \"10+ years\": 10,\n",
    "        \"9 years\": 9,\n",
    "        \"8 years\": 8,\n",
    "        \"7 years\": 7,\n",
    "        \"6 years\": 6,\n",
    "        \"5 years\": 5,\n",
    "        \"4 years\": 4,\n",
    "        \"3 years\": 3,\n",
    "        \"2 years\": 2,\n",
    "        \"1 year\": 1,\n",
    "        \"< 1 year\": 0,\n",
    "    }\n",
    "}\n",
    "loans_2007 = loans_2007.replace(emp_len_map)\n",
    "\n",
    "west = ['WA','OR','CA','ID','NV','MT','WY','UT','CO', 'AK', 'HI']\n",
    "midwest = ['ND','MN','WI','MI','SD','NE','KS','IA','MO','IL','IN','OH']\n",
    "southwest = ['TX','OK','AZ', 'NM']\n",
    "southeast = ['LA', 'AR', 'MS','TN','KY','AL','GA','FL','SC','NC','VA','WV','MD','DE', 'DC']\n",
    "northeast = ['PA','NJ','NY','CT','MA','RI','VT','NH','ME']\n",
    "\n",
    "# refer to https://stackoverflow.com/questions/55521103/is-there-a-more-efficient-way-to-apply-a-mapping-to-a-pandas-series\n",
    "s = pd.DataFrame([west,midwest,southwest,southeast,northeast],index=['west','midwest','southwest','southeast','northeast'])\n",
    "s = s.reset_index().melt('index')\n",
    "loans_2007['region'] = loans_2007['addr_state'].map(dict(zip(s['value'],s['index'])))\n",
    "loans_2007 = loans_2007.drop(['addr_state'],axis=1)"
   ]
  },
  {
   "cell_type": "markdown",
   "metadata": {
    "datalore": {
     "hide_input_from_viewers": true,
     "hide_output_from_viewers": true,
     "node_id": "QaYR16w21qqijU6DfTrysW",
     "type": "MD"
    }
   },
   "source": [
    "Then, we turn the 'int_rate' into numbers and use one-hot encoding on 'home_ownership', 'verification_status', 'purpose', 'term' and 'region'."
   ]
  },
  {
   "cell_type": "code",
   "execution_count": 20,
   "metadata": {
    "datalore": {
     "hide_input_from_viewers": true,
     "hide_output_from_viewers": true,
     "node_id": "LTkJIkVQCS4HDEUFuCqCBE",
     "type": "CODE"
    }
   },
   "outputs": [],
   "source": [
    "loans_2007['int_rate'] = loans_2007['int_rate'].str.rstrip(\"%\").astype(\"float\")\n",
    "loans_2007['revol_util'] = loans_2007['revol_util'].str.rstrip(\"%\").astype(\"float\")\n",
    "dummy_cat_columns = ['home_ownership', 'verification_status', 'purpose', 'term', 'region']\n",
    "dummy = pd.get_dummies(loans_2007[dummy_cat_columns])\n",
    "loans_2007 = pd.concat([loans_2007, dummy], axis=1)\n",
    "loans_2007 = loans_2007.drop(dummy_cat_columns, axis=1)"
   ]
  },
  {
   "cell_type": "code",
   "execution_count": 21,
   "metadata": {
    "datalore": {
     "hide_input_from_viewers": false,
     "hide_output_from_viewers": false,
     "node_id": "dVvLG3krbnFNZiHodUjXx9",
     "report_properties": {},
     "type": "CODE"
    }
   },
   "outputs": [
    {
     "name": "stdout",
     "output_type": "stream",
     "text": [
      "<class 'pandas.core.frame.DataFrame'>\n",
      "Int64Index: 37687 entries, 0 to 39785\n",
      "Data columns (total 44 columns):\n",
      " #   Column                               Non-Null Count  Dtype  \n",
      "---  ------                               --------------  -----  \n",
      " 0   loan_amnt                            37687 non-null  float64\n",
      " 1   int_rate                             37687 non-null  float64\n",
      " 2   installment                          37687 non-null  float64\n",
      " 3   emp_length                           37687 non-null  int64  \n",
      " 4   annual_inc                           37687 non-null  float64\n",
      " 5   loan_status                          37687 non-null  int64  \n",
      " 6   dti                                  37687 non-null  float64\n",
      " 7   delinq_2yrs                          37687 non-null  float64\n",
      " 8   inq_last_6mths                       37687 non-null  float64\n",
      " 9   open_acc                             37687 non-null  float64\n",
      " 10  pub_rec                              37687 non-null  float64\n",
      " 11  revol_bal                            37687 non-null  float64\n",
      " 12  revol_util                           37687 non-null  float64\n",
      " 13  total_acc                            37687 non-null  float64\n",
      " 14  pub_rec_bankruptcies                 37687 non-null  float64\n",
      " 15  home_ownership_MORTGAGE              37687 non-null  uint8  \n",
      " 16  home_ownership_NONE                  37687 non-null  uint8  \n",
      " 17  home_ownership_OTHER                 37687 non-null  uint8  \n",
      " 18  home_ownership_OWN                   37687 non-null  uint8  \n",
      " 19  home_ownership_RENT                  37687 non-null  uint8  \n",
      " 20  verification_status_Not Verified     37687 non-null  uint8  \n",
      " 21  verification_status_Source Verified  37687 non-null  uint8  \n",
      " 22  verification_status_Verified         37687 non-null  uint8  \n",
      " 23  purpose_car                          37687 non-null  uint8  \n",
      " 24  purpose_credit_card                  37687 non-null  uint8  \n",
      " 25  purpose_debt_consolidation           37687 non-null  uint8  \n",
      " 26  purpose_educational                  37687 non-null  uint8  \n",
      " 27  purpose_home_improvement             37687 non-null  uint8  \n",
      " 28  purpose_house                        37687 non-null  uint8  \n",
      " 29  purpose_major_purchase               37687 non-null  uint8  \n",
      " 30  purpose_medical                      37687 non-null  uint8  \n",
      " 31  purpose_moving                       37687 non-null  uint8  \n",
      " 32  purpose_other                        37687 non-null  uint8  \n",
      " 33  purpose_renewable_energy             37687 non-null  uint8  \n",
      " 34  purpose_small_business               37687 non-null  uint8  \n",
      " 35  purpose_vacation                     37687 non-null  uint8  \n",
      " 36  purpose_wedding                      37687 non-null  uint8  \n",
      " 37  term_ 36 months                      37687 non-null  uint8  \n",
      " 38  term_ 60 months                      37687 non-null  uint8  \n",
      " 39  region_midwest                       37687 non-null  uint8  \n",
      " 40  region_northeast                     37687 non-null  uint8  \n",
      " 41  region_southeast                     37687 non-null  uint8  \n",
      " 42  region_southwest                     37687 non-null  uint8  \n",
      " 43  region_west                          37687 non-null  uint8  \n",
      "dtypes: float64(13), int64(2), uint8(29)\n",
      "memory usage: 5.6 MB\n"
     ]
    },
    {
     "data": {
      "text/html": [
       "<div>\n",
       "<style scoped>\n",
       "    .dataframe tbody tr th:only-of-type {\n",
       "        vertical-align: middle;\n",
       "    }\n",
       "\n",
       "    .dataframe tbody tr th {\n",
       "        vertical-align: top;\n",
       "    }\n",
       "\n",
       "    .dataframe thead th {\n",
       "        text-align: right;\n",
       "    }\n",
       "</style>\n",
       "<table border=\"1\" class=\"dataframe\">\n",
       "  <thead>\n",
       "    <tr style=\"text-align: right;\">\n",
       "      <th></th>\n",
       "      <th>loan_amnt</th>\n",
       "      <th>int_rate</th>\n",
       "      <th>installment</th>\n",
       "      <th>emp_length</th>\n",
       "      <th>annual_inc</th>\n",
       "      <th>loan_status</th>\n",
       "      <th>dti</th>\n",
       "      <th>delinq_2yrs</th>\n",
       "      <th>inq_last_6mths</th>\n",
       "      <th>open_acc</th>\n",
       "      <th>...</th>\n",
       "      <th>purpose_small_business</th>\n",
       "      <th>purpose_vacation</th>\n",
       "      <th>purpose_wedding</th>\n",
       "      <th>term_ 36 months</th>\n",
       "      <th>term_ 60 months</th>\n",
       "      <th>region_midwest</th>\n",
       "      <th>region_northeast</th>\n",
       "      <th>region_southeast</th>\n",
       "      <th>region_southwest</th>\n",
       "      <th>region_west</th>\n",
       "    </tr>\n",
       "  </thead>\n",
       "  <tbody>\n",
       "    <tr>\n",
       "      <th>0</th>\n",
       "      <td>5000.0</td>\n",
       "      <td>10.65</td>\n",
       "      <td>162.87</td>\n",
       "      <td>10</td>\n",
       "      <td>24000.0</td>\n",
       "      <td>1</td>\n",
       "      <td>27.65</td>\n",
       "      <td>0.0</td>\n",
       "      <td>1.0</td>\n",
       "      <td>3.0</td>\n",
       "      <td>...</td>\n",
       "      <td>0</td>\n",
       "      <td>0</td>\n",
       "      <td>0</td>\n",
       "      <td>1</td>\n",
       "      <td>0</td>\n",
       "      <td>0</td>\n",
       "      <td>0</td>\n",
       "      <td>0</td>\n",
       "      <td>1</td>\n",
       "      <td>0</td>\n",
       "    </tr>\n",
       "    <tr>\n",
       "      <th>1</th>\n",
       "      <td>2500.0</td>\n",
       "      <td>15.27</td>\n",
       "      <td>59.83</td>\n",
       "      <td>0</td>\n",
       "      <td>30000.0</td>\n",
       "      <td>0</td>\n",
       "      <td>1.00</td>\n",
       "      <td>0.0</td>\n",
       "      <td>5.0</td>\n",
       "      <td>3.0</td>\n",
       "      <td>...</td>\n",
       "      <td>0</td>\n",
       "      <td>0</td>\n",
       "      <td>0</td>\n",
       "      <td>0</td>\n",
       "      <td>1</td>\n",
       "      <td>0</td>\n",
       "      <td>0</td>\n",
       "      <td>1</td>\n",
       "      <td>0</td>\n",
       "      <td>0</td>\n",
       "    </tr>\n",
       "    <tr>\n",
       "      <th>2</th>\n",
       "      <td>2400.0</td>\n",
       "      <td>15.96</td>\n",
       "      <td>84.33</td>\n",
       "      <td>10</td>\n",
       "      <td>12252.0</td>\n",
       "      <td>1</td>\n",
       "      <td>8.72</td>\n",
       "      <td>0.0</td>\n",
       "      <td>2.0</td>\n",
       "      <td>2.0</td>\n",
       "      <td>...</td>\n",
       "      <td>1</td>\n",
       "      <td>0</td>\n",
       "      <td>0</td>\n",
       "      <td>1</td>\n",
       "      <td>0</td>\n",
       "      <td>1</td>\n",
       "      <td>0</td>\n",
       "      <td>0</td>\n",
       "      <td>0</td>\n",
       "      <td>0</td>\n",
       "    </tr>\n",
       "    <tr>\n",
       "      <th>3</th>\n",
       "      <td>10000.0</td>\n",
       "      <td>13.49</td>\n",
       "      <td>339.31</td>\n",
       "      <td>10</td>\n",
       "      <td>49200.0</td>\n",
       "      <td>1</td>\n",
       "      <td>20.00</td>\n",
       "      <td>0.0</td>\n",
       "      <td>1.0</td>\n",
       "      <td>10.0</td>\n",
       "      <td>...</td>\n",
       "      <td>0</td>\n",
       "      <td>0</td>\n",
       "      <td>0</td>\n",
       "      <td>1</td>\n",
       "      <td>0</td>\n",
       "      <td>0</td>\n",
       "      <td>0</td>\n",
       "      <td>0</td>\n",
       "      <td>0</td>\n",
       "      <td>1</td>\n",
       "    </tr>\n",
       "    <tr>\n",
       "      <th>5</th>\n",
       "      <td>5000.0</td>\n",
       "      <td>7.90</td>\n",
       "      <td>156.46</td>\n",
       "      <td>3</td>\n",
       "      <td>36000.0</td>\n",
       "      <td>1</td>\n",
       "      <td>11.20</td>\n",
       "      <td>0.0</td>\n",
       "      <td>3.0</td>\n",
       "      <td>9.0</td>\n",
       "      <td>...</td>\n",
       "      <td>0</td>\n",
       "      <td>0</td>\n",
       "      <td>1</td>\n",
       "      <td>1</td>\n",
       "      <td>0</td>\n",
       "      <td>0</td>\n",
       "      <td>0</td>\n",
       "      <td>0</td>\n",
       "      <td>1</td>\n",
       "      <td>0</td>\n",
       "    </tr>\n",
       "  </tbody>\n",
       "</table>\n",
       "<p>5 rows × 44 columns</p>\n",
       "</div>"
      ],
      "text/plain": [
       "   loan_amnt  int_rate  installment  emp_length  annual_inc  loan_status  \\\n",
       "0     5000.0     10.65       162.87          10     24000.0            1   \n",
       "1     2500.0     15.27        59.83           0     30000.0            0   \n",
       "2     2400.0     15.96        84.33          10     12252.0            1   \n",
       "3    10000.0     13.49       339.31          10     49200.0            1   \n",
       "5     5000.0      7.90       156.46           3     36000.0            1   \n",
       "\n",
       "     dti  delinq_2yrs  inq_last_6mths  open_acc  ...  purpose_small_business  \\\n",
       "0  27.65          0.0             1.0       3.0  ...                       0   \n",
       "1   1.00          0.0             5.0       3.0  ...                       0   \n",
       "2   8.72          0.0             2.0       2.0  ...                       1   \n",
       "3  20.00          0.0             1.0      10.0  ...                       0   \n",
       "5  11.20          0.0             3.0       9.0  ...                       0   \n",
       "\n",
       "   purpose_vacation  purpose_wedding  term_ 36 months  term_ 60 months  \\\n",
       "0                 0                0                1                0   \n",
       "1                 0                0                0                1   \n",
       "2                 0                0                1                0   \n",
       "3                 0                0                1                0   \n",
       "5                 0                1                1                0   \n",
       "\n",
       "   region_midwest  region_northeast  region_southeast  region_southwest  \\\n",
       "0               0                 0                 0                 1   \n",
       "1               0                 0                 1                 0   \n",
       "2               1                 0                 0                 0   \n",
       "3               0                 0                 0                 0   \n",
       "5               0                 0                 0                 1   \n",
       "\n",
       "   region_west  \n",
       "0            0  \n",
       "1            0  \n",
       "2            0  \n",
       "3            1  \n",
       "5            0  \n",
       "\n",
       "[5 rows x 44 columns]"
      ]
     },
     "execution_count": 21,
     "metadata": {},
     "output_type": "execute_result"
    }
   ],
   "source": [
    "loans_2007.info()\n",
    "loans_2007.head()"
   ]
  },
  {
   "cell_type": "markdown",
   "metadata": {
    "datalore": {
     "hide_input_from_viewers": true,
     "hide_output_from_viewers": true,
     "node_id": "WgbqcIaX5CnOFoCsRho5BN",
     "type": "MD"
    }
   },
   "source": [
    "We have cleaned the whole dataset. Now, it's time for machine learning."
   ]
  },
  {
   "cell_type": "markdown",
   "metadata": {
    "datalore": {
     "hide_input_from_viewers": true,
     "hide_output_from_viewers": true,
     "node_id": "aPJBr1BzXNNDMqiS9PHoOV",
     "type": "MD"
    }
   },
   "source": [
    "Part C: Machine Learning and Prediction"
   ]
  },
  {
   "cell_type": "markdown",
   "metadata": {
    "datalore": {
     "hide_input_from_viewers": true,
     "hide_output_from_viewers": true,
     "node_id": "MQuYhlLqUm28uR75yVbjn9",
     "type": "MD"
    }
   },
   "source": [
    "Key output to better off"
   ]
  },
  {
   "cell_type": "code",
   "execution_count": 22,
   "metadata": {
    "datalore": {
     "hide_input_from_viewers": true,
     "hide_output_from_viewers": true,
     "node_id": "SWaNPM7CvpxO2c1TgIObYL",
     "type": "CODE"
    }
   },
   "outputs": [],
   "source": [
    "y = loans_2007['loan_status']\n",
    "x = loans_2007.drop('loan_status',axis=1)"
   ]
  },
  {
   "cell_type": "code",
   "execution_count": 23,
   "metadata": {
    "datalore": {
     "hide_input_from_viewers": true,
     "hide_output_from_viewers": true,
     "node_id": "35lz9u9MuzToFLSF2j1sAI",
     "type": "CODE"
    }
   },
   "outputs": [
    {
     "name": "stdout",
     "output_type": "stream",
     "text": [
      "loan_amnt  int_rate  installment  emp_length  annual_inc  dti    delinq_2yrs  inq_last_6mths  open_acc  pub_rec  revol_bal  revol_util  total_acc  pub_rec_bankruptcies  home_ownership_MORTGAGE  home_ownership_NONE  home_ownership_OTHER  home_ownership_OWN  home_ownership_RENT  verification_status_Not Verified  verification_status_Source Verified  verification_status_Verified  purpose_car  purpose_credit_card  purpose_debt_consolidation  purpose_educational  purpose_home_improvement  purpose_house  purpose_major_purchase  purpose_medical  purpose_moving  purpose_other  purpose_renewable_energy  purpose_small_business  purpose_vacation  purpose_wedding  term_ 36 months  term_ 60 months  region_midwest  region_northeast  region_southeast  region_southwest  region_west\n",
      "500.0      8.07      15.69        0           18000.0     4.27   0.0          0.0             4.0       0.0      0.0        0.0         4.0        0.0                   0                        0                    0                     0                   1                    1                                 0                                    0                             0            0                    0                           0                    0                         0              0                       0                0               1              0                         0                       0                 0                1                0                0               1                 0                 0                 0              1\n",
      "12500.0    6.00      380.27       6           85000.0     9.98   1.0          3.0             8.0       0.0      10844.0    68.6        34.0       0.0                   0                        0                    0                     0                   1                    1                                 0                                    0                             0            0                    1                           0                    0                         0              0                       0                0               0              0                         0                       0                 0                1                0                0               0                 1                 0                 0              1\n",
      "12400.0    13.49     420.74       10          65000.0     18.87  0.0          0.0             10.0      0.0      30202.0    97.1        20.0       0.0                   0                        0                    0                     0                   1                    0                                 1                                    0                             0            0                    1                           0                    0                         0              0                       0                0               0              0                         0                       0                 0                1                0                0               1                 0                 0                 0              1\n",
      "           15.27     296.76       8           60000.0     17.06  0.0          1.0             11.0      0.0      4495.0     42.8        22.0       0.0                   1                        0                    0                     0                   0                    0                                 0                                    1                             0            0                    0                           0                    1                         0              0                       0                0               0              0                         0                       0                 0                0                1                0               0                 0                 1                 0              1\n",
      "           18.39     317.52       10          55000.0     5.21   0.0          2.0             11.0      0.0      7758.0     27.9        17.0       0.0                   1                        0                    0                     0                   0                    0                                 1                                    0                             0            0                    1                           0                    0                         0              0                       0                0               0              0                         0                       0                 0                0                1                0               0                 1                 0                 0              1\n",
      "                                                                                                                                                                                                                                                                                                                                                                                                                                                                                                                                                                                                                                                                                                                                                                                                          ..\n",
      "6600.0     13.85     225.09       0           30000.0     23.16  0.0          1.0             6.0       0.0      2864.0     54.0        8.0        0.0                   1                        0                    0                     0                   0                    1                                 0                                    0                             0            0                    1                           0                    0                         0              0                       0                0               0              0                         0                       0                 0                1                0                0               0                 0                 1                 0              1\n",
      "                     225.10       3           41000.0     3.54   0.0          0.0             4.0       0.0      3695.0     48.0        26.0       0.0                   0                        0                    0                     0                   1                    1                                 0                                    0                             0            0                    0                           0                    0                         0              0                       0                0               0              0                         0                       1                 0                1                0                0               1                 0                 0                 0              1\n",
      "           14.27     226.44       4           43000.0     4.07   2.0          0.0             6.0       0.0      93.0       2.2         10.0       0.0                   1                        0                    0                     0                   0                    0                                 1                                    0                             0            0                    1                           0                    0                         0              0                       0                0               0              0                         0                       0                 0                1                0                0               0                 0                 0                 1              1\n",
      "           14.42     226.93       6           30000.0     11.08  0.0          2.0             6.0       0.0      6593.0     55.9        12.0       0.0                   1                        0                    0                     0                   0                    1                                 0                                    0                             0            0                    1                           0                    0                         0              0                       0                0               0              0                         0                       0                 0                1                0                1               0                 0                 0                 0              1\n",
      "35000.0    23.91     1005.06      10          81500.0     21.92  0.0          0.0             7.0       0.0      28427.0    98.2        31.0       0.0                   0                        0                    0                     0                   1                    0                                 0                                    1                             0            0                    1                           0                    0                         0              0                       0                0               0              0                         0                       0                 0                0                1                0               0                 1                 0                 0              1\n",
      "Length: 37687, dtype: int64\n"
     ]
    },
    {
     "data": {
      "text/plain": [
       "1    32296\n",
       "0     5391\n",
       "Name: loan_status, dtype: int64"
      ]
     },
     "execution_count": 23,
     "metadata": {},
     "output_type": "execute_result"
    }
   ],
   "source": [
    "print(x.value_counts())\n",
    "y.value_counts()"
   ]
  },
  {
   "cell_type": "markdown",
   "metadata": {
    "datalore": {
     "hide_input_from_viewers": true,
     "hide_output_from_viewers": true,
     "node_id": "oAUrFG44nb1bZ32feVyeY7",
     "type": "MD"
    }
   },
   "source": [
    "Let's use a simple Logistic Regression to give a try first."
   ]
  },
  {
   "cell_type": "code",
   "execution_count": 24,
   "metadata": {
    "datalore": {
     "hide_input_from_viewers": true,
     "hide_output_from_viewers": true,
     "node_id": "GSffHMOm3HIDrkSmyymmr5",
     "type": "CODE"
    }
   },
   "outputs": [],
   "source": [
    "X_train, X_test, y_train, y_test = train_test_split(x, y, test_size=0.7, random_state=3)\n",
    "transformer = MaxAbsScaler().fit(X_train)\n",
    "X_train_trans = transformer.transform(X_train)\n",
    "X_test_trans = transformer.transform(X_test)\n",
    "\n",
    "accu = []\n",
    "potentialaccu = [-2+0.1*c for c in range(15)]\n",
    "for c in potentialaccu:\n",
    "    model1_LR = LogisticRegression(C=10**c, random_state=0)\n",
    "    model1_LR.fit(X_train_trans, y_train)\n",
    "    model1_LR_pred = model1_LR.predict(X_test_trans)\n",
    "    train_pred = model1_LR.predict(X_train_trans)\n",
    "    accu.append((accuracy_score(train_pred, y_train), accuracy_score(model1_LR_pred, y_test)))\n",
    "accuplot = np.array([*accu])"
   ]
  },
  {
   "cell_type": "code",
   "execution_count": 25,
   "metadata": {
    "datalore": {
     "hide_input_from_viewers": true,
     "hide_output_from_viewers": true,
     "node_id": "UgnGiBAV9ZbNCsiMhAtmE1",
     "type": "CODE"
    }
   },
   "outputs": [
    {
     "data": {
      "image/png": "[encoded data removed]",
      "text/plain": [
       "<Figure size 432x288 with 1 Axes>"
      ]
     },
     "metadata": {
      "needs_background": "light"
     },
     "output_type": "display_data"
    }
   ],
   "source": [
    "plt.plot(potentialaccu, accuplot[:, 0],\n",
    "         label='train')\n",
    "plt.plot(potentialaccu, accuplot[:, 1], linestyle='--',\n",
    "         label='test')\n",
    "plt.ylabel('accuracy')\n",
    "plt.xlabel('C')\n",
    "plt.legend(loc='upper right')\n",
    "plt.xscale('linear')\n",
    "#plt.savefig('images/03_08.png', dpi=300)\n",
    "plt.show()"
   ]
  },
  {
   "cell_type": "markdown",
   "metadata": {
    "datalore": {
     "hide_input_from_viewers": true,
     "hide_output_from_viewers": true,
     "node_id": "Zai3Ag9t5MaiDEhWtIBszS",
     "type": "MD"
    }
   },
   "source": [
    "Therefore, C = -0.16\n",
    "\n",
    "Since we both want to earn money and avoid the loss, we should consider the confusion matrix, namely true positive, false negative, false positive and false negative.\n",
    "\n",
    "If it's a false negative, we miss a chance to earn money by predicting a quality client will not pay the loan; on the contrary, a false positive means we will lose huge money as we give loans to wrong people."
   ]
  },
  {
   "cell_type": "code",
   "execution_count": 26,
   "metadata": {
    "datalore": {
     "hide_input_from_viewers": true,
     "hide_output_from_viewers": true,
     "node_id": "Wm1DzJzKve4r6Bfny5FdCa",
     "type": "CODE"
    }
   },
   "outputs": [
    {
     "name": "stdout",
     "output_type": "stream",
     "text": [
      "[[   38  3715]\n",
      " [   40 22588]]\n"
     ]
    },
    {
     "data": {
      "image/png": "[encoded data removed]",
      "text/plain": [
       "<Figure size 180x180 with 1 Axes>"
      ]
     },
     "metadata": {
      "needs_background": "light"
     },
     "output_type": "display_data"
    }
   ],
   "source": [
    "model1_LR = LogisticRegression(C=10**-1, random_state=0)\n",
    "model1_LR.fit(X_train_trans, y_train)\n",
    "model1_LR_pred = model1_LR.predict(X_test_trans)\n",
    "train_pred = model1_LR.predict(X_train_trans)\n",
    "confmat = confusion_matrix(y_true=y_test, y_pred=model1_LR_pred)\n",
    "print(confmat)\n",
    "\n",
    "fig, ax = plt.subplots(figsize=(2.5, 2.5))\n",
    "ax.matshow(confmat, cmap=plt.cm.Blues, alpha=0.3)\n",
    "for i in range(confmat.shape[0]):\n",
    "    for j in range(confmat.shape[1]):\n",
    "        ax.text(x=j, y=i, s=confmat[i, j], va='center', ha='center')\n",
    "\n",
    "plt.xlabel('Predicted label')\n",
    "plt.ylabel('True label')\n",
    "\n",
    "plt.tight_layout()\n",
    "#plt.savefig('images/06_09.png', dpi=300)\n",
    "plt.show()"
   ]
  },
  {
   "cell_type": "code",
   "execution_count": 27,
   "metadata": {
    "datalore": {
     "hide_input_from_viewers": true,
     "hide_output_from_viewers": true,
     "node_id": "TY30CGnxmcw1lJ58RO3G4Y",
     "type": "CODE"
    }
   },
   "outputs": [
    {
     "name": "stdout",
     "output_type": "stream",
     "text": [
      "Precision: 0.859\n",
      "Recall: 0.998\n",
      "F1: 0.923\n",
      "Fbeta0.8: 0.908\n"
     ]
    }
   ],
   "source": [
    "print('Precision: %.3f' % precision_score(y_true=y_test, y_pred=model1_LR_pred))\n",
    "print('Recall: %.3f' % recall_score(y_true=y_test, y_pred=model1_LR_pred))\n",
    "print('F1: %.3f' % f1_score(y_true=y_test, y_pred=model1_LR_pred))\n",
    "print('Fbeta0.8: %.3f' % fbeta_score(y_true=y_test, y_pred=model1_LR_pred, beta=0.8))"
   ]
  },
  {
   "cell_type": "markdown",
   "metadata": {
    "datalore": {
     "hide_input_from_viewers": true,
     "hide_output_from_viewers": true,
     "node_id": "Nk8F1mBiJ6UhfIXmctMS5V",
     "type": "MD"
    }
   },
   "source": [
    "Lower precision means the model falsely grants loans to those who cannot afford it. F1 is the overall score if we consider losing potential quality clients is as important as borrowing money to the wrong people. Here beta=0.8 means the latter one is 0.8 times as important as the former one. We are now more risk-averse."
   ]
  },
  {
   "cell_type": "markdown",
   "metadata": {
    "datalore": {
     "hide_input_from_viewers": true,
     "hide_output_from_viewers": true,
     "node_id": "QUbaccgjgInGS5t73ek4jK",
     "type": "MD"
    }
   },
   "source": [
    "Then I will use the random forest model."
   ]
  },
  {
   "cell_type": "code",
   "execution_count": 29,
   "metadata": {},
   "outputs": [
    {
     "data": {
      "text/html": [
       "<div>\n",
       "<style scoped>\n",
       "    .dataframe tbody tr th:only-of-type {\n",
       "        vertical-align: middle;\n",
       "    }\n",
       "\n",
       "    .dataframe tbody tr th {\n",
       "        vertical-align: top;\n",
       "    }\n",
       "\n",
       "    .dataframe thead th {\n",
       "        text-align: right;\n",
       "    }\n",
       "</style>\n",
       "<table border=\"1\" class=\"dataframe\">\n",
       "  <thead>\n",
       "    <tr style=\"text-align: right;\">\n",
       "      <th></th>\n",
       "      <th>loan_amnt</th>\n",
       "      <th>int_rate</th>\n",
       "      <th>installment</th>\n",
       "      <th>emp_length</th>\n",
       "      <th>annual_inc</th>\n",
       "      <th>dti</th>\n",
       "      <th>delinq_2yrs</th>\n",
       "      <th>inq_last_6mths</th>\n",
       "      <th>open_acc</th>\n",
       "      <th>pub_rec</th>\n",
       "      <th>...</th>\n",
       "      <th>purpose_small_business</th>\n",
       "      <th>purpose_vacation</th>\n",
       "      <th>purpose_wedding</th>\n",
       "      <th>term_ 36 months</th>\n",
       "      <th>term_ 60 months</th>\n",
       "      <th>region_midwest</th>\n",
       "      <th>region_northeast</th>\n",
       "      <th>region_southeast</th>\n",
       "      <th>region_southwest</th>\n",
       "      <th>region_west</th>\n",
       "    </tr>\n",
       "  </thead>\n",
       "  <tbody>\n",
       "    <tr>\n",
       "      <th>25545</th>\n",
       "      <td>3600.0</td>\n",
       "      <td>11.12</td>\n",
       "      <td>118.07</td>\n",
       "      <td>2</td>\n",
       "      <td>40000.0</td>\n",
       "      <td>7.53</td>\n",
       "      <td>0.0</td>\n",
       "      <td>1.0</td>\n",
       "      <td>3.0</td>\n",
       "      <td>0.0</td>\n",
       "      <td>...</td>\n",
       "      <td>0</td>\n",
       "      <td>0</td>\n",
       "      <td>0</td>\n",
       "      <td>1</td>\n",
       "      <td>0</td>\n",
       "      <td>0</td>\n",
       "      <td>0</td>\n",
       "      <td>1</td>\n",
       "      <td>0</td>\n",
       "      <td>0</td>\n",
       "    </tr>\n",
       "    <tr>\n",
       "      <th>23234</th>\n",
       "      <td>20000.0</td>\n",
       "      <td>6.54</td>\n",
       "      <td>371.08</td>\n",
       "      <td>3</td>\n",
       "      <td>65000.0</td>\n",
       "      <td>13.26</td>\n",
       "      <td>0.0</td>\n",
       "      <td>0.0</td>\n",
       "      <td>10.0</td>\n",
       "      <td>0.0</td>\n",
       "      <td>...</td>\n",
       "      <td>0</td>\n",
       "      <td>0</td>\n",
       "      <td>0</td>\n",
       "      <td>1</td>\n",
       "      <td>0</td>\n",
       "      <td>0</td>\n",
       "      <td>0</td>\n",
       "      <td>0</td>\n",
       "      <td>0</td>\n",
       "      <td>1</td>\n",
       "    </tr>\n",
       "    <tr>\n",
       "      <th>34115</th>\n",
       "      <td>13500.0</td>\n",
       "      <td>11.14</td>\n",
       "      <td>442.85</td>\n",
       "      <td>0</td>\n",
       "      <td>48526.8</td>\n",
       "      <td>17.48</td>\n",
       "      <td>0.0</td>\n",
       "      <td>3.0</td>\n",
       "      <td>8.0</td>\n",
       "      <td>0.0</td>\n",
       "      <td>...</td>\n",
       "      <td>0</td>\n",
       "      <td>0</td>\n",
       "      <td>0</td>\n",
       "      <td>1</td>\n",
       "      <td>0</td>\n",
       "      <td>0</td>\n",
       "      <td>1</td>\n",
       "      <td>0</td>\n",
       "      <td>0</td>\n",
       "      <td>0</td>\n",
       "    </tr>\n",
       "    <tr>\n",
       "      <th>784</th>\n",
       "      <td>13000.0</td>\n",
       "      <td>20.30</td>\n",
       "      <td>485.12</td>\n",
       "      <td>5</td>\n",
       "      <td>42000.0</td>\n",
       "      <td>7.69</td>\n",
       "      <td>0.0</td>\n",
       "      <td>1.0</td>\n",
       "      <td>5.0</td>\n",
       "      <td>0.0</td>\n",
       "      <td>...</td>\n",
       "      <td>0</td>\n",
       "      <td>0</td>\n",
       "      <td>0</td>\n",
       "      <td>1</td>\n",
       "      <td>0</td>\n",
       "      <td>1</td>\n",
       "      <td>0</td>\n",
       "      <td>0</td>\n",
       "      <td>0</td>\n",
       "      <td>0</td>\n",
       "    </tr>\n",
       "    <tr>\n",
       "      <th>37018</th>\n",
       "      <td>18000.0</td>\n",
       "      <td>11.89</td>\n",
       "      <td>596.96</td>\n",
       "      <td>9</td>\n",
       "      <td>72000.0</td>\n",
       "      <td>22.30</td>\n",
       "      <td>0.0</td>\n",
       "      <td>2.0</td>\n",
       "      <td>16.0</td>\n",
       "      <td>0.0</td>\n",
       "      <td>...</td>\n",
       "      <td>0</td>\n",
       "      <td>0</td>\n",
       "      <td>0</td>\n",
       "      <td>1</td>\n",
       "      <td>0</td>\n",
       "      <td>1</td>\n",
       "      <td>0</td>\n",
       "      <td>0</td>\n",
       "      <td>0</td>\n",
       "      <td>0</td>\n",
       "    </tr>\n",
       "  </tbody>\n",
       "</table>\n",
       "<p>5 rows × 43 columns</p>\n",
       "</div>"
      ],
      "text/plain": [
       "       loan_amnt  int_rate  installment  emp_length  annual_inc    dti  \\\n",
       "25545     3600.0     11.12       118.07           2     40000.0   7.53   \n",
       "23234    20000.0      6.54       371.08           3     65000.0  13.26   \n",
       "34115    13500.0     11.14       442.85           0     48526.8  17.48   \n",
       "784      13000.0     20.30       485.12           5     42000.0   7.69   \n",
       "37018    18000.0     11.89       596.96           9     72000.0  22.30   \n",
       "\n",
       "       delinq_2yrs  inq_last_6mths  open_acc  pub_rec  ...  \\\n",
       "25545          0.0             1.0       3.0      0.0  ...   \n",
       "23234          0.0             0.0      10.0      0.0  ...   \n",
       "34115          0.0             3.0       8.0      0.0  ...   \n",
       "784            0.0             1.0       5.0      0.0  ...   \n",
       "37018          0.0             2.0      16.0      0.0  ...   \n",
       "\n",
       "       purpose_small_business  purpose_vacation  purpose_wedding  \\\n",
       "25545                       0                 0                0   \n",
       "23234                       0                 0                0   \n",
       "34115                       0                 0                0   \n",
       "784                         0                 0                0   \n",
       "37018                       0                 0                0   \n",
       "\n",
       "       term_ 36 months  term_ 60 months  region_midwest  region_northeast  \\\n",
       "25545                1                0               0                 0   \n",
       "23234                1                0               0                 0   \n",
       "34115                1                0               0                 1   \n",
       "784                  1                0               1                 0   \n",
       "37018                1                0               1                 0   \n",
       "\n",
       "       region_southeast  region_southwest  region_west  \n",
       "25545                 1                 0            0  \n",
       "23234                 0                 0            1  \n",
       "34115                 0                 0            0  \n",
       "784                   0                 0            0  \n",
       "37018                 0                 0            0  \n",
       "\n",
       "[5 rows x 43 columns]"
      ]
     },
     "execution_count": 29,
     "metadata": {},
     "output_type": "execute_result"
    }
   ],
   "source": [
    "X_train.head()"
   ]
  },
  {
   "cell_type": "code",
   "execution_count": 28,
   "metadata": {
    "datalore": {
     "hide_input_from_viewers": true,
     "hide_output_from_viewers": true,
     "node_id": "rh22kGlbTjrp5vpQIgAQjf",
     "type": "CODE"
    }
   },
   "outputs": [
    {
     "name": "stdout",
     "output_type": "stream",
     "text": [
      "Warning: Some of the feature names have been changed automatically to be compatible with SavedModels because fix_feature_names=True.\n"
     ]
    },
    {
     "name": "stderr",
     "output_type": "stream",
     "text": [
      "WARNING:absl:Some of the feature names have been changed automatically to be compatible with SavedModels because fix_feature_names=True.\n"
     ]
    },
    {
     "name": "stdout",
     "output_type": "stream",
     "text": [
      "Warning: Some of the feature names have been changed automatically to be compatible with SavedModels because fix_feature_names=True.\n"
     ]
    },
    {
     "name": "stderr",
     "output_type": "stream",
     "text": [
      "WARNING:absl:Some of the feature names have been changed automatically to be compatible with SavedModels because fix_feature_names=True.\n"
     ]
    },
    {
     "name": "stdout",
     "output_type": "stream",
     "text": [
      "Use 4 thread(s) for training\n",
      "Use /var/folders/60/8ltyqqb94yx4pstnmdd7wl3w0000gn/T/tmp_topekvm as temporary training directory\n",
      "Reading training dataset...\n",
      "Training tensor examples:\n",
      "Features: {'loan_amnt': <tf.Tensor 'data_12:0' shape=(None,) dtype=float64>, 'int_rate': <tf.Tensor 'data_11:0' shape=(None,) dtype=float64>, 'installment': <tf.Tensor 'data_10:0' shape=(None,) dtype=float64>, 'emp_length': <tf.Tensor 'data_3:0' shape=(None,) dtype=int64>, 'annual_inc': <tf.Tensor 'data:0' shape=(None,) dtype=float64>, 'dti': <tf.Tensor 'data_2:0' shape=(None,) dtype=float64>, 'delinq_2yrs': <tf.Tensor 'data_1:0' shape=(None,) dtype=float64>, 'inq_last_6mths': <tf.Tensor 'data_9:0' shape=(None,) dtype=float64>, 'open_acc': <tf.Tensor 'data_13:0' shape=(None,) dtype=float64>, 'pub_rec': <tf.Tensor 'data_14:0' shape=(None,) dtype=float64>, 'revol_bal': <tf.Tensor 'data_35:0' shape=(None,) dtype=float64>, 'revol_util': <tf.Tensor 'data_36:0' shape=(None,) dtype=float64>, 'total_acc': <tf.Tensor 'data_39:0' shape=(None,) dtype=float64>, 'pub_rec_bankruptcies': <tf.Tensor 'data_15:0' shape=(None,) dtype=float64>, 'home_ownership_MORTGAGE': <tf.Tensor 'data_4:0' shape=(None,) dtype=uint8>, 'home_ownership_NONE': <tf.Tensor 'data_5:0' shape=(None,) dtype=uint8>, 'home_ownership_OTHER': <tf.Tensor 'data_6:0' shape=(None,) dtype=uint8>, 'home_ownership_OWN': <tf.Tensor 'data_7:0' shape=(None,) dtype=uint8>, 'home_ownership_RENT': <tf.Tensor 'data_8:0' shape=(None,) dtype=uint8>, 'verification_status_Not_Verified': <tf.Tensor 'data_40:0' shape=(None,) dtype=uint8>, 'verification_status_Source_Verified': <tf.Tensor 'data_41:0' shape=(None,) dtype=uint8>, 'verification_status_Verified': <tf.Tensor 'data_42:0' shape=(None,) dtype=uint8>, 'purpose_car': <tf.Tensor 'data_16:0' shape=(None,) dtype=uint8>, 'purpose_credit_card': <tf.Tensor 'data_17:0' shape=(None,) dtype=uint8>, 'purpose_debt_consolidation': <tf.Tensor 'data_18:0' shape=(None,) dtype=uint8>, 'purpose_educational': <tf.Tensor 'data_19:0' shape=(None,) dtype=uint8>, 'purpose_home_improvement': <tf.Tensor 'data_20:0' shape=(None,) dtype=uint8>, 'purpose_house': <tf.Tensor 'data_21:0' shape=(None,) dtype=uint8>, 'purpose_major_purchase': <tf.Tensor 'data_22:0' shape=(None,) dtype=uint8>, 'purpose_medical': <tf.Tensor 'data_23:0' shape=(None,) dtype=uint8>, 'purpose_moving': <tf.Tensor 'data_24:0' shape=(None,) dtype=uint8>, 'purpose_other': <tf.Tensor 'data_25:0' shape=(None,) dtype=uint8>, 'purpose_renewable_energy': <tf.Tensor 'data_26:0' shape=(None,) dtype=uint8>, 'purpose_small_business': <tf.Tensor 'data_27:0' shape=(None,) dtype=uint8>, 'purpose_vacation': <tf.Tensor 'data_28:0' shape=(None,) dtype=uint8>, 'purpose_wedding': <tf.Tensor 'data_29:0' shape=(None,) dtype=uint8>, 'term__36_months': <tf.Tensor 'data_37:0' shape=(None,) dtype=uint8>, 'term__60_months': <tf.Tensor 'data_38:0' shape=(None,) dtype=uint8>, 'region_midwest': <tf.Tensor 'data_30:0' shape=(None,) dtype=uint8>, 'region_northeast': <tf.Tensor 'data_31:0' shape=(None,) dtype=uint8>, 'region_southeast': <tf.Tensor 'data_32:0' shape=(None,) dtype=uint8>, 'region_southwest': <tf.Tensor 'data_33:0' shape=(None,) dtype=uint8>, 'region_west': <tf.Tensor 'data_34:0' shape=(None,) dtype=uint8>}\n",
      "Label: Tensor(\"data_43:0\", shape=(None,), dtype=int64)\n",
      "Weights: None\n",
      "WARNING:tensorflow:From /Users/zaiyingqi/opt/anaconda3/lib/python3.8/site-packages/tensorflow/python/autograph/pyct/static_analysis/liveness.py:83: Analyzer.lamba_check (from tensorflow.python.autograph.pyct.static_analysis.liveness) is deprecated and will be removed after 2023-09-23.\n",
      "Instructions for updating:\n",
      "Lambda fuctions will be no more assumed to be used in the statement where they are used, or at least in the same block. https://github.com/tensorflow/tensorflow/issues/56089\n"
     ]
    },
    {
     "name": "stderr",
     "output_type": "stream",
     "text": [
      "WARNING:tensorflow:From /Users/zaiyingqi/opt/anaconda3/lib/python3.8/site-packages/tensorflow/python/autograph/pyct/static_analysis/liveness.py:83: Analyzer.lamba_check (from tensorflow.python.autograph.pyct.static_analysis.liveness) is deprecated and will be removed after 2023-09-23.\n",
      "Instructions for updating:\n",
      "Lambda fuctions will be no more assumed to be used in the statement where they are used, or at least in the same block. https://github.com/tensorflow/tensorflow/issues/56089\n"
     ]
    },
    {
     "ename": "ValueError",
     "evalue": "in user code:\n\n    File \"/Users/zaiyingqi/opt/anaconda3/lib/python3.8/site-packages/tensorflow_decision_forests/keras/core.py\", line 1061, in _consumes_training_examples_until_eof  *\n        num_examples += self.train_step(data)\n    File \"/Users/zaiyingqi/opt/anaconda3/lib/python3.8/site-packages/tensorflow_decision_forests/keras/core.py\", line 549, in _method_wrapper  *\n        result = method(self, *args, **kwargs)\n    File \"/Users/zaiyingqi/opt/anaconda3/lib/python3.8/site-packages/tensorflow_decision_forests/keras/core.py\", line 550, in train_step  *\n        return self.collect_data_step(data, is_training_example=True)\n    File \"/Users/zaiyingqi/opt/anaconda3/lib/python3.8/site-packages/tensorflow_decision_forests/keras/core.py\", line 549, in _method_wrapper  *\n        result = method(self, *args, **kwargs)\n    File \"/Users/zaiyingqi/opt/anaconda3/lib/python3.8/site-packages/tensorflow_decision_forests/keras/core.py\", line 677, in collect_data_step  *\n        normalized_semantic_inputs = tf_core.normalize_inputs(\n    File \"/Users/zaiyingqi/opt/anaconda3/lib/python3.8/site-packages/tensorflow_decision_forests/tensorflow/core_inference.py\", line 221, in normalize_inputs  *\n        raise ValueError(\n\n    ValueError: Non supported tensor dtype <dtype: 'uint8'> for semantic Semantic.CATEGORICAL of feature home_ownership_MORTGAGE\n",
     "output_type": "error",
     "traceback": [
      "\u001b[0;31m---------------------------------------------------------------------------\u001b[0m",
      "\u001b[0;31mValueError\u001b[0m                                Traceback (most recent call last)",
      "\u001b[0;32m<ipython-input-28-f48c6e714b76>\u001b[0m in \u001b[0;36m<module>\u001b[0;34m\u001b[0m\n\u001b[1;32m      6\u001b[0m \u001b[0mX_train_trans\u001b[0m \u001b[0;34m=\u001b[0m \u001b[0mtfdf\u001b[0m\u001b[0;34m.\u001b[0m\u001b[0mkeras\u001b[0m\u001b[0;34m.\u001b[0m\u001b[0mpd_dataframe_to_tf_dataset\u001b[0m\u001b[0;34m(\u001b[0m\u001b[0mX_train_rf\u001b[0m\u001b[0;34m,\u001b[0m \u001b[0mlabel\u001b[0m\u001b[0;34m=\u001b[0m\u001b[0;34m'y'\u001b[0m\u001b[0;34m)\u001b[0m\u001b[0;34m\u001b[0m\u001b[0;34m\u001b[0m\u001b[0m\n\u001b[1;32m      7\u001b[0m \u001b[0mmodel_forest\u001b[0m \u001b[0;34m=\u001b[0m \u001b[0mtfdf\u001b[0m\u001b[0;34m.\u001b[0m\u001b[0mkeras\u001b[0m\u001b[0;34m.\u001b[0m\u001b[0mRandomForestModel\u001b[0m\u001b[0;34m(\u001b[0m\u001b[0mverbose\u001b[0m \u001b[0;34m=\u001b[0m \u001b[0;36m2\u001b[0m\u001b[0;34m)\u001b[0m\u001b[0;34m\u001b[0m\u001b[0;34m\u001b[0m\u001b[0m\n\u001b[0;32m----> 8\u001b[0;31m \u001b[0mmodel_forest\u001b[0m\u001b[0;34m.\u001b[0m\u001b[0mfit\u001b[0m\u001b[0;34m(\u001b[0m\u001b[0mX_train_trans\u001b[0m\u001b[0;34m)\u001b[0m\u001b[0;34m\u001b[0m\u001b[0;34m\u001b[0m\u001b[0m\n\u001b[0m\u001b[1;32m      9\u001b[0m \u001b[0;31m#model_forest.summary()\u001b[0m\u001b[0;34m\u001b[0m\u001b[0;34m\u001b[0m\u001b[0;34m\u001b[0m\u001b[0m\n\u001b[1;32m     10\u001b[0m \u001b[0mmodel_forest\u001b[0m\u001b[0;34m.\u001b[0m\u001b[0mevaluate\u001b[0m\u001b[0;34m(\u001b[0m\u001b[0mX_test_trans\u001b[0m\u001b[0;34m)\u001b[0m\u001b[0;34m\u001b[0m\u001b[0;34m\u001b[0m\u001b[0m\n",
      "\u001b[0;32m~/opt/anaconda3/lib/python3.8/site-packages/tensorflow_decision_forests/keras/core.py\u001b[0m in \u001b[0;36mfit\u001b[0;34m(self, x, y, callbacks, verbose, validation_steps, validation_data, sample_weight, steps_per_epoch, class_weight, **kwargs)\u001b[0m\n\u001b[1;32m   1031\u001b[0m     \u001b[0mself\u001b[0m\u001b[0;34m.\u001b[0m\u001b[0m_is_trained\u001b[0m\u001b[0;34m.\u001b[0m\u001b[0massign\u001b[0m\u001b[0;34m(\u001b[0m\u001b[0;32mFalse\u001b[0m\u001b[0;34m)\u001b[0m\u001b[0;34m\u001b[0m\u001b[0;34m\u001b[0m\u001b[0m\n\u001b[1;32m   1032\u001b[0m \u001b[0;34m\u001b[0m\u001b[0m\n\u001b[0;32m-> 1033\u001b[0;31m     return self._fit_implementation(\n\u001b[0m\u001b[1;32m   1034\u001b[0m         \u001b[0mx\u001b[0m\u001b[0;34m=\u001b[0m\u001b[0mx\u001b[0m\u001b[0;34m,\u001b[0m\u001b[0;34m\u001b[0m\u001b[0;34m\u001b[0m\u001b[0m\n\u001b[1;32m   1035\u001b[0m         \u001b[0my\u001b[0m\u001b[0;34m=\u001b[0m\u001b[0my\u001b[0m\u001b[0;34m,\u001b[0m\u001b[0;34m\u001b[0m\u001b[0;34m\u001b[0m\u001b[0m\n",
      "\u001b[0;32m~/opt/anaconda3/lib/python3.8/site-packages/tensorflow_decision_forests/keras/core.py\u001b[0m in \u001b[0;36m_fit_implementation\u001b[0;34m(self, x, y, verbose, callbacks, sample_weight, validation_data, validation_steps, steps_per_epoch, class_weight)\u001b[0m\n\u001b[1;32m   1172\u001b[0m         \u001b[0;31m# Load the entire training dataset in Yggdrasil in a single TensorFlow\u001b[0m\u001b[0;34m\u001b[0m\u001b[0;34m\u001b[0m\u001b[0;34m\u001b[0m\u001b[0m\n\u001b[1;32m   1173\u001b[0m         \u001b[0;31m# step.\u001b[0m\u001b[0;34m\u001b[0m\u001b[0;34m\u001b[0m\u001b[0;34m\u001b[0m\u001b[0m\n\u001b[0;32m-> 1174\u001b[0;31m         self._num_training_examples = self._consumes_training_examples_until_eof(\n\u001b[0m\u001b[1;32m   1175\u001b[0m             iterator)\n\u001b[1;32m   1176\u001b[0m \u001b[0;34m\u001b[0m\u001b[0m\n",
      "\u001b[0;32m~/opt/anaconda3/lib/python3.8/site-packages/tensorflow/python/trackable/base.py\u001b[0m in \u001b[0;36m_method_wrapper\u001b[0;34m(self, *args, **kwargs)\u001b[0m\n\u001b[1;32m    203\u001b[0m     \u001b[0mself\u001b[0m\u001b[0;34m.\u001b[0m\u001b[0m_self_setattr_tracking\u001b[0m \u001b[0;34m=\u001b[0m \u001b[0;32mFalse\u001b[0m  \u001b[0;31m# pylint: disable=protected-access\u001b[0m\u001b[0;34m\u001b[0m\u001b[0;34m\u001b[0m\u001b[0m\n\u001b[1;32m    204\u001b[0m     \u001b[0;32mtry\u001b[0m\u001b[0;34m:\u001b[0m\u001b[0;34m\u001b[0m\u001b[0;34m\u001b[0m\u001b[0m\n\u001b[0;32m--> 205\u001b[0;31m       \u001b[0mresult\u001b[0m \u001b[0;34m=\u001b[0m \u001b[0mmethod\u001b[0m\u001b[0;34m(\u001b[0m\u001b[0mself\u001b[0m\u001b[0;34m,\u001b[0m \u001b[0;34m*\u001b[0m\u001b[0margs\u001b[0m\u001b[0;34m,\u001b[0m \u001b[0;34m**\u001b[0m\u001b[0mkwargs\u001b[0m\u001b[0;34m)\u001b[0m\u001b[0;34m\u001b[0m\u001b[0;34m\u001b[0m\u001b[0m\n\u001b[0m\u001b[1;32m    206\u001b[0m     \u001b[0;32mfinally\u001b[0m\u001b[0;34m:\u001b[0m\u001b[0;34m\u001b[0m\u001b[0;34m\u001b[0m\u001b[0m\n\u001b[1;32m    207\u001b[0m       \u001b[0mself\u001b[0m\u001b[0;34m.\u001b[0m\u001b[0m_self_setattr_tracking\u001b[0m \u001b[0;34m=\u001b[0m \u001b[0mprevious_value\u001b[0m  \u001b[0;31m# pylint: disable=protected-access\u001b[0m\u001b[0;34m\u001b[0m\u001b[0;34m\u001b[0m\u001b[0m\n",
      "\u001b[0;32m~/opt/anaconda3/lib/python3.8/site-packages/tensorflow/python/util/traceback_utils.py\u001b[0m in \u001b[0;36merror_handler\u001b[0;34m(*args, **kwargs)\u001b[0m\n\u001b[1;32m    151\u001b[0m     \u001b[0;32mexcept\u001b[0m \u001b[0mException\u001b[0m \u001b[0;32mas\u001b[0m \u001b[0me\u001b[0m\u001b[0;34m:\u001b[0m\u001b[0;34m\u001b[0m\u001b[0;34m\u001b[0m\u001b[0m\n\u001b[1;32m    152\u001b[0m       \u001b[0mfiltered_tb\u001b[0m \u001b[0;34m=\u001b[0m \u001b[0m_process_traceback_frames\u001b[0m\u001b[0;34m(\u001b[0m\u001b[0me\u001b[0m\u001b[0;34m.\u001b[0m\u001b[0m__traceback__\u001b[0m\u001b[0;34m)\u001b[0m\u001b[0;34m\u001b[0m\u001b[0;34m\u001b[0m\u001b[0m\n\u001b[0;32m--> 153\u001b[0;31m       \u001b[0;32mraise\u001b[0m \u001b[0me\u001b[0m\u001b[0;34m.\u001b[0m\u001b[0mwith_traceback\u001b[0m\u001b[0;34m(\u001b[0m\u001b[0mfiltered_tb\u001b[0m\u001b[0;34m)\u001b[0m \u001b[0;32mfrom\u001b[0m \u001b[0;32mNone\u001b[0m\u001b[0;34m\u001b[0m\u001b[0;34m\u001b[0m\u001b[0m\n\u001b[0m\u001b[1;32m    154\u001b[0m     \u001b[0;32mfinally\u001b[0m\u001b[0;34m:\u001b[0m\u001b[0;34m\u001b[0m\u001b[0;34m\u001b[0m\u001b[0m\n\u001b[1;32m    155\u001b[0m       \u001b[0;32mdel\u001b[0m \u001b[0mfiltered_tb\u001b[0m\u001b[0;34m\u001b[0m\u001b[0;34m\u001b[0m\u001b[0m\n",
      "\u001b[0;32m~/opt/anaconda3/lib/python3.8/site-packages/tensorflow_decision_forests/keras/core.py\u001b[0m in \u001b[0;36mtf___consumes_training_examples_until_eof\u001b[0;34m(self, iterator)\u001b[0m\n\u001b[1;32m     25\u001b[0m                     \u001b[0mnum_examples\u001b[0m \u001b[0;34m+=\u001b[0m \u001b[0mag__\u001b[0m\u001b[0;34m.\u001b[0m\u001b[0mconverted_call\u001b[0m\u001b[0;34m(\u001b[0m\u001b[0mself\u001b[0m\u001b[0;34m.\u001b[0m\u001b[0mtrain_step\u001b[0m\u001b[0;34m,\u001b[0m \u001b[0;34m(\u001b[0m\u001b[0mdata\u001b[0m\u001b[0;34m,\u001b[0m\u001b[0;34m)\u001b[0m\u001b[0;34m,\u001b[0m \u001b[0;32mNone\u001b[0m\u001b[0;34m,\u001b[0m \u001b[0mfscope\u001b[0m\u001b[0;34m)\u001b[0m\u001b[0;34m\u001b[0m\u001b[0;34m\u001b[0m\u001b[0m\n\u001b[1;32m     26\u001b[0m                 \u001b[0mdata\u001b[0m \u001b[0;34m=\u001b[0m \u001b[0mag__\u001b[0m\u001b[0;34m.\u001b[0m\u001b[0mUndefined\u001b[0m\u001b[0;34m(\u001b[0m\u001b[0;34m'data'\u001b[0m\u001b[0;34m)\u001b[0m\u001b[0;34m\u001b[0m\u001b[0;34m\u001b[0m\u001b[0m\n\u001b[0;32m---> 27\u001b[0;31m                 \u001b[0mag__\u001b[0m\u001b[0;34m.\u001b[0m\u001b[0mfor_stmt\u001b[0m\u001b[0;34m(\u001b[0m\u001b[0mag__\u001b[0m\u001b[0;34m.\u001b[0m\u001b[0mld\u001b[0m\u001b[0;34m(\u001b[0m\u001b[0miterator\u001b[0m\u001b[0;34m)\u001b[0m\u001b[0;34m,\u001b[0m \u001b[0;32mNone\u001b[0m\u001b[0;34m,\u001b[0m \u001b[0mloop_body\u001b[0m\u001b[0;34m,\u001b[0m \u001b[0mget_state\u001b[0m\u001b[0;34m,\u001b[0m \u001b[0mset_state\u001b[0m\u001b[0;34m,\u001b[0m \u001b[0;34m(\u001b[0m\u001b[0;34m'num_examples'\u001b[0m\u001b[0;34m,\u001b[0m\u001b[0;34m)\u001b[0m\u001b[0;34m,\u001b[0m \u001b[0;34m{\u001b[0m\u001b[0;34m'iterate_names'\u001b[0m\u001b[0;34m:\u001b[0m \u001b[0;34m'data'\u001b[0m\u001b[0;34m}\u001b[0m\u001b[0;34m)\u001b[0m\u001b[0;34m\u001b[0m\u001b[0;34m\u001b[0m\u001b[0m\n\u001b[0m\u001b[1;32m     28\u001b[0m                 \u001b[0;32mtry\u001b[0m\u001b[0;34m:\u001b[0m\u001b[0;34m\u001b[0m\u001b[0;34m\u001b[0m\u001b[0m\n\u001b[1;32m     29\u001b[0m                     \u001b[0mdo_return\u001b[0m \u001b[0;34m=\u001b[0m \u001b[0;32mTrue\u001b[0m\u001b[0;34m\u001b[0m\u001b[0;34m\u001b[0m\u001b[0m\n",
      "\u001b[0;32m~/opt/anaconda3/lib/python3.8/site-packages/tensorflow_decision_forests/keras/core.py\u001b[0m in \u001b[0;36mloop_body\u001b[0;34m(itr)\u001b[0m\n\u001b[1;32m     23\u001b[0m                     \u001b[0mdata\u001b[0m \u001b[0;34m=\u001b[0m \u001b[0mitr\u001b[0m\u001b[0;34m\u001b[0m\u001b[0;34m\u001b[0m\u001b[0m\n\u001b[1;32m     24\u001b[0m                     \u001b[0mnum_examples\u001b[0m \u001b[0;34m=\u001b[0m \u001b[0mag__\u001b[0m\u001b[0;34m.\u001b[0m\u001b[0mld\u001b[0m\u001b[0;34m(\u001b[0m\u001b[0mnum_examples\u001b[0m\u001b[0;34m)\u001b[0m\u001b[0;34m\u001b[0m\u001b[0;34m\u001b[0m\u001b[0m\n\u001b[0;32m---> 25\u001b[0;31m                     \u001b[0mnum_examples\u001b[0m \u001b[0;34m+=\u001b[0m \u001b[0mag__\u001b[0m\u001b[0;34m.\u001b[0m\u001b[0mconverted_call\u001b[0m\u001b[0;34m(\u001b[0m\u001b[0mself\u001b[0m\u001b[0;34m.\u001b[0m\u001b[0mtrain_step\u001b[0m\u001b[0;34m,\u001b[0m \u001b[0;34m(\u001b[0m\u001b[0mdata\u001b[0m\u001b[0;34m,\u001b[0m\u001b[0;34m)\u001b[0m\u001b[0;34m,\u001b[0m \u001b[0;32mNone\u001b[0m\u001b[0;34m,\u001b[0m \u001b[0mfscope\u001b[0m\u001b[0;34m)\u001b[0m\u001b[0;34m\u001b[0m\u001b[0;34m\u001b[0m\u001b[0m\n\u001b[0m\u001b[1;32m     26\u001b[0m                 \u001b[0mdata\u001b[0m \u001b[0;34m=\u001b[0m \u001b[0mag__\u001b[0m\u001b[0;34m.\u001b[0m\u001b[0mUndefined\u001b[0m\u001b[0;34m(\u001b[0m\u001b[0;34m'data'\u001b[0m\u001b[0;34m)\u001b[0m\u001b[0;34m\u001b[0m\u001b[0;34m\u001b[0m\u001b[0m\n\u001b[1;32m     27\u001b[0m                 \u001b[0mag__\u001b[0m\u001b[0;34m.\u001b[0m\u001b[0mfor_stmt\u001b[0m\u001b[0;34m(\u001b[0m\u001b[0mag__\u001b[0m\u001b[0;34m.\u001b[0m\u001b[0mld\u001b[0m\u001b[0;34m(\u001b[0m\u001b[0miterator\u001b[0m\u001b[0;34m)\u001b[0m\u001b[0;34m,\u001b[0m \u001b[0;32mNone\u001b[0m\u001b[0;34m,\u001b[0m \u001b[0mloop_body\u001b[0m\u001b[0;34m,\u001b[0m \u001b[0mget_state\u001b[0m\u001b[0;34m,\u001b[0m \u001b[0mset_state\u001b[0m\u001b[0;34m,\u001b[0m \u001b[0;34m(\u001b[0m\u001b[0;34m'num_examples'\u001b[0m\u001b[0;34m,\u001b[0m\u001b[0;34m)\u001b[0m\u001b[0;34m,\u001b[0m \u001b[0;34m{\u001b[0m\u001b[0;34m'iterate_names'\u001b[0m\u001b[0;34m:\u001b[0m \u001b[0;34m'data'\u001b[0m\u001b[0;34m}\u001b[0m\u001b[0;34m)\u001b[0m\u001b[0;34m\u001b[0m\u001b[0;34m\u001b[0m\u001b[0m\n",
      "\u001b[0;32m~/opt/anaconda3/lib/python3.8/site-packages/tensorflow/python/trackable/base.py\u001b[0m in \u001b[0;36mtf___method_wrapper\u001b[0;34m(self, *args, **kwargs)\u001b[0m\n\u001b[1;32m     12\u001b[0m                 \u001b[0mag__\u001b[0m\u001b[0;34m.\u001b[0m\u001b[0mld\u001b[0m\u001b[0;34m(\u001b[0m\u001b[0mself\u001b[0m\u001b[0;34m)\u001b[0m\u001b[0;34m.\u001b[0m\u001b[0m_self_setattr_tracking\u001b[0m \u001b[0;34m=\u001b[0m \u001b[0;32mFalse\u001b[0m\u001b[0;34m\u001b[0m\u001b[0;34m\u001b[0m\u001b[0m\n\u001b[1;32m     13\u001b[0m                 \u001b[0;32mtry\u001b[0m\u001b[0;34m:\u001b[0m\u001b[0;34m\u001b[0m\u001b[0;34m\u001b[0m\u001b[0m\n\u001b[0;32m---> 14\u001b[0;31m                     \u001b[0mresult\u001b[0m \u001b[0;34m=\u001b[0m \u001b[0mag__\u001b[0m\u001b[0;34m.\u001b[0m\u001b[0mconverted_call\u001b[0m\u001b[0;34m(\u001b[0m\u001b[0mag__\u001b[0m\u001b[0;34m.\u001b[0m\u001b[0mld\u001b[0m\u001b[0;34m(\u001b[0m\u001b[0mmethod\u001b[0m\u001b[0;34m)\u001b[0m\u001b[0;34m,\u001b[0m \u001b[0;34m(\u001b[0m\u001b[0;34m(\u001b[0m\u001b[0mag__\u001b[0m\u001b[0;34m.\u001b[0m\u001b[0mld\u001b[0m\u001b[0;34m(\u001b[0m\u001b[0mself\u001b[0m\u001b[0;34m)\u001b[0m\u001b[0;34m,\u001b[0m\u001b[0;34m)\u001b[0m \u001b[0;34m+\u001b[0m \u001b[0mtuple\u001b[0m\u001b[0;34m(\u001b[0m\u001b[0mag__\u001b[0m\u001b[0;34m.\u001b[0m\u001b[0mld\u001b[0m\u001b[0;34m(\u001b[0m\u001b[0margs\u001b[0m\u001b[0;34m)\u001b[0m\u001b[0;34m)\u001b[0m\u001b[0;34m)\u001b[0m\u001b[0;34m,\u001b[0m \u001b[0mdict\u001b[0m\u001b[0;34m(\u001b[0m\u001b[0;34m**\u001b[0m\u001b[0mag__\u001b[0m\u001b[0;34m.\u001b[0m\u001b[0mld\u001b[0m\u001b[0;34m(\u001b[0m\u001b[0mkwargs\u001b[0m\u001b[0;34m)\u001b[0m\u001b[0;34m)\u001b[0m\u001b[0;34m,\u001b[0m \u001b[0mfscope\u001b[0m\u001b[0;34m)\u001b[0m\u001b[0;34m\u001b[0m\u001b[0;34m\u001b[0m\u001b[0m\n\u001b[0m\u001b[1;32m     15\u001b[0m                 \u001b[0;32mfinally\u001b[0m\u001b[0;34m:\u001b[0m\u001b[0;34m\u001b[0m\u001b[0;34m\u001b[0m\u001b[0m\n\u001b[1;32m     16\u001b[0m                     \u001b[0mag__\u001b[0m\u001b[0;34m.\u001b[0m\u001b[0mld\u001b[0m\u001b[0;34m(\u001b[0m\u001b[0mself\u001b[0m\u001b[0;34m)\u001b[0m\u001b[0;34m.\u001b[0m\u001b[0m_self_setattr_tracking\u001b[0m \u001b[0;34m=\u001b[0m \u001b[0mag__\u001b[0m\u001b[0;34m.\u001b[0m\u001b[0mld\u001b[0m\u001b[0;34m(\u001b[0m\u001b[0mprevious_value\u001b[0m\u001b[0;34m)\u001b[0m\u001b[0;34m\u001b[0m\u001b[0;34m\u001b[0m\u001b[0m\n",
      "\u001b[0;32m~/opt/anaconda3/lib/python3.8/site-packages/tensorflow_decision_forests/keras/core.py\u001b[0m in \u001b[0;36mtf__train_step\u001b[0;34m(self, data)\u001b[0m\n\u001b[1;32m     12\u001b[0m                 \u001b[0;32mtry\u001b[0m\u001b[0;34m:\u001b[0m\u001b[0;34m\u001b[0m\u001b[0;34m\u001b[0m\u001b[0m\n\u001b[1;32m     13\u001b[0m                     \u001b[0mdo_return\u001b[0m \u001b[0;34m=\u001b[0m \u001b[0;32mTrue\u001b[0m\u001b[0;34m\u001b[0m\u001b[0;34m\u001b[0m\u001b[0m\n\u001b[0;32m---> 14\u001b[0;31m                     \u001b[0mretval_\u001b[0m \u001b[0;34m=\u001b[0m \u001b[0mag__\u001b[0m\u001b[0;34m.\u001b[0m\u001b[0mconverted_call\u001b[0m\u001b[0;34m(\u001b[0m\u001b[0mag__\u001b[0m\u001b[0;34m.\u001b[0m\u001b[0mld\u001b[0m\u001b[0;34m(\u001b[0m\u001b[0mself\u001b[0m\u001b[0;34m)\u001b[0m\u001b[0;34m.\u001b[0m\u001b[0mcollect_data_step\u001b[0m\u001b[0;34m,\u001b[0m \u001b[0;34m(\u001b[0m\u001b[0mag__\u001b[0m\u001b[0;34m.\u001b[0m\u001b[0mld\u001b[0m\u001b[0;34m(\u001b[0m\u001b[0mdata\u001b[0m\u001b[0;34m)\u001b[0m\u001b[0;34m,\u001b[0m\u001b[0;34m)\u001b[0m\u001b[0;34m,\u001b[0m \u001b[0mdict\u001b[0m\u001b[0;34m(\u001b[0m\u001b[0mis_training_example\u001b[0m\u001b[0;34m=\u001b[0m\u001b[0;32mTrue\u001b[0m\u001b[0;34m)\u001b[0m\u001b[0;34m,\u001b[0m \u001b[0mfscope\u001b[0m\u001b[0;34m)\u001b[0m\u001b[0;34m\u001b[0m\u001b[0;34m\u001b[0m\u001b[0m\n\u001b[0m\u001b[1;32m     15\u001b[0m                 \u001b[0;32mexcept\u001b[0m\u001b[0;34m:\u001b[0m\u001b[0;34m\u001b[0m\u001b[0;34m\u001b[0m\u001b[0m\n\u001b[1;32m     16\u001b[0m                     \u001b[0mdo_return\u001b[0m \u001b[0;34m=\u001b[0m \u001b[0;32mFalse\u001b[0m\u001b[0;34m\u001b[0m\u001b[0;34m\u001b[0m\u001b[0m\n",
      "\u001b[0;32m~/opt/anaconda3/lib/python3.8/site-packages/tensorflow/python/trackable/base.py\u001b[0m in \u001b[0;36mtf___method_wrapper\u001b[0;34m(self, *args, **kwargs)\u001b[0m\n\u001b[1;32m     12\u001b[0m                 \u001b[0mag__\u001b[0m\u001b[0;34m.\u001b[0m\u001b[0mld\u001b[0m\u001b[0;34m(\u001b[0m\u001b[0mself\u001b[0m\u001b[0;34m)\u001b[0m\u001b[0;34m.\u001b[0m\u001b[0m_self_setattr_tracking\u001b[0m \u001b[0;34m=\u001b[0m \u001b[0;32mFalse\u001b[0m\u001b[0;34m\u001b[0m\u001b[0;34m\u001b[0m\u001b[0m\n\u001b[1;32m     13\u001b[0m                 \u001b[0;32mtry\u001b[0m\u001b[0;34m:\u001b[0m\u001b[0;34m\u001b[0m\u001b[0;34m\u001b[0m\u001b[0m\n\u001b[0;32m---> 14\u001b[0;31m                     \u001b[0mresult\u001b[0m \u001b[0;34m=\u001b[0m \u001b[0mag__\u001b[0m\u001b[0;34m.\u001b[0m\u001b[0mconverted_call\u001b[0m\u001b[0;34m(\u001b[0m\u001b[0mag__\u001b[0m\u001b[0;34m.\u001b[0m\u001b[0mld\u001b[0m\u001b[0;34m(\u001b[0m\u001b[0mmethod\u001b[0m\u001b[0;34m)\u001b[0m\u001b[0;34m,\u001b[0m \u001b[0;34m(\u001b[0m\u001b[0;34m(\u001b[0m\u001b[0mag__\u001b[0m\u001b[0;34m.\u001b[0m\u001b[0mld\u001b[0m\u001b[0;34m(\u001b[0m\u001b[0mself\u001b[0m\u001b[0;34m)\u001b[0m\u001b[0;34m,\u001b[0m\u001b[0;34m)\u001b[0m \u001b[0;34m+\u001b[0m \u001b[0mtuple\u001b[0m\u001b[0;34m(\u001b[0m\u001b[0mag__\u001b[0m\u001b[0;34m.\u001b[0m\u001b[0mld\u001b[0m\u001b[0;34m(\u001b[0m\u001b[0margs\u001b[0m\u001b[0;34m)\u001b[0m\u001b[0;34m)\u001b[0m\u001b[0;34m)\u001b[0m\u001b[0;34m,\u001b[0m \u001b[0mdict\u001b[0m\u001b[0;34m(\u001b[0m\u001b[0;34m**\u001b[0m\u001b[0mag__\u001b[0m\u001b[0;34m.\u001b[0m\u001b[0mld\u001b[0m\u001b[0;34m(\u001b[0m\u001b[0mkwargs\u001b[0m\u001b[0;34m)\u001b[0m\u001b[0;34m)\u001b[0m\u001b[0;34m,\u001b[0m \u001b[0mfscope\u001b[0m\u001b[0;34m)\u001b[0m\u001b[0;34m\u001b[0m\u001b[0;34m\u001b[0m\u001b[0m\n\u001b[0m\u001b[1;32m     15\u001b[0m                 \u001b[0;32mfinally\u001b[0m\u001b[0;34m:\u001b[0m\u001b[0;34m\u001b[0m\u001b[0;34m\u001b[0m\u001b[0m\n\u001b[1;32m     16\u001b[0m                     \u001b[0mag__\u001b[0m\u001b[0;34m.\u001b[0m\u001b[0mld\u001b[0m\u001b[0;34m(\u001b[0m\u001b[0mself\u001b[0m\u001b[0;34m)\u001b[0m\u001b[0;34m.\u001b[0m\u001b[0m_self_setattr_tracking\u001b[0m \u001b[0;34m=\u001b[0m \u001b[0mag__\u001b[0m\u001b[0;34m.\u001b[0m\u001b[0mld\u001b[0m\u001b[0;34m(\u001b[0m\u001b[0mprevious_value\u001b[0m\u001b[0;34m)\u001b[0m\u001b[0;34m\u001b[0m\u001b[0;34m\u001b[0m\u001b[0m\n",
      "\u001b[0;32m~/opt/anaconda3/lib/python3.8/site-packages/tensorflow_decision_forests/keras/core.py\u001b[0m in \u001b[0;36mtf__collect_data_step\u001b[0;34m(self, data, is_training_example)\u001b[0m\n\u001b[1;32m    381\u001b[0m                 \u001b[0mag__\u001b[0m\u001b[0;34m.\u001b[0m\u001b[0mif_stmt\u001b[0m\u001b[0;34m(\u001b[0m\u001b[0mag__\u001b[0m\u001b[0;34m.\u001b[0m\u001b[0mld\u001b[0m\u001b[0;34m(\u001b[0m\u001b[0mis_training_example\u001b[0m\u001b[0;34m)\u001b[0m\u001b[0;34m,\u001b[0m \u001b[0mif_body_25\u001b[0m\u001b[0;34m,\u001b[0m \u001b[0melse_body_25\u001b[0m\u001b[0;34m,\u001b[0m \u001b[0mget_state_25\u001b[0m\u001b[0;34m,\u001b[0m \u001b[0mset_state_25\u001b[0m\u001b[0;34m,\u001b[0m \u001b[0;34m(\u001b[0m\u001b[0;34m'self._has_validation_dataset'\u001b[0m\u001b[0;34m,\u001b[0m \u001b[0;34m'self._semantics'\u001b[0m\u001b[0;34m)\u001b[0m\u001b[0;34m,\u001b[0m \u001b[0;36m2\u001b[0m\u001b[0;34m)\u001b[0m\u001b[0;34m\u001b[0m\u001b[0;34m\u001b[0m\u001b[0m\n\u001b[1;32m    382\u001b[0m                 \u001b[0msemantic_inputs\u001b[0m \u001b[0;34m=\u001b[0m \u001b[0mag__\u001b[0m\u001b[0;34m.\u001b[0m\u001b[0mconverted_call\u001b[0m\u001b[0;34m(\u001b[0m\u001b[0mag__\u001b[0m\u001b[0;34m.\u001b[0m\u001b[0mld\u001b[0m\u001b[0;34m(\u001b[0m\u001b[0mtf_core\u001b[0m\u001b[0;34m)\u001b[0m\u001b[0;34m.\u001b[0m\u001b[0mcombine_tensors_and_semantics\u001b[0m\u001b[0;34m,\u001b[0m \u001b[0;34m(\u001b[0m\u001b[0mag__\u001b[0m\u001b[0;34m.\u001b[0m\u001b[0mld\u001b[0m\u001b[0;34m(\u001b[0m\u001b[0mtrain_x\u001b[0m\u001b[0;34m)\u001b[0m\u001b[0;34m,\u001b[0m \u001b[0mag__\u001b[0m\u001b[0;34m.\u001b[0m\u001b[0mld\u001b[0m\u001b[0;34m(\u001b[0m\u001b[0msemantics\u001b[0m\u001b[0;34m)\u001b[0m\u001b[0;34m)\u001b[0m\u001b[0;34m,\u001b[0m \u001b[0;32mNone\u001b[0m\u001b[0;34m,\u001b[0m \u001b[0mfscope\u001b[0m\u001b[0;34m)\u001b[0m\u001b[0;34m\u001b[0m\u001b[0;34m\u001b[0m\u001b[0m\n\u001b[0;32m--> 383\u001b[0;31m                 \u001b[0mnormalized_semantic_inputs\u001b[0m \u001b[0;34m=\u001b[0m \u001b[0mag__\u001b[0m\u001b[0;34m.\u001b[0m\u001b[0mconverted_call\u001b[0m\u001b[0;34m(\u001b[0m\u001b[0mag__\u001b[0m\u001b[0;34m.\u001b[0m\u001b[0mld\u001b[0m\u001b[0;34m(\u001b[0m\u001b[0mtf_core\u001b[0m\u001b[0;34m)\u001b[0m\u001b[0;34m.\u001b[0m\u001b[0mnormalize_inputs\u001b[0m\u001b[0;34m,\u001b[0m \u001b[0;34m(\u001b[0m\u001b[0mag__\u001b[0m\u001b[0;34m.\u001b[0m\u001b[0mld\u001b[0m\u001b[0;34m(\u001b[0m\u001b[0msemantic_inputs\u001b[0m\u001b[0;34m)\u001b[0m\u001b[0;34m,\u001b[0m\u001b[0;34m)\u001b[0m\u001b[0;34m,\u001b[0m \u001b[0mdict\u001b[0m\u001b[0;34m(\u001b[0m\u001b[0mcategorical_integer_offset_correction\u001b[0m\u001b[0;34m=\u001b[0m\u001b[0mag__\u001b[0m\u001b[0;34m.\u001b[0m\u001b[0mnot_\u001b[0m\u001b[0;34m(\u001b[0m\u001b[0mag__\u001b[0m\u001b[0;34m.\u001b[0m\u001b[0mld\u001b[0m\u001b[0;34m(\u001b[0m\u001b[0mself\u001b[0m\u001b[0;34m)\u001b[0m\u001b[0;34m.\u001b[0m\u001b[0m_advanced_arguments\u001b[0m\u001b[0;34m.\u001b[0m\u001b[0mdisable_categorical_integer_offset_correction\u001b[0m\u001b[0;34m)\u001b[0m\u001b[0;34m)\u001b[0m\u001b[0;34m,\u001b[0m \u001b[0mfscope\u001b[0m\u001b[0;34m)\u001b[0m\u001b[0;34m\u001b[0m\u001b[0;34m\u001b[0m\u001b[0m\n\u001b[0m\u001b[1;32m    384\u001b[0m \u001b[0;34m\u001b[0m\u001b[0m\n\u001b[1;32m    385\u001b[0m                 \u001b[0;32mdef\u001b[0m \u001b[0mget_state_26\u001b[0m\u001b[0;34m(\u001b[0m\u001b[0;34m)\u001b[0m\u001b[0;34m:\u001b[0m\u001b[0;34m\u001b[0m\u001b[0;34m\u001b[0m\u001b[0m\n",
      "\u001b[0;32m~/opt/anaconda3/lib/python3.8/site-packages/tensorflow_decision_forests/tensorflow/core_inference.py\u001b[0m in \u001b[0;36mtf__normalize_inputs\u001b[0;34m(inputs, categorical_integer_offset_correction)\u001b[0m\n\u001b[1;32m    185\u001b[0m                 \u001b[0msemantic_tensor\u001b[0m \u001b[0;34m=\u001b[0m \u001b[0mag__\u001b[0m\u001b[0;34m.\u001b[0m\u001b[0mUndefined\u001b[0m\u001b[0;34m(\u001b[0m\u001b[0;34m'semantic_tensor'\u001b[0m\u001b[0;34m)\u001b[0m\u001b[0;34m\u001b[0m\u001b[0;34m\u001b[0m\u001b[0m\n\u001b[1;32m    186\u001b[0m                 \u001b[0mkey\u001b[0m \u001b[0;34m=\u001b[0m \u001b[0mag__\u001b[0m\u001b[0;34m.\u001b[0m\u001b[0mUndefined\u001b[0m\u001b[0;34m(\u001b[0m\u001b[0;34m'key'\u001b[0m\u001b[0;34m)\u001b[0m\u001b[0;34m\u001b[0m\u001b[0;34m\u001b[0m\u001b[0m\n\u001b[0;32m--> 187\u001b[0;31m                 \u001b[0mag__\u001b[0m\u001b[0;34m.\u001b[0m\u001b[0mfor_stmt\u001b[0m\u001b[0;34m(\u001b[0m\u001b[0mag__\u001b[0m\u001b[0;34m.\u001b[0m\u001b[0mconverted_call\u001b[0m\u001b[0;34m(\u001b[0m\u001b[0mag__\u001b[0m\u001b[0;34m.\u001b[0m\u001b[0mld\u001b[0m\u001b[0;34m(\u001b[0m\u001b[0minputs\u001b[0m\u001b[0;34m)\u001b[0m\u001b[0;34m.\u001b[0m\u001b[0mitems\u001b[0m\u001b[0;34m,\u001b[0m \u001b[0;34m(\u001b[0m\u001b[0;34m)\u001b[0m\u001b[0;34m,\u001b[0m \u001b[0;32mNone\u001b[0m\u001b[0;34m,\u001b[0m \u001b[0mfscope\u001b[0m\u001b[0;34m)\u001b[0m\u001b[0;34m,\u001b[0m \u001b[0;32mNone\u001b[0m\u001b[0;34m,\u001b[0m \u001b[0mloop_body\u001b[0m\u001b[0;34m,\u001b[0m \u001b[0mget_state_13\u001b[0m\u001b[0;34m,\u001b[0m \u001b[0mset_state_13\u001b[0m\u001b[0;34m,\u001b[0m \u001b[0;34m(\u001b[0m\u001b[0;34m)\u001b[0m\u001b[0;34m,\u001b[0m \u001b[0;34m{\u001b[0m\u001b[0;34m'iterate_names'\u001b[0m\u001b[0;34m:\u001b[0m \u001b[0;34m'(key, semantic_tensor)'\u001b[0m\u001b[0;34m}\u001b[0m\u001b[0;34m)\u001b[0m\u001b[0;34m\u001b[0m\u001b[0;34m\u001b[0m\u001b[0m\n\u001b[0m\u001b[1;32m    188\u001b[0m                 \u001b[0;32mtry\u001b[0m\u001b[0;34m:\u001b[0m\u001b[0;34m\u001b[0m\u001b[0;34m\u001b[0m\u001b[0m\n\u001b[1;32m    189\u001b[0m                     \u001b[0mdo_return\u001b[0m \u001b[0;34m=\u001b[0m \u001b[0;32mTrue\u001b[0m\u001b[0;34m\u001b[0m\u001b[0;34m\u001b[0m\u001b[0m\n",
      "\u001b[0;32m~/opt/anaconda3/lib/python3.8/site-packages/tensorflow_decision_forests/tensorflow/core_inference.py\u001b[0m in \u001b[0;36mloop_body\u001b[0;34m(itr)\u001b[0m\n\u001b[1;32m    181\u001b[0m                             \u001b[0mag__\u001b[0m\u001b[0;34m.\u001b[0m\u001b[0mif_stmt\u001b[0m\u001b[0;34m(\u001b[0m\u001b[0;34m(\u001b[0m\u001b[0mag__\u001b[0m\u001b[0;34m.\u001b[0m\u001b[0mld\u001b[0m\u001b[0;34m(\u001b[0m\u001b[0msemantic_tensor\u001b[0m\u001b[0;34m)\u001b[0m\u001b[0;34m.\u001b[0m\u001b[0msemantic\u001b[0m \u001b[0;34m==\u001b[0m \u001b[0mag__\u001b[0m\u001b[0;34m.\u001b[0m\u001b[0mld\u001b[0m\u001b[0;34m(\u001b[0m\u001b[0mSemantic\u001b[0m\u001b[0;34m)\u001b[0m\u001b[0;34m.\u001b[0m\u001b[0mCATEGORICAL_SET\u001b[0m\u001b[0;34m)\u001b[0m\u001b[0;34m,\u001b[0m \u001b[0mif_body_10\u001b[0m\u001b[0;34m,\u001b[0m \u001b[0melse_body_10\u001b[0m\u001b[0;34m,\u001b[0m \u001b[0mget_state_10\u001b[0m\u001b[0;34m,\u001b[0m \u001b[0mset_state_10\u001b[0m\u001b[0;34m,\u001b[0m \u001b[0;34m(\u001b[0m\u001b[0;34m'normalized_inputs[key]'\u001b[0m\u001b[0;34m,\u001b[0m\u001b[0;34m)\u001b[0m\u001b[0;34m,\u001b[0m \u001b[0;36m1\u001b[0m\u001b[0;34m)\u001b[0m\u001b[0;34m\u001b[0m\u001b[0;34m\u001b[0m\u001b[0m\n\u001b[1;32m    182\u001b[0m                         \u001b[0mag__\u001b[0m\u001b[0;34m.\u001b[0m\u001b[0mif_stmt\u001b[0m\u001b[0;34m(\u001b[0m\u001b[0;34m(\u001b[0m\u001b[0mag__\u001b[0m\u001b[0;34m.\u001b[0m\u001b[0mld\u001b[0m\u001b[0;34m(\u001b[0m\u001b[0msemantic_tensor\u001b[0m\u001b[0;34m)\u001b[0m\u001b[0;34m.\u001b[0m\u001b[0msemantic\u001b[0m \u001b[0;34m==\u001b[0m \u001b[0mag__\u001b[0m\u001b[0;34m.\u001b[0m\u001b[0mld\u001b[0m\u001b[0;34m(\u001b[0m\u001b[0mSemantic\u001b[0m\u001b[0;34m)\u001b[0m\u001b[0;34m.\u001b[0m\u001b[0mCATEGORICAL\u001b[0m\u001b[0;34m)\u001b[0m\u001b[0;34m,\u001b[0m \u001b[0mif_body_11\u001b[0m\u001b[0;34m,\u001b[0m \u001b[0melse_body_11\u001b[0m\u001b[0;34m,\u001b[0m \u001b[0mget_state_11\u001b[0m\u001b[0;34m,\u001b[0m \u001b[0mset_state_11\u001b[0m\u001b[0;34m,\u001b[0m \u001b[0;34m(\u001b[0m\u001b[0;34m'normalized_inputs[key]'\u001b[0m\u001b[0;34m,\u001b[0m\u001b[0;34m)\u001b[0m\u001b[0;34m,\u001b[0m \u001b[0;36m1\u001b[0m\u001b[0;34m)\u001b[0m\u001b[0;34m\u001b[0m\u001b[0;34m\u001b[0m\u001b[0m\n\u001b[0;32m--> 183\u001b[0;31m                     \u001b[0mag__\u001b[0m\u001b[0;34m.\u001b[0m\u001b[0mif_stmt\u001b[0m\u001b[0;34m(\u001b[0m\u001b[0;34m(\u001b[0m\u001b[0mag__\u001b[0m\u001b[0;34m.\u001b[0m\u001b[0mld\u001b[0m\u001b[0;34m(\u001b[0m\u001b[0msemantic_tensor\u001b[0m\u001b[0;34m)\u001b[0m\u001b[0;34m.\u001b[0m\u001b[0msemantic\u001b[0m \u001b[0;32min\u001b[0m \u001b[0;34m[\u001b[0m\u001b[0mag__\u001b[0m\u001b[0;34m.\u001b[0m\u001b[0mld\u001b[0m\u001b[0;34m(\u001b[0m\u001b[0mSemantic\u001b[0m\u001b[0;34m)\u001b[0m\u001b[0;34m.\u001b[0m\u001b[0mNUMERICAL\u001b[0m\u001b[0;34m,\u001b[0m \u001b[0mag__\u001b[0m\u001b[0;34m.\u001b[0m\u001b[0mld\u001b[0m\u001b[0;34m(\u001b[0m\u001b[0mSemantic\u001b[0m\u001b[0;34m)\u001b[0m\u001b[0;34m.\u001b[0m\u001b[0mDISCRETIZED_NUMERICAL\u001b[0m\u001b[0;34m]\u001b[0m\u001b[0;34m)\u001b[0m\u001b[0;34m,\u001b[0m \u001b[0mif_body_12\u001b[0m\u001b[0;34m,\u001b[0m \u001b[0melse_body_12\u001b[0m\u001b[0;34m,\u001b[0m \u001b[0mget_state_12\u001b[0m\u001b[0;34m,\u001b[0m \u001b[0mset_state_12\u001b[0m\u001b[0;34m,\u001b[0m \u001b[0;34m(\u001b[0m\u001b[0;34m'normalized_inputs[key]'\u001b[0m\u001b[0;34m,\u001b[0m\u001b[0;34m)\u001b[0m\u001b[0;34m,\u001b[0m \u001b[0;36m1\u001b[0m\u001b[0;34m)\u001b[0m\u001b[0;34m\u001b[0m\u001b[0;34m\u001b[0m\u001b[0m\n\u001b[0m\u001b[1;32m    184\u001b[0m                 \u001b[0mvalue\u001b[0m \u001b[0;34m=\u001b[0m \u001b[0mag__\u001b[0m\u001b[0;34m.\u001b[0m\u001b[0mUndefined\u001b[0m\u001b[0;34m(\u001b[0m\u001b[0;34m'value'\u001b[0m\u001b[0;34m)\u001b[0m\u001b[0;34m\u001b[0m\u001b[0;34m\u001b[0m\u001b[0m\n\u001b[1;32m    185\u001b[0m                 \u001b[0msemantic_tensor\u001b[0m \u001b[0;34m=\u001b[0m \u001b[0mag__\u001b[0m\u001b[0;34m.\u001b[0m\u001b[0mUndefined\u001b[0m\u001b[0;34m(\u001b[0m\u001b[0;34m'semantic_tensor'\u001b[0m\u001b[0;34m)\u001b[0m\u001b[0;34m\u001b[0m\u001b[0;34m\u001b[0m\u001b[0m\n",
      "\u001b[0;32m~/opt/anaconda3/lib/python3.8/site-packages/tensorflow_decision_forests/tensorflow/core_inference.py\u001b[0m in \u001b[0;36melse_body_12\u001b[0;34m()\u001b[0m\n\u001b[1;32m    180\u001b[0m                                 \u001b[0mag__\u001b[0m\u001b[0;34m.\u001b[0m\u001b[0mif_stmt\u001b[0m\u001b[0;34m(\u001b[0m\u001b[0;34m(\u001b[0m\u001b[0mag__\u001b[0m\u001b[0;34m.\u001b[0m\u001b[0mld\u001b[0m\u001b[0;34m(\u001b[0m\u001b[0msemantic_tensor\u001b[0m\u001b[0;34m)\u001b[0m\u001b[0;34m.\u001b[0m\u001b[0msemantic\u001b[0m \u001b[0;34m==\u001b[0m \u001b[0mag__\u001b[0m\u001b[0;34m.\u001b[0m\u001b[0mld\u001b[0m\u001b[0;34m(\u001b[0m\u001b[0mSemantic\u001b[0m\u001b[0;34m)\u001b[0m\u001b[0;34m.\u001b[0m\u001b[0mHASH\u001b[0m\u001b[0;34m)\u001b[0m\u001b[0;34m,\u001b[0m \u001b[0mif_body_9\u001b[0m\u001b[0;34m,\u001b[0m \u001b[0melse_body_9\u001b[0m\u001b[0;34m,\u001b[0m \u001b[0mget_state_9\u001b[0m\u001b[0;34m,\u001b[0m \u001b[0mset_state_9\u001b[0m\u001b[0;34m,\u001b[0m \u001b[0;34m(\u001b[0m\u001b[0;34m)\u001b[0m\u001b[0;34m,\u001b[0m \u001b[0;36m0\u001b[0m\u001b[0;34m)\u001b[0m\u001b[0;34m\u001b[0m\u001b[0;34m\u001b[0m\u001b[0m\n\u001b[1;32m    181\u001b[0m                             \u001b[0mag__\u001b[0m\u001b[0;34m.\u001b[0m\u001b[0mif_stmt\u001b[0m\u001b[0;34m(\u001b[0m\u001b[0;34m(\u001b[0m\u001b[0mag__\u001b[0m\u001b[0;34m.\u001b[0m\u001b[0mld\u001b[0m\u001b[0;34m(\u001b[0m\u001b[0msemantic_tensor\u001b[0m\u001b[0;34m)\u001b[0m\u001b[0;34m.\u001b[0m\u001b[0msemantic\u001b[0m \u001b[0;34m==\u001b[0m \u001b[0mag__\u001b[0m\u001b[0;34m.\u001b[0m\u001b[0mld\u001b[0m\u001b[0;34m(\u001b[0m\u001b[0mSemantic\u001b[0m\u001b[0;34m)\u001b[0m\u001b[0;34m.\u001b[0m\u001b[0mCATEGORICAL_SET\u001b[0m\u001b[0;34m)\u001b[0m\u001b[0;34m,\u001b[0m \u001b[0mif_body_10\u001b[0m\u001b[0;34m,\u001b[0m \u001b[0melse_body_10\u001b[0m\u001b[0;34m,\u001b[0m \u001b[0mget_state_10\u001b[0m\u001b[0;34m,\u001b[0m \u001b[0mset_state_10\u001b[0m\u001b[0;34m,\u001b[0m \u001b[0;34m(\u001b[0m\u001b[0;34m'normalized_inputs[key]'\u001b[0m\u001b[0;34m,\u001b[0m\u001b[0;34m)\u001b[0m\u001b[0;34m,\u001b[0m \u001b[0;36m1\u001b[0m\u001b[0;34m)\u001b[0m\u001b[0;34m\u001b[0m\u001b[0;34m\u001b[0m\u001b[0m\n\u001b[0;32m--> 182\u001b[0;31m                         \u001b[0mag__\u001b[0m\u001b[0;34m.\u001b[0m\u001b[0mif_stmt\u001b[0m\u001b[0;34m(\u001b[0m\u001b[0;34m(\u001b[0m\u001b[0mag__\u001b[0m\u001b[0;34m.\u001b[0m\u001b[0mld\u001b[0m\u001b[0;34m(\u001b[0m\u001b[0msemantic_tensor\u001b[0m\u001b[0;34m)\u001b[0m\u001b[0;34m.\u001b[0m\u001b[0msemantic\u001b[0m \u001b[0;34m==\u001b[0m \u001b[0mag__\u001b[0m\u001b[0;34m.\u001b[0m\u001b[0mld\u001b[0m\u001b[0;34m(\u001b[0m\u001b[0mSemantic\u001b[0m\u001b[0;34m)\u001b[0m\u001b[0;34m.\u001b[0m\u001b[0mCATEGORICAL\u001b[0m\u001b[0;34m)\u001b[0m\u001b[0;34m,\u001b[0m \u001b[0mif_body_11\u001b[0m\u001b[0;34m,\u001b[0m \u001b[0melse_body_11\u001b[0m\u001b[0;34m,\u001b[0m \u001b[0mget_state_11\u001b[0m\u001b[0;34m,\u001b[0m \u001b[0mset_state_11\u001b[0m\u001b[0;34m,\u001b[0m \u001b[0;34m(\u001b[0m\u001b[0;34m'normalized_inputs[key]'\u001b[0m\u001b[0;34m,\u001b[0m\u001b[0;34m)\u001b[0m\u001b[0;34m,\u001b[0m \u001b[0;36m1\u001b[0m\u001b[0;34m)\u001b[0m\u001b[0;34m\u001b[0m\u001b[0;34m\u001b[0m\u001b[0m\n\u001b[0m\u001b[1;32m    183\u001b[0m                     \u001b[0mag__\u001b[0m\u001b[0;34m.\u001b[0m\u001b[0mif_stmt\u001b[0m\u001b[0;34m(\u001b[0m\u001b[0;34m(\u001b[0m\u001b[0mag__\u001b[0m\u001b[0;34m.\u001b[0m\u001b[0mld\u001b[0m\u001b[0;34m(\u001b[0m\u001b[0msemantic_tensor\u001b[0m\u001b[0;34m)\u001b[0m\u001b[0;34m.\u001b[0m\u001b[0msemantic\u001b[0m \u001b[0;32min\u001b[0m \u001b[0;34m[\u001b[0m\u001b[0mag__\u001b[0m\u001b[0;34m.\u001b[0m\u001b[0mld\u001b[0m\u001b[0;34m(\u001b[0m\u001b[0mSemantic\u001b[0m\u001b[0;34m)\u001b[0m\u001b[0;34m.\u001b[0m\u001b[0mNUMERICAL\u001b[0m\u001b[0;34m,\u001b[0m \u001b[0mag__\u001b[0m\u001b[0;34m.\u001b[0m\u001b[0mld\u001b[0m\u001b[0;34m(\u001b[0m\u001b[0mSemantic\u001b[0m\u001b[0;34m)\u001b[0m\u001b[0;34m.\u001b[0m\u001b[0mDISCRETIZED_NUMERICAL\u001b[0m\u001b[0;34m]\u001b[0m\u001b[0;34m)\u001b[0m\u001b[0;34m,\u001b[0m \u001b[0mif_body_12\u001b[0m\u001b[0;34m,\u001b[0m \u001b[0melse_body_12\u001b[0m\u001b[0;34m,\u001b[0m \u001b[0mget_state_12\u001b[0m\u001b[0;34m,\u001b[0m \u001b[0mset_state_12\u001b[0m\u001b[0;34m,\u001b[0m \u001b[0;34m(\u001b[0m\u001b[0;34m'normalized_inputs[key]'\u001b[0m\u001b[0;34m,\u001b[0m\u001b[0;34m)\u001b[0m\u001b[0;34m,\u001b[0m \u001b[0;36m1\u001b[0m\u001b[0;34m)\u001b[0m\u001b[0;34m\u001b[0m\u001b[0;34m\u001b[0m\u001b[0m\n\u001b[1;32m    184\u001b[0m                 \u001b[0mvalue\u001b[0m \u001b[0;34m=\u001b[0m \u001b[0mag__\u001b[0m\u001b[0;34m.\u001b[0m\u001b[0mUndefined\u001b[0m\u001b[0;34m(\u001b[0m\u001b[0;34m'value'\u001b[0m\u001b[0;34m)\u001b[0m\u001b[0;34m\u001b[0m\u001b[0;34m\u001b[0m\u001b[0m\n",
      "\u001b[0;32m~/opt/anaconda3/lib/python3.8/site-packages/tensorflow_decision_forests/tensorflow/core_inference.py\u001b[0m in \u001b[0;36mif_body_11\u001b[0;34m()\u001b[0m\n\u001b[1;32m     75\u001b[0m                                     \u001b[0;32mraise\u001b[0m \u001b[0mag__\u001b[0m\u001b[0;34m.\u001b[0m\u001b[0mconverted_call\u001b[0m\u001b[0;34m(\u001b[0m\u001b[0mag__\u001b[0m\u001b[0;34m.\u001b[0m\u001b[0mld\u001b[0m\u001b[0;34m(\u001b[0m\u001b[0mValueError\u001b[0m\u001b[0;34m)\u001b[0m\u001b[0;34m,\u001b[0m \u001b[0;34m(\u001b[0m\u001b[0mag__\u001b[0m\u001b[0;34m.\u001b[0m\u001b[0mconverted_call\u001b[0m\u001b[0;34m(\u001b[0m\u001b[0;34m'Non supported tensor dtype {} for semantic {} of feature {}'\u001b[0m\u001b[0;34m.\u001b[0m\u001b[0mformat\u001b[0m\u001b[0;34m,\u001b[0m \u001b[0;34m(\u001b[0m\u001b[0mag__\u001b[0m\u001b[0;34m.\u001b[0m\u001b[0mld\u001b[0m\u001b[0;34m(\u001b[0m\u001b[0msemantic_tensor\u001b[0m\u001b[0;34m)\u001b[0m\u001b[0;34m.\u001b[0m\u001b[0mtensor\u001b[0m\u001b[0;34m.\u001b[0m\u001b[0mdtype\u001b[0m\u001b[0;34m,\u001b[0m \u001b[0mag__\u001b[0m\u001b[0;34m.\u001b[0m\u001b[0mld\u001b[0m\u001b[0;34m(\u001b[0m\u001b[0msemantic_tensor\u001b[0m\u001b[0;34m)\u001b[0m\u001b[0;34m.\u001b[0m\u001b[0msemantic\u001b[0m\u001b[0;34m,\u001b[0m \u001b[0mag__\u001b[0m\u001b[0;34m.\u001b[0m\u001b[0mld\u001b[0m\u001b[0;34m(\u001b[0m\u001b[0mkey\u001b[0m\u001b[0;34m)\u001b[0m\u001b[0;34m)\u001b[0m\u001b[0;34m,\u001b[0m \u001b[0;32mNone\u001b[0m\u001b[0;34m,\u001b[0m \u001b[0mfscope\u001b[0m\u001b[0;34m)\u001b[0m\u001b[0;34m,\u001b[0m\u001b[0;34m)\u001b[0m\u001b[0;34m,\u001b[0m \u001b[0;32mNone\u001b[0m\u001b[0;34m,\u001b[0m \u001b[0mfscope\u001b[0m\u001b[0;34m)\u001b[0m\u001b[0;34m\u001b[0m\u001b[0;34m\u001b[0m\u001b[0m\n\u001b[1;32m     76\u001b[0m                                 \u001b[0mag__\u001b[0m\u001b[0;34m.\u001b[0m\u001b[0mif_stmt\u001b[0m\u001b[0;34m(\u001b[0m\u001b[0;34m(\u001b[0m\u001b[0mag__\u001b[0m\u001b[0;34m.\u001b[0m\u001b[0mld\u001b[0m\u001b[0;34m(\u001b[0m\u001b[0msemantic_tensor\u001b[0m\u001b[0;34m)\u001b[0m\u001b[0;34m.\u001b[0m\u001b[0mtensor\u001b[0m\u001b[0;34m.\u001b[0m\u001b[0mdtype\u001b[0m \u001b[0;32min\u001b[0m \u001b[0mag__\u001b[0m\u001b[0;34m.\u001b[0m\u001b[0mld\u001b[0m\u001b[0;34m(\u001b[0m\u001b[0mFlexibleCategoricalIntTypes\u001b[0m\u001b[0;34m)\u001b[0m\u001b[0;34m)\u001b[0m\u001b[0;34m,\u001b[0m \u001b[0mif_body_1\u001b[0m\u001b[0;34m,\u001b[0m \u001b[0melse_body_1\u001b[0m\u001b[0;34m,\u001b[0m \u001b[0mget_state_1\u001b[0m\u001b[0;34m,\u001b[0m \u001b[0mset_state_1\u001b[0m\u001b[0;34m,\u001b[0m \u001b[0;34m(\u001b[0m\u001b[0;34m)\u001b[0m\u001b[0;34m,\u001b[0m \u001b[0;36m0\u001b[0m\u001b[0;34m)\u001b[0m\u001b[0;34m\u001b[0m\u001b[0;34m\u001b[0m\u001b[0m\n\u001b[0;32m---> 77\u001b[0;31m                             \u001b[0mag__\u001b[0m\u001b[0;34m.\u001b[0m\u001b[0mif_stmt\u001b[0m\u001b[0;34m(\u001b[0m\u001b[0;34m(\u001b[0m\u001b[0mag__\u001b[0m\u001b[0;34m.\u001b[0m\u001b[0mld\u001b[0m\u001b[0;34m(\u001b[0m\u001b[0msemantic_tensor\u001b[0m\u001b[0;34m)\u001b[0m\u001b[0;34m.\u001b[0m\u001b[0mtensor\u001b[0m\u001b[0;34m.\u001b[0m\u001b[0mdtype\u001b[0m \u001b[0;32min\u001b[0m \u001b[0mag__\u001b[0m\u001b[0;34m.\u001b[0m\u001b[0mld\u001b[0m\u001b[0;34m(\u001b[0m\u001b[0mFlexibleCategoricalStringTypes\u001b[0m\u001b[0;34m)\u001b[0m\u001b[0;34m)\u001b[0m\u001b[0;34m,\u001b[0m \u001b[0mif_body_2\u001b[0m\u001b[0;34m,\u001b[0m \u001b[0melse_body_2\u001b[0m\u001b[0;34m,\u001b[0m \u001b[0mget_state_2\u001b[0m\u001b[0;34m,\u001b[0m \u001b[0mset_state_2\u001b[0m\u001b[0;34m,\u001b[0m \u001b[0;34m(\u001b[0m\u001b[0;34m)\u001b[0m\u001b[0;34m,\u001b[0m \u001b[0;36m0\u001b[0m\u001b[0;34m)\u001b[0m\u001b[0;34m\u001b[0m\u001b[0;34m\u001b[0m\u001b[0m\n\u001b[0m\u001b[1;32m     78\u001b[0m \u001b[0;34m\u001b[0m\u001b[0m\n\u001b[1;32m     79\u001b[0m                         \u001b[0;32mdef\u001b[0m \u001b[0melse_body_11\u001b[0m\u001b[0;34m(\u001b[0m\u001b[0;34m)\u001b[0m\u001b[0;34m:\u001b[0m\u001b[0;34m\u001b[0m\u001b[0;34m\u001b[0m\u001b[0m\n",
      "\u001b[0;32m~/opt/anaconda3/lib/python3.8/site-packages/tensorflow_decision_forests/tensorflow/core_inference.py\u001b[0m in \u001b[0;36melse_body_2\u001b[0;34m()\u001b[0m\n\u001b[1;32m     74\u001b[0m                                 \u001b[0;32mdef\u001b[0m \u001b[0melse_body_1\u001b[0m\u001b[0;34m(\u001b[0m\u001b[0;34m)\u001b[0m\u001b[0;34m:\u001b[0m\u001b[0;34m\u001b[0m\u001b[0;34m\u001b[0m\u001b[0m\n\u001b[1;32m     75\u001b[0m                                     \u001b[0;32mraise\u001b[0m \u001b[0mag__\u001b[0m\u001b[0;34m.\u001b[0m\u001b[0mconverted_call\u001b[0m\u001b[0;34m(\u001b[0m\u001b[0mag__\u001b[0m\u001b[0;34m.\u001b[0m\u001b[0mld\u001b[0m\u001b[0;34m(\u001b[0m\u001b[0mValueError\u001b[0m\u001b[0;34m)\u001b[0m\u001b[0;34m,\u001b[0m \u001b[0;34m(\u001b[0m\u001b[0mag__\u001b[0m\u001b[0;34m.\u001b[0m\u001b[0mconverted_call\u001b[0m\u001b[0;34m(\u001b[0m\u001b[0;34m'Non supported tensor dtype {} for semantic {} of feature {}'\u001b[0m\u001b[0;34m.\u001b[0m\u001b[0mformat\u001b[0m\u001b[0;34m,\u001b[0m \u001b[0;34m(\u001b[0m\u001b[0mag__\u001b[0m\u001b[0;34m.\u001b[0m\u001b[0mld\u001b[0m\u001b[0;34m(\u001b[0m\u001b[0msemantic_tensor\u001b[0m\u001b[0;34m)\u001b[0m\u001b[0;34m.\u001b[0m\u001b[0mtensor\u001b[0m\u001b[0;34m.\u001b[0m\u001b[0mdtype\u001b[0m\u001b[0;34m,\u001b[0m \u001b[0mag__\u001b[0m\u001b[0;34m.\u001b[0m\u001b[0mld\u001b[0m\u001b[0;34m(\u001b[0m\u001b[0msemantic_tensor\u001b[0m\u001b[0;34m)\u001b[0m\u001b[0;34m.\u001b[0m\u001b[0msemantic\u001b[0m\u001b[0;34m,\u001b[0m \u001b[0mag__\u001b[0m\u001b[0;34m.\u001b[0m\u001b[0mld\u001b[0m\u001b[0;34m(\u001b[0m\u001b[0mkey\u001b[0m\u001b[0;34m)\u001b[0m\u001b[0;34m)\u001b[0m\u001b[0;34m,\u001b[0m \u001b[0;32mNone\u001b[0m\u001b[0;34m,\u001b[0m \u001b[0mfscope\u001b[0m\u001b[0;34m)\u001b[0m\u001b[0;34m,\u001b[0m\u001b[0;34m)\u001b[0m\u001b[0;34m,\u001b[0m \u001b[0;32mNone\u001b[0m\u001b[0;34m,\u001b[0m \u001b[0mfscope\u001b[0m\u001b[0;34m)\u001b[0m\u001b[0;34m\u001b[0m\u001b[0;34m\u001b[0m\u001b[0m\n\u001b[0;32m---> 76\u001b[0;31m                                 \u001b[0mag__\u001b[0m\u001b[0;34m.\u001b[0m\u001b[0mif_stmt\u001b[0m\u001b[0;34m(\u001b[0m\u001b[0;34m(\u001b[0m\u001b[0mag__\u001b[0m\u001b[0;34m.\u001b[0m\u001b[0mld\u001b[0m\u001b[0;34m(\u001b[0m\u001b[0msemantic_tensor\u001b[0m\u001b[0;34m)\u001b[0m\u001b[0;34m.\u001b[0m\u001b[0mtensor\u001b[0m\u001b[0;34m.\u001b[0m\u001b[0mdtype\u001b[0m \u001b[0;32min\u001b[0m \u001b[0mag__\u001b[0m\u001b[0;34m.\u001b[0m\u001b[0mld\u001b[0m\u001b[0;34m(\u001b[0m\u001b[0mFlexibleCategoricalIntTypes\u001b[0m\u001b[0;34m)\u001b[0m\u001b[0;34m)\u001b[0m\u001b[0;34m,\u001b[0m \u001b[0mif_body_1\u001b[0m\u001b[0;34m,\u001b[0m \u001b[0melse_body_1\u001b[0m\u001b[0;34m,\u001b[0m \u001b[0mget_state_1\u001b[0m\u001b[0;34m,\u001b[0m \u001b[0mset_state_1\u001b[0m\u001b[0;34m,\u001b[0m \u001b[0;34m(\u001b[0m\u001b[0;34m)\u001b[0m\u001b[0;34m,\u001b[0m \u001b[0;36m0\u001b[0m\u001b[0;34m)\u001b[0m\u001b[0;34m\u001b[0m\u001b[0;34m\u001b[0m\u001b[0m\n\u001b[0m\u001b[1;32m     77\u001b[0m                             \u001b[0mag__\u001b[0m\u001b[0;34m.\u001b[0m\u001b[0mif_stmt\u001b[0m\u001b[0;34m(\u001b[0m\u001b[0;34m(\u001b[0m\u001b[0mag__\u001b[0m\u001b[0;34m.\u001b[0m\u001b[0mld\u001b[0m\u001b[0;34m(\u001b[0m\u001b[0msemantic_tensor\u001b[0m\u001b[0;34m)\u001b[0m\u001b[0;34m.\u001b[0m\u001b[0mtensor\u001b[0m\u001b[0;34m.\u001b[0m\u001b[0mdtype\u001b[0m \u001b[0;32min\u001b[0m \u001b[0mag__\u001b[0m\u001b[0;34m.\u001b[0m\u001b[0mld\u001b[0m\u001b[0;34m(\u001b[0m\u001b[0mFlexibleCategoricalStringTypes\u001b[0m\u001b[0;34m)\u001b[0m\u001b[0;34m)\u001b[0m\u001b[0;34m,\u001b[0m \u001b[0mif_body_2\u001b[0m\u001b[0;34m,\u001b[0m \u001b[0melse_body_2\u001b[0m\u001b[0;34m,\u001b[0m \u001b[0mget_state_2\u001b[0m\u001b[0;34m,\u001b[0m \u001b[0mset_state_2\u001b[0m\u001b[0;34m,\u001b[0m \u001b[0;34m(\u001b[0m\u001b[0;34m)\u001b[0m\u001b[0;34m,\u001b[0m \u001b[0;36m0\u001b[0m\u001b[0;34m)\u001b[0m\u001b[0;34m\u001b[0m\u001b[0;34m\u001b[0m\u001b[0m\n\u001b[1;32m     78\u001b[0m \u001b[0;34m\u001b[0m\u001b[0m\n",
      "\u001b[0;32m~/opt/anaconda3/lib/python3.8/site-packages/tensorflow_decision_forests/tensorflow/core_inference.py\u001b[0m in \u001b[0;36melse_body_1\u001b[0;34m()\u001b[0m\n\u001b[1;32m     73\u001b[0m \u001b[0;34m\u001b[0m\u001b[0m\n\u001b[1;32m     74\u001b[0m                                 \u001b[0;32mdef\u001b[0m \u001b[0melse_body_1\u001b[0m\u001b[0;34m(\u001b[0m\u001b[0;34m)\u001b[0m\u001b[0;34m:\u001b[0m\u001b[0;34m\u001b[0m\u001b[0;34m\u001b[0m\u001b[0m\n\u001b[0;32m---> 75\u001b[0;31m                                     \u001b[0;32mraise\u001b[0m \u001b[0mag__\u001b[0m\u001b[0;34m.\u001b[0m\u001b[0mconverted_call\u001b[0m\u001b[0;34m(\u001b[0m\u001b[0mag__\u001b[0m\u001b[0;34m.\u001b[0m\u001b[0mld\u001b[0m\u001b[0;34m(\u001b[0m\u001b[0mValueError\u001b[0m\u001b[0;34m)\u001b[0m\u001b[0;34m,\u001b[0m \u001b[0;34m(\u001b[0m\u001b[0mag__\u001b[0m\u001b[0;34m.\u001b[0m\u001b[0mconverted_call\u001b[0m\u001b[0;34m(\u001b[0m\u001b[0;34m'Non supported tensor dtype {} for semantic {} of feature {}'\u001b[0m\u001b[0;34m.\u001b[0m\u001b[0mformat\u001b[0m\u001b[0;34m,\u001b[0m \u001b[0;34m(\u001b[0m\u001b[0mag__\u001b[0m\u001b[0;34m.\u001b[0m\u001b[0mld\u001b[0m\u001b[0;34m(\u001b[0m\u001b[0msemantic_tensor\u001b[0m\u001b[0;34m)\u001b[0m\u001b[0;34m.\u001b[0m\u001b[0mtensor\u001b[0m\u001b[0;34m.\u001b[0m\u001b[0mdtype\u001b[0m\u001b[0;34m,\u001b[0m \u001b[0mag__\u001b[0m\u001b[0;34m.\u001b[0m\u001b[0mld\u001b[0m\u001b[0;34m(\u001b[0m\u001b[0msemantic_tensor\u001b[0m\u001b[0;34m)\u001b[0m\u001b[0;34m.\u001b[0m\u001b[0msemantic\u001b[0m\u001b[0;34m,\u001b[0m \u001b[0mag__\u001b[0m\u001b[0;34m.\u001b[0m\u001b[0mld\u001b[0m\u001b[0;34m(\u001b[0m\u001b[0mkey\u001b[0m\u001b[0;34m)\u001b[0m\u001b[0;34m)\u001b[0m\u001b[0;34m,\u001b[0m \u001b[0;32mNone\u001b[0m\u001b[0;34m,\u001b[0m \u001b[0mfscope\u001b[0m\u001b[0;34m)\u001b[0m\u001b[0;34m,\u001b[0m\u001b[0;34m)\u001b[0m\u001b[0;34m,\u001b[0m \u001b[0;32mNone\u001b[0m\u001b[0;34m,\u001b[0m \u001b[0mfscope\u001b[0m\u001b[0;34m)\u001b[0m\u001b[0;34m\u001b[0m\u001b[0;34m\u001b[0m\u001b[0m\n\u001b[0m\u001b[1;32m     76\u001b[0m                                 \u001b[0mag__\u001b[0m\u001b[0;34m.\u001b[0m\u001b[0mif_stmt\u001b[0m\u001b[0;34m(\u001b[0m\u001b[0;34m(\u001b[0m\u001b[0mag__\u001b[0m\u001b[0;34m.\u001b[0m\u001b[0mld\u001b[0m\u001b[0;34m(\u001b[0m\u001b[0msemantic_tensor\u001b[0m\u001b[0;34m)\u001b[0m\u001b[0;34m.\u001b[0m\u001b[0mtensor\u001b[0m\u001b[0;34m.\u001b[0m\u001b[0mdtype\u001b[0m \u001b[0;32min\u001b[0m \u001b[0mag__\u001b[0m\u001b[0;34m.\u001b[0m\u001b[0mld\u001b[0m\u001b[0;34m(\u001b[0m\u001b[0mFlexibleCategoricalIntTypes\u001b[0m\u001b[0;34m)\u001b[0m\u001b[0;34m)\u001b[0m\u001b[0;34m,\u001b[0m \u001b[0mif_body_1\u001b[0m\u001b[0;34m,\u001b[0m \u001b[0melse_body_1\u001b[0m\u001b[0;34m,\u001b[0m \u001b[0mget_state_1\u001b[0m\u001b[0;34m,\u001b[0m \u001b[0mset_state_1\u001b[0m\u001b[0;34m,\u001b[0m \u001b[0;34m(\u001b[0m\u001b[0;34m)\u001b[0m\u001b[0;34m,\u001b[0m \u001b[0;36m0\u001b[0m\u001b[0;34m)\u001b[0m\u001b[0;34m\u001b[0m\u001b[0;34m\u001b[0m\u001b[0m\n\u001b[1;32m     77\u001b[0m                             \u001b[0mag__\u001b[0m\u001b[0;34m.\u001b[0m\u001b[0mif_stmt\u001b[0m\u001b[0;34m(\u001b[0m\u001b[0;34m(\u001b[0m\u001b[0mag__\u001b[0m\u001b[0;34m.\u001b[0m\u001b[0mld\u001b[0m\u001b[0;34m(\u001b[0m\u001b[0msemantic_tensor\u001b[0m\u001b[0;34m)\u001b[0m\u001b[0;34m.\u001b[0m\u001b[0mtensor\u001b[0m\u001b[0;34m.\u001b[0m\u001b[0mdtype\u001b[0m \u001b[0;32min\u001b[0m \u001b[0mag__\u001b[0m\u001b[0;34m.\u001b[0m\u001b[0mld\u001b[0m\u001b[0;34m(\u001b[0m\u001b[0mFlexibleCategoricalStringTypes\u001b[0m\u001b[0;34m)\u001b[0m\u001b[0;34m)\u001b[0m\u001b[0;34m,\u001b[0m \u001b[0mif_body_2\u001b[0m\u001b[0;34m,\u001b[0m \u001b[0melse_body_2\u001b[0m\u001b[0;34m,\u001b[0m \u001b[0mget_state_2\u001b[0m\u001b[0;34m,\u001b[0m \u001b[0mset_state_2\u001b[0m\u001b[0;34m,\u001b[0m \u001b[0;34m(\u001b[0m\u001b[0;34m)\u001b[0m\u001b[0;34m,\u001b[0m \u001b[0;36m0\u001b[0m\u001b[0;34m)\u001b[0m\u001b[0;34m\u001b[0m\u001b[0;34m\u001b[0m\u001b[0m\n",
      "\u001b[0;31mValueError\u001b[0m: in user code:\n\n    File \"/Users/zaiyingqi/opt/anaconda3/lib/python3.8/site-packages/tensorflow_decision_forests/keras/core.py\", line 1061, in _consumes_training_examples_until_eof  *\n        num_examples += self.train_step(data)\n    File \"/Users/zaiyingqi/opt/anaconda3/lib/python3.8/site-packages/tensorflow_decision_forests/keras/core.py\", line 549, in _method_wrapper  *\n        result = method(self, *args, **kwargs)\n    File \"/Users/zaiyingqi/opt/anaconda3/lib/python3.8/site-packages/tensorflow_decision_forests/keras/core.py\", line 550, in train_step  *\n        return self.collect_data_step(data, is_training_example=True)\n    File \"/Users/zaiyingqi/opt/anaconda3/lib/python3.8/site-packages/tensorflow_decision_forests/keras/core.py\", line 549, in _method_wrapper  *\n        result = method(self, *args, **kwargs)\n    File \"/Users/zaiyingqi/opt/anaconda3/lib/python3.8/site-packages/tensorflow_decision_forests/keras/core.py\", line 677, in collect_data_step  *\n        normalized_semantic_inputs = tf_core.normalize_inputs(\n    File \"/Users/zaiyingqi/opt/anaconda3/lib/python3.8/site-packages/tensorflow_decision_forests/tensorflow/core_inference.py\", line 221, in normalize_inputs  *\n        raise ValueError(\n\n    ValueError: Non supported tensor dtype <dtype: 'uint8'> for semantic Semantic.CATEGORICAL of feature home_ownership_MORTGAGE\n"
     ]
    }
   ],
   "source": [
    "X_train_rf = X_train.copy()\n",
    "X_train_rf['y'] = y_train\n",
    "X_test_rf = X_test.copy()\n",
    "X_test_rf['y'] = y_test\n",
    "X_test_trans = tfdf.keras.pd_dataframe_to_tf_dataset(X_test_rf, label='y')\n",
    "X_train_trans = tfdf.keras.pd_dataframe_to_tf_dataset(X_train_rf, label='y')\n",
    "model_forest = tfdf.keras.RandomForestModel(verbose = 2)\n",
    "model_forest.fit(X_train_trans)\n",
    "#model_forest.summary()\n",
    "model_forest.evaluate(X_test_trans)"
   ]
  },
  {
   "cell_type": "code",
   "execution_count": null,
   "metadata": {
    "datalore": {
     "hide_input_from_viewers": true,
     "hide_output_from_viewers": true,
     "node_id": "eHnv66FGTx8qV6zlZPEn4t",
     "type": "CODE"
    }
   },
   "outputs": [],
   "source": []
  },
  {
   "cell_type": "code",
   "execution_count": null,
   "metadata": {
    "datalore": {
     "hide_input_from_viewers": true,
     "hide_output_from_viewers": true,
     "node_id": "tHywJDZtNqdfjzhdLQpJ2C",
     "type": "CODE"
    }
   },
   "outputs": [],
   "source": []
  }
 ],
 "metadata": {
  "datalore": {
   "base_environment": "default",
   "computation_mode": "JUPYTER",
   "package_manager": "pip",
   "packages": [
    {
     "name": "tensorflow-cpu",
     "source": "PIP",
     "version": "2.11.0"
    }
   ],
   "version": 1
  },
  "kernelspec": {
   "display_name": "Python 3",
   "language": "python",
   "name": "python3"
  },
  "language_info": {
   "codemirror_mode": {
    "name": "ipython",
    "version": 3
   },
   "file_extension": ".py",
   "mimetype": "text/x-python",
   "name": "python",
   "nbconvert_exporter": "python",
   "pygments_lexer": "ipython3",
   "version": "3.8.8"
  }
 },
 "nbformat": 4,
 "nbformat_minor": 4
}
